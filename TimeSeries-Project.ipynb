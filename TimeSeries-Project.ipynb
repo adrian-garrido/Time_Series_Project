{
 "cells": [
  {
   "cell_type": "markdown",
   "metadata": {},
   "source": [
    "## WORK IN PROGRESS ##\n",
    "\n",
    "Exploratory analysis of MBTA's subway system + time series models predicting ridership and possibly a reliability analysis and comparison"
   ]
  },
  {
   "cell_type": "code",
   "execution_count": 1,
   "metadata": {},
   "outputs": [],
   "source": [
    "### Datasets downloaded from MBTA's official website at: \n",
    "\n",
    "# https://mbta-massdot.opendata.arcgis.com/datasets/mbta-average-monthly-ridership-by-mode\n",
    "# https://mbta-massdot.opendata.arcgis.com/datasets/mbta-ridership-by-season-route-line-stop-and-time-period?selectedAttribute=average_ridership"
   ]
  },
  {
   "cell_type": "code",
   "execution_count": 25,
   "metadata": {},
   "outputs": [],
   "source": [
    "### Imports\n",
    "import pandas as pd\n",
    "import plotly.express as px\n",
    "import plotly.graph_objects as go\n",
    "import matplotlib.pyplot as plt"
   ]
  },
  {
   "cell_type": "code",
   "execution_count": 4,
   "metadata": {},
   "outputs": [],
   "source": [
    "ridership_df = pd.read_csv('./datasets/MBTA_ridership_by_mode.csv')"
   ]
  },
  {
   "cell_type": "code",
   "execution_count": 5,
   "metadata": {},
   "outputs": [
    {
     "data": {
      "text/html": [
       "<div>\n",
       "<style scoped>\n",
       "    .dataframe tbody tr th:only-of-type {\n",
       "        vertical-align: middle;\n",
       "    }\n",
       "\n",
       "    .dataframe tbody tr th {\n",
       "        vertical-align: top;\n",
       "    }\n",
       "\n",
       "    .dataframe thead th {\n",
       "        text-align: right;\n",
       "    }\n",
       "</style>\n",
       "<table border=\"1\" class=\"dataframe\">\n",
       "  <thead>\n",
       "    <tr style=\"text-align: right;\">\n",
       "      <th></th>\n",
       "      <th>service_date</th>\n",
       "      <th>mode</th>\n",
       "      <th>route_or_line</th>\n",
       "      <th>total_monthly_ridership</th>\n",
       "      <th>countofdates</th>\n",
       "      <th>average_monthly_ridership</th>\n",
       "      <th>ObjectId</th>\n",
       "    </tr>\n",
       "  </thead>\n",
       "  <tbody>\n",
       "    <tr>\n",
       "      <th>0</th>\n",
       "      <td>2017-04-01T04:00:00.000Z</td>\n",
       "      <td>Bus</td>\n",
       "      <td>Bus</td>\n",
       "      <td>6911721</td>\n",
       "      <td>20</td>\n",
       "      <td>345586.1</td>\n",
       "      <td>1</td>\n",
       "    </tr>\n",
       "    <tr>\n",
       "      <th>1</th>\n",
       "      <td>2017-04-01T04:00:00.000Z</td>\n",
       "      <td>Bus</td>\n",
       "      <td>Silver Line</td>\n",
       "      <td>681787</td>\n",
       "      <td>20</td>\n",
       "      <td>34089.4</td>\n",
       "      <td>2</td>\n",
       "    </tr>\n",
       "    <tr>\n",
       "      <th>2</th>\n",
       "      <td>2017-04-01T04:00:00.000Z</td>\n",
       "      <td>Commuter Rail</td>\n",
       "      <td>Commuter Rail</td>\n",
       "      <td>2438211</td>\n",
       "      <td>20</td>\n",
       "      <td>121910.6</td>\n",
       "      <td>3</td>\n",
       "    </tr>\n",
       "    <tr>\n",
       "      <th>3</th>\n",
       "      <td>2017-04-01T04:00:00.000Z</td>\n",
       "      <td>Ferry</td>\n",
       "      <td>Boat-F1</td>\n",
       "      <td>61364</td>\n",
       "      <td>20</td>\n",
       "      <td>3068.2</td>\n",
       "      <td>4</td>\n",
       "    </tr>\n",
       "    <tr>\n",
       "      <th>4</th>\n",
       "      <td>2017-04-01T04:00:00.000Z</td>\n",
       "      <td>Ferry</td>\n",
       "      <td>Boat-F4</td>\n",
       "      <td>38199</td>\n",
       "      <td>20</td>\n",
       "      <td>1910.0</td>\n",
       "      <td>5</td>\n",
       "    </tr>\n",
       "  </tbody>\n",
       "</table>\n",
       "</div>"
      ],
      "text/plain": [
       "               service_date           mode  route_or_line  \\\n",
       "0  2017-04-01T04:00:00.000Z            Bus            Bus   \n",
       "1  2017-04-01T04:00:00.000Z            Bus    Silver Line   \n",
       "2  2017-04-01T04:00:00.000Z  Commuter Rail  Commuter Rail   \n",
       "3  2017-04-01T04:00:00.000Z          Ferry        Boat-F1   \n",
       "4  2017-04-01T04:00:00.000Z          Ferry        Boat-F4   \n",
       "\n",
       "   total_monthly_ridership  countofdates  average_monthly_ridership  ObjectId  \n",
       "0                  6911721            20                   345586.1         1  \n",
       "1                   681787            20                    34089.4         2  \n",
       "2                  2438211            20                   121910.6         3  \n",
       "3                    61364            20                     3068.2         4  \n",
       "4                    38199            20                     1910.0         5  "
      ]
     },
     "execution_count": 5,
     "metadata": {},
     "output_type": "execute_result"
    }
   ],
   "source": [
    "ridership_df.head()"
   ]
  },
  {
   "cell_type": "code",
   "execution_count": 6,
   "metadata": {},
   "outputs": [
    {
     "data": {
      "text/html": [
       "<div>\n",
       "<style scoped>\n",
       "    .dataframe tbody tr th:only-of-type {\n",
       "        vertical-align: middle;\n",
       "    }\n",
       "\n",
       "    .dataframe tbody tr th {\n",
       "        vertical-align: top;\n",
       "    }\n",
       "\n",
       "    .dataframe thead th {\n",
       "        text-align: right;\n",
       "    }\n",
       "</style>\n",
       "<table border=\"1\" class=\"dataframe\">\n",
       "  <thead>\n",
       "    <tr style=\"text-align: right;\">\n",
       "      <th></th>\n",
       "      <th>service_date</th>\n",
       "      <th>mode</th>\n",
       "      <th>route_or_line</th>\n",
       "      <th>total_monthly_ridership</th>\n",
       "      <th>countofdates</th>\n",
       "      <th>average_monthly_ridership</th>\n",
       "      <th>ObjectId</th>\n",
       "    </tr>\n",
       "  </thead>\n",
       "  <tbody>\n",
       "    <tr>\n",
       "      <th>447</th>\n",
       "      <td>2019-09-01T04:00:00.000Z</td>\n",
       "      <td>Rail</td>\n",
       "      <td>Blue Line</td>\n",
       "      <td>1528456</td>\n",
       "      <td>20</td>\n",
       "      <td>76422.8</td>\n",
       "      <td>448</td>\n",
       "    </tr>\n",
       "    <tr>\n",
       "      <th>448</th>\n",
       "      <td>2019-09-01T04:00:00.000Z</td>\n",
       "      <td>Rail</td>\n",
       "      <td>Green Line</td>\n",
       "      <td>3179038</td>\n",
       "      <td>20</td>\n",
       "      <td>158951.9</td>\n",
       "      <td>449</td>\n",
       "    </tr>\n",
       "    <tr>\n",
       "      <th>449</th>\n",
       "      <td>2019-09-01T04:00:00.000Z</td>\n",
       "      <td>Rail</td>\n",
       "      <td>Orange Line</td>\n",
       "      <td>4311143</td>\n",
       "      <td>20</td>\n",
       "      <td>215557.2</td>\n",
       "      <td>450</td>\n",
       "    </tr>\n",
       "    <tr>\n",
       "      <th>450</th>\n",
       "      <td>2019-09-01T04:00:00.000Z</td>\n",
       "      <td>Rail</td>\n",
       "      <td>Red Line</td>\n",
       "      <td>4915753</td>\n",
       "      <td>20</td>\n",
       "      <td>245787.7</td>\n",
       "      <td>451</td>\n",
       "    </tr>\n",
       "    <tr>\n",
       "      <th>451</th>\n",
       "      <td>2019-09-01T04:00:00.000Z</td>\n",
       "      <td>The RIDE</td>\n",
       "      <td>The RIDE</td>\n",
       "      <td>121197</td>\n",
       "      <td>20</td>\n",
       "      <td>6059.9</td>\n",
       "      <td>452</td>\n",
       "    </tr>\n",
       "  </tbody>\n",
       "</table>\n",
       "</div>"
      ],
      "text/plain": [
       "                 service_date      mode route_or_line  \\\n",
       "447  2019-09-01T04:00:00.000Z      Rail     Blue Line   \n",
       "448  2019-09-01T04:00:00.000Z      Rail    Green Line   \n",
       "449  2019-09-01T04:00:00.000Z      Rail   Orange Line   \n",
       "450  2019-09-01T04:00:00.000Z      Rail      Red Line   \n",
       "451  2019-09-01T04:00:00.000Z  The RIDE      The RIDE   \n",
       "\n",
       "     total_monthly_ridership  countofdates  average_monthly_ridership  \\\n",
       "447                  1528456            20                    76422.8   \n",
       "448                  3179038            20                   158951.9   \n",
       "449                  4311143            20                   215557.2   \n",
       "450                  4915753            20                   245787.7   \n",
       "451                   121197            20                     6059.9   \n",
       "\n",
       "     ObjectId  \n",
       "447       448  \n",
       "448       449  \n",
       "449       450  \n",
       "450       451  \n",
       "451       452  "
      ]
     },
     "execution_count": 6,
     "metadata": {},
     "output_type": "execute_result"
    }
   ],
   "source": [
    "ridership_df.tail()"
   ]
  },
  {
   "cell_type": "code",
   "execution_count": 7,
   "metadata": {},
   "outputs": [
    {
     "data": {
      "text/plain": [
       "array(['Bus', 'Silver Line', 'Commuter Rail', 'Boat-F1', 'Boat-F4',\n",
       "       'Blue Line', 'Green Line', 'Orange Line', 'Red Line', 'The RIDE'],\n",
       "      dtype=object)"
      ]
     },
     "execution_count": 7,
     "metadata": {},
     "output_type": "execute_result"
    }
   ],
   "source": [
    "ridership_df['route_or_line'].unique()"
   ]
  },
  {
   "cell_type": "code",
   "execution_count": 8,
   "metadata": {},
   "outputs": [
    {
     "data": {
      "text/plain": [
       "(225, 7)"
      ]
     },
     "execution_count": 8,
     "metadata": {},
     "output_type": "execute_result"
    }
   ],
   "source": [
    "# number of entries that contain data on MBTA's subway\n",
    "(ridership_df.loc[ridership_df['route_or_line'].isin(['Blue Line','Red Line', 'Silver Line', 'Green Line', 'Orange Line'])]).shape"
   ]
  },
  {
   "cell_type": "code",
   "execution_count": 9,
   "metadata": {},
   "outputs": [],
   "source": [
    "sub_df = ridership_df.loc[ridership_df['route_or_line'].isin(['Blue Line','Red Line', 'Silver Line', 'Green Line', 'Orange Line'])]"
   ]
  },
  {
   "cell_type": "code",
   "execution_count": 115,
   "metadata": {},
   "outputs": [
    {
     "data": {
      "text/html": [
       "<div>\n",
       "<style scoped>\n",
       "    .dataframe tbody tr th:only-of-type {\n",
       "        vertical-align: middle;\n",
       "    }\n",
       "\n",
       "    .dataframe tbody tr th {\n",
       "        vertical-align: top;\n",
       "    }\n",
       "\n",
       "    .dataframe thead th {\n",
       "        text-align: right;\n",
       "    }\n",
       "</style>\n",
       "<table border=\"1\" class=\"dataframe\">\n",
       "  <thead>\n",
       "    <tr style=\"text-align: right;\">\n",
       "      <th></th>\n",
       "      <th>index</th>\n",
       "      <th>service_date</th>\n",
       "      <th>mode</th>\n",
       "      <th>route_or_line</th>\n",
       "      <th>total_monthly_ridership</th>\n",
       "      <th>countofdates</th>\n",
       "      <th>average_monthly_ridership</th>\n",
       "      <th>ObjectId</th>\n",
       "      <th>first_diff_avg_ridership</th>\n",
       "      <th>second_diff_avg_ridership</th>\n",
       "    </tr>\n",
       "  </thead>\n",
       "  <tbody>\n",
       "    <tr>\n",
       "      <th>0</th>\n",
       "      <td>158</td>\n",
       "      <td>2016-01-01T05:00:00.000Z</td>\n",
       "      <td>Rail</td>\n",
       "      <td>Red Line</td>\n",
       "      <td>4738658</td>\n",
       "      <td>19</td>\n",
       "      <td>249403.1</td>\n",
       "      <td>159</td>\n",
       "      <td>NaN</td>\n",
       "      <td>NaN</td>\n",
       "    </tr>\n",
       "    <tr>\n",
       "      <th>1</th>\n",
       "      <td>151</td>\n",
       "      <td>2016-01-01T05:00:00.000Z</td>\n",
       "      <td>Bus</td>\n",
       "      <td>Silver Line</td>\n",
       "      <td>669761</td>\n",
       "      <td>19</td>\n",
       "      <td>35250.6</td>\n",
       "      <td>152</td>\n",
       "      <td>-214152.5</td>\n",
       "      <td>NaN</td>\n",
       "    </tr>\n",
       "    <tr>\n",
       "      <th>2</th>\n",
       "      <td>155</td>\n",
       "      <td>2016-01-01T05:00:00.000Z</td>\n",
       "      <td>Rail</td>\n",
       "      <td>Blue Line</td>\n",
       "      <td>1142850</td>\n",
       "      <td>19</td>\n",
       "      <td>60150.0</td>\n",
       "      <td>156</td>\n",
       "      <td>24899.4</td>\n",
       "      <td>239051.9</td>\n",
       "    </tr>\n",
       "    <tr>\n",
       "      <th>3</th>\n",
       "      <td>156</td>\n",
       "      <td>2016-01-01T05:00:00.000Z</td>\n",
       "      <td>Rail</td>\n",
       "      <td>Green Line</td>\n",
       "      <td>3366005</td>\n",
       "      <td>19</td>\n",
       "      <td>177158.2</td>\n",
       "      <td>157</td>\n",
       "      <td>117008.2</td>\n",
       "      <td>92108.8</td>\n",
       "    </tr>\n",
       "    <tr>\n",
       "      <th>4</th>\n",
       "      <td>157</td>\n",
       "      <td>2016-01-01T05:00:00.000Z</td>\n",
       "      <td>Rail</td>\n",
       "      <td>Orange Line</td>\n",
       "      <td>4110859</td>\n",
       "      <td>19</td>\n",
       "      <td>216361.0</td>\n",
       "      <td>158</td>\n",
       "      <td>39202.8</td>\n",
       "      <td>-77805.4</td>\n",
       "    </tr>\n",
       "    <tr>\n",
       "      <th>5</th>\n",
       "      <td>161</td>\n",
       "      <td>2016-02-01T05:00:00.000Z</td>\n",
       "      <td>Bus</td>\n",
       "      <td>Silver Line</td>\n",
       "      <td>730265</td>\n",
       "      <td>20</td>\n",
       "      <td>36513.3</td>\n",
       "      <td>162</td>\n",
       "      <td>-179847.7</td>\n",
       "      <td>-219050.5</td>\n",
       "    </tr>\n",
       "    <tr>\n",
       "      <th>6</th>\n",
       "      <td>165</td>\n",
       "      <td>2016-02-01T05:00:00.000Z</td>\n",
       "      <td>Rail</td>\n",
       "      <td>Blue Line</td>\n",
       "      <td>1220639</td>\n",
       "      <td>20</td>\n",
       "      <td>61032.0</td>\n",
       "      <td>166</td>\n",
       "      <td>24518.7</td>\n",
       "      <td>204366.4</td>\n",
       "    </tr>\n",
       "    <tr>\n",
       "      <th>7</th>\n",
       "      <td>167</td>\n",
       "      <td>2016-02-01T05:00:00.000Z</td>\n",
       "      <td>Rail</td>\n",
       "      <td>Orange Line</td>\n",
       "      <td>4379649</td>\n",
       "      <td>20</td>\n",
       "      <td>218982.5</td>\n",
       "      <td>168</td>\n",
       "      <td>157950.5</td>\n",
       "      <td>133431.8</td>\n",
       "    </tr>\n",
       "    <tr>\n",
       "      <th>8</th>\n",
       "      <td>168</td>\n",
       "      <td>2016-02-01T05:00:00.000Z</td>\n",
       "      <td>Rail</td>\n",
       "      <td>Red Line</td>\n",
       "      <td>5132032</td>\n",
       "      <td>20</td>\n",
       "      <td>256601.6</td>\n",
       "      <td>169</td>\n",
       "      <td>37619.1</td>\n",
       "      <td>-120331.4</td>\n",
       "    </tr>\n",
       "    <tr>\n",
       "      <th>9</th>\n",
       "      <td>166</td>\n",
       "      <td>2016-02-01T05:00:00.000Z</td>\n",
       "      <td>Rail</td>\n",
       "      <td>Green Line</td>\n",
       "      <td>3752289</td>\n",
       "      <td>20</td>\n",
       "      <td>187614.4</td>\n",
       "      <td>167</td>\n",
       "      <td>-68987.2</td>\n",
       "      <td>-106606.3</td>\n",
       "    </tr>\n",
       "  </tbody>\n",
       "</table>\n",
       "</div>"
      ],
      "text/plain": [
       "   index              service_date  mode route_or_line  \\\n",
       "0    158  2016-01-01T05:00:00.000Z  Rail      Red Line   \n",
       "1    151  2016-01-01T05:00:00.000Z   Bus   Silver Line   \n",
       "2    155  2016-01-01T05:00:00.000Z  Rail     Blue Line   \n",
       "3    156  2016-01-01T05:00:00.000Z  Rail    Green Line   \n",
       "4    157  2016-01-01T05:00:00.000Z  Rail   Orange Line   \n",
       "5    161  2016-02-01T05:00:00.000Z   Bus   Silver Line   \n",
       "6    165  2016-02-01T05:00:00.000Z  Rail     Blue Line   \n",
       "7    167  2016-02-01T05:00:00.000Z  Rail   Orange Line   \n",
       "8    168  2016-02-01T05:00:00.000Z  Rail      Red Line   \n",
       "9    166  2016-02-01T05:00:00.000Z  Rail    Green Line   \n",
       "\n",
       "   total_monthly_ridership  countofdates  average_monthly_ridership  ObjectId  \\\n",
       "0                  4738658            19                   249403.1       159   \n",
       "1                   669761            19                    35250.6       152   \n",
       "2                  1142850            19                    60150.0       156   \n",
       "3                  3366005            19                   177158.2       157   \n",
       "4                  4110859            19                   216361.0       158   \n",
       "5                   730265            20                    36513.3       162   \n",
       "6                  1220639            20                    61032.0       166   \n",
       "7                  4379649            20                   218982.5       168   \n",
       "8                  5132032            20                   256601.6       169   \n",
       "9                  3752289            20                   187614.4       167   \n",
       "\n",
       "   first_diff_avg_ridership  second_diff_avg_ridership  \n",
       "0                       NaN                        NaN  \n",
       "1                 -214152.5                        NaN  \n",
       "2                   24899.4                   239051.9  \n",
       "3                  117008.2                    92108.8  \n",
       "4                   39202.8                   -77805.4  \n",
       "5                 -179847.7                  -219050.5  \n",
       "6                   24518.7                   204366.4  \n",
       "7                  157950.5                   133431.8  \n",
       "8                   37619.1                  -120331.4  \n",
       "9                  -68987.2                  -106606.3  "
      ]
     },
     "execution_count": 115,
     "metadata": {},
     "output_type": "execute_result"
    }
   ],
   "source": [
    "sub_df.head(10)"
   ]
  },
  {
   "cell_type": "code",
   "execution_count": 11,
   "metadata": {},
   "outputs": [],
   "source": [
    "# reordering values by date\n",
    "sub_df = sub_df.sort_values('service_date')\n",
    "sub_df = sub_df.reset_index()"
   ]
  },
  {
   "cell_type": "code",
   "execution_count": 13,
   "metadata": {},
   "outputs": [
    {
     "data": {
      "text/plain": [
       "Red Line       45\n",
       "Green Line     45\n",
       "Orange Line    45\n",
       "Blue Line      45\n",
       "Silver Line    45\n",
       "Name: route_or_line, dtype: int64"
      ]
     },
     "execution_count": 13,
     "metadata": {},
     "output_type": "execute_result"
    }
   ],
   "source": [
    "# number of entries per subway line\n",
    "sub_df['route_or_line'].value_counts()"
   ]
  },
  {
   "cell_type": "code",
   "execution_count": 108,
   "metadata": {},
   "outputs": [],
   "source": [
    "# ploting function containing buttons that allow to toggle between lines, for added clarity\n",
    "def time_plot(col, title):\n",
    "    fig = go.Figure()\n",
    "    fig.add_trace(go.Scatter(\n",
    "        x = sub_df.service_date.loc[sub_df['route_or_line'] == 'Red Line'],\n",
    "        y = sub_df[col].loc[sub_df['route_or_line'] == 'Red Line'],\n",
    "        name = 'Red Line',\n",
    "        line_color = 'red',\n",
    "        opacity = 0.8))\n",
    "\n",
    "    fig.add_trace(go.Scatter(\n",
    "        x = sub_df.service_date.loc[sub_df['route_or_line'] == 'Blue Line'],\n",
    "        y = sub_df[col].loc[sub_df['route_or_line'] == 'Blue Line'],\n",
    "        name = 'Blue Line',\n",
    "        line_color = 'navy',\n",
    "        opacity = 0.8))\n",
    "\n",
    "    fig.add_trace(go.Scatter(\n",
    "        x = sub_df.service_date.loc[sub_df['route_or_line'] == 'Orange Line'],\n",
    "        y = sub_df[col].loc[sub_df['route_or_line'] == 'Orange Line'],\n",
    "        name = 'Orange Line',\n",
    "        line_color = 'orange',\n",
    "        opacity = 0.8))\n",
    "\n",
    "    fig.add_trace(go.Scatter(\n",
    "        x = sub_df.service_date.loc[sub_df['route_or_line'] == 'Silver Line'],\n",
    "        y = sub_df[col].loc[sub_df['route_or_line'] == 'Silver Line'],\n",
    "        name = 'Silver Line',\n",
    "        line_color = 'gray',\n",
    "        opacity = 0.8))\n",
    "\n",
    "    fig.add_trace(go.Scatter(\n",
    "        x = sub_df.service_date.loc[sub_df['route_or_line'] == 'Green Line'],\n",
    "        y = sub_df[col].loc[sub_df['route_or_line'] == 'Green Line'],\n",
    "        name = 'Green Line',\n",
    "        line_color = 'green',\n",
    "        opacity = 0.8))\n",
    "    \n",
    "    \n",
    "    fig.update_layout(\n",
    "    updatemenus=[\n",
    "        go.layout.Updatemenu(\n",
    "            type=\"buttons\",\n",
    "            direction=\"right\",\n",
    "            active=0,\n",
    "            x=0.7,\n",
    "            y=-0.2,\n",
    "            buttons=list([\n",
    "                dict(label=\"All\",\n",
    "                     method=\"update\",\n",
    "                     args=[{\"visible\": [True, True, True, True, True]},\n",
    "                           {\"title\": title}]),\n",
    "                dict(label=\"Red\",\n",
    "                     method=\"update\",\n",
    "                     args=[{\"visible\": [True, False, False, False, False]},\n",
    "                           {\"title\": \"Red Line\"}]),\n",
    "                dict(label=\"Blue\",\n",
    "                     method=\"update\",\n",
    "                     args=[{\"visible\": [False, True, False, False, False]},\n",
    "                           {\"title\": \"Blue Line\"}]),\n",
    "                dict(label=\"Orange\",\n",
    "                     method=\"update\",\n",
    "                     args=[{\"visible\": [False, False, True, False, False]},\n",
    "                           {\"title\": \"Orange Line\"}]),\n",
    "                dict(label=\"Silver\",\n",
    "                     method=\"update\",\n",
    "                     args=[{\"visible\": [False, False, False, True, False]},\n",
    "                           {\"title\": \"Silver Line\"}]),\n",
    "                dict(label=\"Green\",\n",
    "                     method=\"update\",\n",
    "                     args=[{\"visible\": [False, False, False, False, True]},\n",
    "                           {\"title\": \"Green Line\"}]),\n",
    "            ]),\n",
    "        )\n",
    "    ])\n",
    "    \n",
    "    \n",
    "\n",
    "\n",
    "    fig.update_layout(xaxis_range = ['2016-01-01','2019-09-01'],\n",
    "                      title_text = title)\n",
    "    fig.show()"
   ]
  },
  {
   "cell_type": "code",
   "execution_count": 109,
   "metadata": {},
   "outputs": [
    {
     "data": {
      "application/vnd.plotly.v1+json": {
       "config": {
        "plotlyServerURL": "https://plot.ly"
       },
       "data": [
        {
         "line": {
          "color": "red"
         },
         "name": "Red Line",
         "opacity": 0.8,
         "type": "scatter",
         "x": [
          "2016-01-01T05:00:00.000Z",
          "2016-02-01T05:00:00.000Z",
          "2016-03-01T05:00:00.000Z",
          "2016-04-01T04:00:00.000Z",
          "2016-05-01T04:00:00.000Z",
          "2016-06-01T04:00:00.000Z",
          "2016-07-01T04:00:00.000Z",
          "2016-08-01T04:00:00.000Z",
          "2016-09-01T04:00:00.000Z",
          "2016-10-01T04:00:00.000Z",
          "2016-11-01T04:00:00.000Z",
          "2016-12-01T05:00:00.000Z",
          "2017-01-01T05:00:00.000Z",
          "2017-02-01T05:00:00.000Z",
          "2017-03-01T05:00:00.000Z",
          "2017-04-01T04:00:00.000Z",
          "2017-05-01T04:00:00.000Z",
          "2017-06-01T04:00:00.000Z",
          "2017-07-01T04:00:00.000Z",
          "2017-08-01T04:00:00.000Z",
          "2017-09-01T04:00:00.000Z",
          "2017-10-01T04:00:00.000Z",
          "2017-11-01T04:00:00.000Z",
          "2017-12-01T05:00:00.000Z",
          "2018-01-01T05:00:00.000Z",
          "2018-02-01T05:00:00.000Z",
          "2018-03-01T05:00:00.000Z",
          "2018-04-01T04:00:00.000Z",
          "2018-05-01T04:00:00.000Z",
          "2018-06-01T04:00:00.000Z",
          "2018-07-01T04:00:00.000Z",
          "2018-08-01T04:00:00.000Z",
          "2018-09-01T04:00:00.000Z",
          "2018-10-01T04:00:00.000Z",
          "2018-11-01T04:00:00.000Z",
          "2018-12-01T05:00:00.000Z",
          "2019-01-01T05:00:00.000Z",
          "2019-02-01T05:00:00.000Z",
          "2019-03-01T05:00:00.000Z",
          "2019-04-01T04:00:00.000Z",
          "2019-05-01T04:00:00.000Z",
          "2019-06-01T04:00:00.000Z",
          "2019-07-01T04:00:00.000Z",
          "2019-08-01T04:00:00.000Z",
          "2019-09-01T04:00:00.000Z"
         ],
         "y": [
          4738658,
          5132032,
          6047058,
          5573282,
          5546573,
          5881456,
          5270208,
          5774632,
          5702668,
          5657271,
          5413231,
          4944886,
          4935366,
          4696803,
          5750523,
          5273279,
          5760641,
          5773775,
          5169112,
          5786163,
          5409746,
          5898601,
          5390729,
          4548600,
          4696090,
          4613903,
          5013455,
          5315936,
          5654937,
          5360458,
          5111092,
          5411159,
          4859060,
          5955310,
          5079375,
          4270301,
          4775951,
          4570488,
          5018393,
          5391799,
          5422544,
          4757240,
          5021199,
          4880100,
          4915753
         ]
        },
        {
         "line": {
          "color": "navy"
         },
         "name": "Blue Line",
         "opacity": 0.8,
         "type": "scatter",
         "x": [
          "2016-01-01T05:00:00.000Z",
          "2016-02-01T05:00:00.000Z",
          "2016-03-01T05:00:00.000Z",
          "2016-04-01T04:00:00.000Z",
          "2016-05-01T04:00:00.000Z",
          "2016-06-01T04:00:00.000Z",
          "2016-07-01T04:00:00.000Z",
          "2016-08-01T04:00:00.000Z",
          "2016-09-01T04:00:00.000Z",
          "2016-10-01T04:00:00.000Z",
          "2016-11-01T04:00:00.000Z",
          "2016-12-01T05:00:00.000Z",
          "2017-01-01T05:00:00.000Z",
          "2017-02-01T05:00:00.000Z",
          "2017-03-01T05:00:00.000Z",
          "2017-04-01T04:00:00.000Z",
          "2017-05-01T04:00:00.000Z",
          "2017-06-01T04:00:00.000Z",
          "2017-07-01T04:00:00.000Z",
          "2017-08-01T04:00:00.000Z",
          "2017-09-01T04:00:00.000Z",
          "2017-10-01T04:00:00.000Z",
          "2017-11-01T04:00:00.000Z",
          "2017-12-01T05:00:00.000Z",
          "2018-01-01T05:00:00.000Z",
          "2018-02-01T05:00:00.000Z",
          "2018-03-01T05:00:00.000Z",
          "2018-04-01T04:00:00.000Z",
          "2018-05-01T04:00:00.000Z",
          "2018-06-01T04:00:00.000Z",
          "2018-07-01T04:00:00.000Z",
          "2018-08-01T04:00:00.000Z",
          "2018-09-01T04:00:00.000Z",
          "2018-10-01T04:00:00.000Z",
          "2018-11-01T04:00:00.000Z",
          "2018-12-01T05:00:00.000Z",
          "2019-01-01T05:00:00.000Z",
          "2019-02-01T05:00:00.000Z",
          "2019-03-01T05:00:00.000Z",
          "2019-04-01T04:00:00.000Z",
          "2019-05-01T04:00:00.000Z",
          "2019-06-01T04:00:00.000Z",
          "2019-07-01T04:00:00.000Z",
          "2019-08-01T04:00:00.000Z",
          "2019-09-01T04:00:00.000Z"
         ],
         "y": [
          1142850,
          1220639,
          1510118,
          1511915,
          1518063,
          1660877,
          1509610,
          1666468,
          1576201,
          1550149,
          1486293,
          1399861,
          1333203,
          1253564,
          1542035,
          1457503,
          1597468,
          1685819,
          1513659,
          1717782,
          1555249,
          1686439,
          1522572,
          1331912,
          1323204,
          1321300,
          1439092,
          1548228,
          1696348,
          1642111,
          1587867,
          1655644,
          1433946,
          1748476,
          1481110,
          1291519,
          1390803,
          1291124,
          1435380,
          1599512,
          1631294,
          1541358,
          1651051,
          1616173,
          1528456
         ]
        },
        {
         "line": {
          "color": "orange"
         },
         "name": "Orange Line",
         "opacity": 0.8,
         "type": "scatter",
         "x": [
          "2016-01-01T05:00:00.000Z",
          "2016-02-01T05:00:00.000Z",
          "2016-03-01T05:00:00.000Z",
          "2016-04-01T04:00:00.000Z",
          "2016-05-01T04:00:00.000Z",
          "2016-06-01T04:00:00.000Z",
          "2016-07-01T04:00:00.000Z",
          "2016-08-01T04:00:00.000Z",
          "2016-09-01T04:00:00.000Z",
          "2016-10-01T04:00:00.000Z",
          "2016-11-01T04:00:00.000Z",
          "2016-12-01T05:00:00.000Z",
          "2017-01-01T05:00:00.000Z",
          "2017-02-01T05:00:00.000Z",
          "2017-03-01T05:00:00.000Z",
          "2017-04-01T04:00:00.000Z",
          "2017-05-01T04:00:00.000Z",
          "2017-06-01T04:00:00.000Z",
          "2017-07-01T04:00:00.000Z",
          "2017-08-01T04:00:00.000Z",
          "2017-09-01T04:00:00.000Z",
          "2017-10-01T04:00:00.000Z",
          "2017-11-01T04:00:00.000Z",
          "2017-12-01T05:00:00.000Z",
          "2018-01-01T05:00:00.000Z",
          "2018-02-01T05:00:00.000Z",
          "2018-03-01T05:00:00.000Z",
          "2018-04-01T04:00:00.000Z",
          "2018-05-01T04:00:00.000Z",
          "2018-06-01T04:00:00.000Z",
          "2018-07-01T04:00:00.000Z",
          "2018-08-01T04:00:00.000Z",
          "2018-09-01T04:00:00.000Z",
          "2018-10-01T04:00:00.000Z",
          "2018-11-01T04:00:00.000Z",
          "2018-12-01T05:00:00.000Z",
          "2019-01-01T05:00:00.000Z",
          "2019-02-01T05:00:00.000Z",
          "2019-03-01T05:00:00.000Z",
          "2019-04-01T04:00:00.000Z",
          "2019-05-01T04:00:00.000Z",
          "2019-06-01T04:00:00.000Z",
          "2019-07-01T04:00:00.000Z",
          "2019-08-01T04:00:00.000Z",
          "2019-09-01T04:00:00.000Z"
         ],
         "y": [
          4110859,
          4379649,
          5121816,
          4680719,
          4628636,
          4860703,
          4233095,
          4692482,
          4702395,
          4651161,
          4497805,
          4145175,
          4153221,
          3887141,
          4735889,
          4311548,
          4698525,
          4714243,
          4101199,
          4624184,
          4447505,
          4872726,
          4450208,
          3832255,
          3987313,
          3938019,
          4220321,
          4463067,
          4722969,
          4476711,
          4202646,
          4450677,
          4043458,
          4980608,
          4269986,
          3630254,
          4049901,
          3779937,
          4182580,
          4527379,
          4562221,
          4166742,
          4352778,
          4239128,
          4311143
         ]
        },
        {
         "line": {
          "color": "gray"
         },
         "name": "Silver Line",
         "opacity": 0.8,
         "type": "scatter",
         "x": [
          "2016-01-01T05:00:00.000Z",
          "2016-02-01T05:00:00.000Z",
          "2016-03-01T05:00:00.000Z",
          "2016-04-01T04:00:00.000Z",
          "2016-05-01T04:00:00.000Z",
          "2016-06-01T04:00:00.000Z",
          "2016-07-01T04:00:00.000Z",
          "2016-08-01T04:00:00.000Z",
          "2016-09-01T04:00:00.000Z",
          "2016-10-01T04:00:00.000Z",
          "2016-11-01T04:00:00.000Z",
          "2016-12-01T05:00:00.000Z",
          "2017-01-01T05:00:00.000Z",
          "2017-02-01T05:00:00.000Z",
          "2017-03-01T05:00:00.000Z",
          "2017-04-01T04:00:00.000Z",
          "2017-05-01T04:00:00.000Z",
          "2017-06-01T04:00:00.000Z",
          "2017-07-01T04:00:00.000Z",
          "2017-08-01T04:00:00.000Z",
          "2017-09-01T04:00:00.000Z",
          "2017-10-01T04:00:00.000Z",
          "2017-11-01T04:00:00.000Z",
          "2017-12-01T05:00:00.000Z",
          "2018-01-01T05:00:00.000Z",
          "2018-02-01T05:00:00.000Z",
          "2018-03-01T05:00:00.000Z",
          "2018-04-01T04:00:00.000Z",
          "2018-05-01T04:00:00.000Z",
          "2018-06-01T04:00:00.000Z",
          "2018-07-01T04:00:00.000Z",
          "2018-08-01T04:00:00.000Z",
          "2018-09-01T04:00:00.000Z",
          "2018-10-01T04:00:00.000Z",
          "2018-11-01T04:00:00.000Z",
          "2018-12-01T05:00:00.000Z",
          "2019-01-01T05:00:00.000Z",
          "2019-02-01T05:00:00.000Z",
          "2019-03-01T05:00:00.000Z",
          "2019-04-01T04:00:00.000Z",
          "2019-05-01T04:00:00.000Z",
          "2019-06-01T04:00:00.000Z",
          "2019-07-01T04:00:00.000Z",
          "2019-08-01T04:00:00.000Z",
          "2019-09-01T04:00:00.000Z"
         ],
         "y": [
          669761,
          730265,
          901662,
          650905,
          783259,
          845464,
          744914,
          823347,
          724110,
          715177,
          683466,
          666184,
          668607,
          603358,
          770216,
          681787,
          777613,
          766040,
          760559,
          788707,
          663795,
          747702,
          689488,
          612362,
          635182,
          598648,
          688735,
          745155,
          817296,
          784891,
          789279,
          859521,
          703816,
          879936,
          798509,
          659334,
          728626,
          655079,
          786680,
          823061,
          850391,
          765614,
          825192,
          823813,
          738886
         ]
        },
        {
         "line": {
          "color": "green"
         },
         "name": "Green Line",
         "opacity": 0.8,
         "type": "scatter",
         "x": [
          "2016-01-01T05:00:00.000Z",
          "2016-02-01T05:00:00.000Z",
          "2016-03-01T05:00:00.000Z",
          "2016-04-01T04:00:00.000Z",
          "2016-05-01T04:00:00.000Z",
          "2016-06-01T04:00:00.000Z",
          "2016-07-01T04:00:00.000Z",
          "2016-08-01T04:00:00.000Z",
          "2016-09-01T04:00:00.000Z",
          "2016-10-01T04:00:00.000Z",
          "2016-11-01T04:00:00.000Z",
          "2016-12-01T05:00:00.000Z",
          "2017-01-01T05:00:00.000Z",
          "2017-02-01T05:00:00.000Z",
          "2017-03-01T05:00:00.000Z",
          "2017-04-01T04:00:00.000Z",
          "2017-05-01T04:00:00.000Z",
          "2017-06-01T04:00:00.000Z",
          "2017-07-01T04:00:00.000Z",
          "2017-08-01T04:00:00.000Z",
          "2017-09-01T04:00:00.000Z",
          "2017-10-01T04:00:00.000Z",
          "2017-11-01T04:00:00.000Z",
          "2017-12-01T05:00:00.000Z",
          "2018-01-01T05:00:00.000Z",
          "2018-02-01T05:00:00.000Z",
          "2018-03-01T05:00:00.000Z",
          "2018-04-01T04:00:00.000Z",
          "2018-05-01T04:00:00.000Z",
          "2018-06-01T04:00:00.000Z",
          "2018-07-01T04:00:00.000Z",
          "2018-08-01T04:00:00.000Z",
          "2018-09-01T04:00:00.000Z",
          "2018-10-01T04:00:00.000Z",
          "2018-11-01T04:00:00.000Z",
          "2018-12-01T05:00:00.000Z",
          "2019-01-01T05:00:00.000Z",
          "2019-02-01T05:00:00.000Z",
          "2019-03-01T05:00:00.000Z",
          "2019-04-01T04:00:00.000Z",
          "2019-05-01T04:00:00.000Z",
          "2019-06-01T04:00:00.000Z",
          "2019-07-01T04:00:00.000Z",
          "2019-08-01T04:00:00.000Z",
          "2019-09-01T04:00:00.000Z"
         ],
         "y": [
          3366005,
          3752289,
          4387768,
          4223658,
          3933571,
          4144063,
          3721468,
          4003897,
          4076521,
          4029136,
          3831723,
          3497594,
          3368738,
          3335246,
          4010221,
          3806254,
          3855004,
          3958035,
          3444648,
          3781642,
          3789136,
          3976259,
          3668262,
          3102458,
          3141136,
          3194840,
          3400249,
          3715423,
          3744898,
          3553979,
          3594274,
          3706947,
          3561584,
          4349667,
          3616694,
          3042631,
          3322102,
          3204597,
          3479327,
          3819945,
          3624765,
          3305499,
          3437565,
          3232914,
          3179038
         ]
        }
       ],
       "layout": {
        "template": {
         "data": {
          "bar": [
           {
            "error_x": {
             "color": "#2a3f5f"
            },
            "error_y": {
             "color": "#2a3f5f"
            },
            "marker": {
             "line": {
              "color": "#E5ECF6",
              "width": 0.5
             }
            },
            "type": "bar"
           }
          ],
          "barpolar": [
           {
            "marker": {
             "line": {
              "color": "#E5ECF6",
              "width": 0.5
             }
            },
            "type": "barpolar"
           }
          ],
          "carpet": [
           {
            "aaxis": {
             "endlinecolor": "#2a3f5f",
             "gridcolor": "white",
             "linecolor": "white",
             "minorgridcolor": "white",
             "startlinecolor": "#2a3f5f"
            },
            "baxis": {
             "endlinecolor": "#2a3f5f",
             "gridcolor": "white",
             "linecolor": "white",
             "minorgridcolor": "white",
             "startlinecolor": "#2a3f5f"
            },
            "type": "carpet"
           }
          ],
          "choropleth": [
           {
            "colorbar": {
             "outlinewidth": 0,
             "ticks": ""
            },
            "type": "choropleth"
           }
          ],
          "contour": [
           {
            "colorbar": {
             "outlinewidth": 0,
             "ticks": ""
            },
            "colorscale": [
             [
              0,
              "#0d0887"
             ],
             [
              0.1111111111111111,
              "#46039f"
             ],
             [
              0.2222222222222222,
              "#7201a8"
             ],
             [
              0.3333333333333333,
              "#9c179e"
             ],
             [
              0.4444444444444444,
              "#bd3786"
             ],
             [
              0.5555555555555556,
              "#d8576b"
             ],
             [
              0.6666666666666666,
              "#ed7953"
             ],
             [
              0.7777777777777778,
              "#fb9f3a"
             ],
             [
              0.8888888888888888,
              "#fdca26"
             ],
             [
              1,
              "#f0f921"
             ]
            ],
            "type": "contour"
           }
          ],
          "contourcarpet": [
           {
            "colorbar": {
             "outlinewidth": 0,
             "ticks": ""
            },
            "type": "contourcarpet"
           }
          ],
          "heatmap": [
           {
            "colorbar": {
             "outlinewidth": 0,
             "ticks": ""
            },
            "colorscale": [
             [
              0,
              "#0d0887"
             ],
             [
              0.1111111111111111,
              "#46039f"
             ],
             [
              0.2222222222222222,
              "#7201a8"
             ],
             [
              0.3333333333333333,
              "#9c179e"
             ],
             [
              0.4444444444444444,
              "#bd3786"
             ],
             [
              0.5555555555555556,
              "#d8576b"
             ],
             [
              0.6666666666666666,
              "#ed7953"
             ],
             [
              0.7777777777777778,
              "#fb9f3a"
             ],
             [
              0.8888888888888888,
              "#fdca26"
             ],
             [
              1,
              "#f0f921"
             ]
            ],
            "type": "heatmap"
           }
          ],
          "heatmapgl": [
           {
            "colorbar": {
             "outlinewidth": 0,
             "ticks": ""
            },
            "colorscale": [
             [
              0,
              "#0d0887"
             ],
             [
              0.1111111111111111,
              "#46039f"
             ],
             [
              0.2222222222222222,
              "#7201a8"
             ],
             [
              0.3333333333333333,
              "#9c179e"
             ],
             [
              0.4444444444444444,
              "#bd3786"
             ],
             [
              0.5555555555555556,
              "#d8576b"
             ],
             [
              0.6666666666666666,
              "#ed7953"
             ],
             [
              0.7777777777777778,
              "#fb9f3a"
             ],
             [
              0.8888888888888888,
              "#fdca26"
             ],
             [
              1,
              "#f0f921"
             ]
            ],
            "type": "heatmapgl"
           }
          ],
          "histogram": [
           {
            "marker": {
             "colorbar": {
              "outlinewidth": 0,
              "ticks": ""
             }
            },
            "type": "histogram"
           }
          ],
          "histogram2d": [
           {
            "colorbar": {
             "outlinewidth": 0,
             "ticks": ""
            },
            "colorscale": [
             [
              0,
              "#0d0887"
             ],
             [
              0.1111111111111111,
              "#46039f"
             ],
             [
              0.2222222222222222,
              "#7201a8"
             ],
             [
              0.3333333333333333,
              "#9c179e"
             ],
             [
              0.4444444444444444,
              "#bd3786"
             ],
             [
              0.5555555555555556,
              "#d8576b"
             ],
             [
              0.6666666666666666,
              "#ed7953"
             ],
             [
              0.7777777777777778,
              "#fb9f3a"
             ],
             [
              0.8888888888888888,
              "#fdca26"
             ],
             [
              1,
              "#f0f921"
             ]
            ],
            "type": "histogram2d"
           }
          ],
          "histogram2dcontour": [
           {
            "colorbar": {
             "outlinewidth": 0,
             "ticks": ""
            },
            "colorscale": [
             [
              0,
              "#0d0887"
             ],
             [
              0.1111111111111111,
              "#46039f"
             ],
             [
              0.2222222222222222,
              "#7201a8"
             ],
             [
              0.3333333333333333,
              "#9c179e"
             ],
             [
              0.4444444444444444,
              "#bd3786"
             ],
             [
              0.5555555555555556,
              "#d8576b"
             ],
             [
              0.6666666666666666,
              "#ed7953"
             ],
             [
              0.7777777777777778,
              "#fb9f3a"
             ],
             [
              0.8888888888888888,
              "#fdca26"
             ],
             [
              1,
              "#f0f921"
             ]
            ],
            "type": "histogram2dcontour"
           }
          ],
          "mesh3d": [
           {
            "colorbar": {
             "outlinewidth": 0,
             "ticks": ""
            },
            "type": "mesh3d"
           }
          ],
          "parcoords": [
           {
            "line": {
             "colorbar": {
              "outlinewidth": 0,
              "ticks": ""
             }
            },
            "type": "parcoords"
           }
          ],
          "pie": [
           {
            "automargin": true,
            "type": "pie"
           }
          ],
          "scatter": [
           {
            "marker": {
             "colorbar": {
              "outlinewidth": 0,
              "ticks": ""
             }
            },
            "type": "scatter"
           }
          ],
          "scatter3d": [
           {
            "line": {
             "colorbar": {
              "outlinewidth": 0,
              "ticks": ""
             }
            },
            "marker": {
             "colorbar": {
              "outlinewidth": 0,
              "ticks": ""
             }
            },
            "type": "scatter3d"
           }
          ],
          "scattercarpet": [
           {
            "marker": {
             "colorbar": {
              "outlinewidth": 0,
              "ticks": ""
             }
            },
            "type": "scattercarpet"
           }
          ],
          "scattergeo": [
           {
            "marker": {
             "colorbar": {
              "outlinewidth": 0,
              "ticks": ""
             }
            },
            "type": "scattergeo"
           }
          ],
          "scattergl": [
           {
            "marker": {
             "colorbar": {
              "outlinewidth": 0,
              "ticks": ""
             }
            },
            "type": "scattergl"
           }
          ],
          "scattermapbox": [
           {
            "marker": {
             "colorbar": {
              "outlinewidth": 0,
              "ticks": ""
             }
            },
            "type": "scattermapbox"
           }
          ],
          "scatterpolar": [
           {
            "marker": {
             "colorbar": {
              "outlinewidth": 0,
              "ticks": ""
             }
            },
            "type": "scatterpolar"
           }
          ],
          "scatterpolargl": [
           {
            "marker": {
             "colorbar": {
              "outlinewidth": 0,
              "ticks": ""
             }
            },
            "type": "scatterpolargl"
           }
          ],
          "scatterternary": [
           {
            "marker": {
             "colorbar": {
              "outlinewidth": 0,
              "ticks": ""
             }
            },
            "type": "scatterternary"
           }
          ],
          "surface": [
           {
            "colorbar": {
             "outlinewidth": 0,
             "ticks": ""
            },
            "colorscale": [
             [
              0,
              "#0d0887"
             ],
             [
              0.1111111111111111,
              "#46039f"
             ],
             [
              0.2222222222222222,
              "#7201a8"
             ],
             [
              0.3333333333333333,
              "#9c179e"
             ],
             [
              0.4444444444444444,
              "#bd3786"
             ],
             [
              0.5555555555555556,
              "#d8576b"
             ],
             [
              0.6666666666666666,
              "#ed7953"
             ],
             [
              0.7777777777777778,
              "#fb9f3a"
             ],
             [
              0.8888888888888888,
              "#fdca26"
             ],
             [
              1,
              "#f0f921"
             ]
            ],
            "type": "surface"
           }
          ],
          "table": [
           {
            "cells": {
             "fill": {
              "color": "#EBF0F8"
             },
             "line": {
              "color": "white"
             }
            },
            "header": {
             "fill": {
              "color": "#C8D4E3"
             },
             "line": {
              "color": "white"
             }
            },
            "type": "table"
           }
          ]
         },
         "layout": {
          "annotationdefaults": {
           "arrowcolor": "#2a3f5f",
           "arrowhead": 0,
           "arrowwidth": 1
          },
          "coloraxis": {
           "colorbar": {
            "outlinewidth": 0,
            "ticks": ""
           }
          },
          "colorscale": {
           "diverging": [
            [
             0,
             "#8e0152"
            ],
            [
             0.1,
             "#c51b7d"
            ],
            [
             0.2,
             "#de77ae"
            ],
            [
             0.3,
             "#f1b6da"
            ],
            [
             0.4,
             "#fde0ef"
            ],
            [
             0.5,
             "#f7f7f7"
            ],
            [
             0.6,
             "#e6f5d0"
            ],
            [
             0.7,
             "#b8e186"
            ],
            [
             0.8,
             "#7fbc41"
            ],
            [
             0.9,
             "#4d9221"
            ],
            [
             1,
             "#276419"
            ]
           ],
           "sequential": [
            [
             0,
             "#0d0887"
            ],
            [
             0.1111111111111111,
             "#46039f"
            ],
            [
             0.2222222222222222,
             "#7201a8"
            ],
            [
             0.3333333333333333,
             "#9c179e"
            ],
            [
             0.4444444444444444,
             "#bd3786"
            ],
            [
             0.5555555555555556,
             "#d8576b"
            ],
            [
             0.6666666666666666,
             "#ed7953"
            ],
            [
             0.7777777777777778,
             "#fb9f3a"
            ],
            [
             0.8888888888888888,
             "#fdca26"
            ],
            [
             1,
             "#f0f921"
            ]
           ],
           "sequentialminus": [
            [
             0,
             "#0d0887"
            ],
            [
             0.1111111111111111,
             "#46039f"
            ],
            [
             0.2222222222222222,
             "#7201a8"
            ],
            [
             0.3333333333333333,
             "#9c179e"
            ],
            [
             0.4444444444444444,
             "#bd3786"
            ],
            [
             0.5555555555555556,
             "#d8576b"
            ],
            [
             0.6666666666666666,
             "#ed7953"
            ],
            [
             0.7777777777777778,
             "#fb9f3a"
            ],
            [
             0.8888888888888888,
             "#fdca26"
            ],
            [
             1,
             "#f0f921"
            ]
           ]
          },
          "colorway": [
           "#636efa",
           "#EF553B",
           "#00cc96",
           "#ab63fa",
           "#FFA15A",
           "#19d3f3",
           "#FF6692",
           "#B6E880",
           "#FF97FF",
           "#FECB52"
          ],
          "font": {
           "color": "#2a3f5f"
          },
          "geo": {
           "bgcolor": "white",
           "lakecolor": "white",
           "landcolor": "#E5ECF6",
           "showlakes": true,
           "showland": true,
           "subunitcolor": "white"
          },
          "hoverlabel": {
           "align": "left"
          },
          "hovermode": "closest",
          "mapbox": {
           "style": "light"
          },
          "paper_bgcolor": "white",
          "plot_bgcolor": "#E5ECF6",
          "polar": {
           "angularaxis": {
            "gridcolor": "white",
            "linecolor": "white",
            "ticks": ""
           },
           "bgcolor": "#E5ECF6",
           "radialaxis": {
            "gridcolor": "white",
            "linecolor": "white",
            "ticks": ""
           }
          },
          "scene": {
           "xaxis": {
            "backgroundcolor": "#E5ECF6",
            "gridcolor": "white",
            "gridwidth": 2,
            "linecolor": "white",
            "showbackground": true,
            "ticks": "",
            "zerolinecolor": "white"
           },
           "yaxis": {
            "backgroundcolor": "#E5ECF6",
            "gridcolor": "white",
            "gridwidth": 2,
            "linecolor": "white",
            "showbackground": true,
            "ticks": "",
            "zerolinecolor": "white"
           },
           "zaxis": {
            "backgroundcolor": "#E5ECF6",
            "gridcolor": "white",
            "gridwidth": 2,
            "linecolor": "white",
            "showbackground": true,
            "ticks": "",
            "zerolinecolor": "white"
           }
          },
          "shapedefaults": {
           "line": {
            "color": "#2a3f5f"
           }
          },
          "ternary": {
           "aaxis": {
            "gridcolor": "white",
            "linecolor": "white",
            "ticks": ""
           },
           "baxis": {
            "gridcolor": "white",
            "linecolor": "white",
            "ticks": ""
           },
           "bgcolor": "#E5ECF6",
           "caxis": {
            "gridcolor": "white",
            "linecolor": "white",
            "ticks": ""
           }
          },
          "title": {
           "x": 0.05
          },
          "xaxis": {
           "automargin": true,
           "gridcolor": "white",
           "linecolor": "white",
           "ticks": "",
           "title": {
            "standoff": 15
           },
           "zerolinecolor": "white",
           "zerolinewidth": 2
          },
          "yaxis": {
           "automargin": true,
           "gridcolor": "white",
           "linecolor": "white",
           "ticks": "",
           "title": {
            "standoff": 15
           },
           "zerolinecolor": "white",
           "zerolinewidth": 2
          }
         }
        },
        "title": {
         "text": "MBTA Subway Total Ridership per Line (Jan 2016 - Sep 2019)"
        },
        "updatemenus": [
         {
          "active": 0,
          "buttons": [
           {
            "args": [
             {
              "visible": [
               true,
               true,
               true,
               true,
               true
              ]
             },
             {
              "title": "MBTA Subway Total Ridership per Line (Jan 2016 - Sep 2019)"
             }
            ],
            "label": "All",
            "method": "update"
           },
           {
            "args": [
             {
              "visible": [
               true,
               false,
               false,
               false,
               false
              ]
             },
             {
              "title": "Red Line"
             }
            ],
            "label": "Red",
            "method": "update"
           },
           {
            "args": [
             {
              "visible": [
               false,
               true,
               false,
               false,
               false
              ]
             },
             {
              "title": "Blue Line"
             }
            ],
            "label": "Blue",
            "method": "update"
           },
           {
            "args": [
             {
              "visible": [
               false,
               false,
               true,
               false,
               false
              ]
             },
             {
              "title": "Orange Line"
             }
            ],
            "label": "Orange",
            "method": "update"
           },
           {
            "args": [
             {
              "visible": [
               false,
               false,
               false,
               true,
               false
              ]
             },
             {
              "title": "Silver Line"
             }
            ],
            "label": "Silver",
            "method": "update"
           },
           {
            "args": [
             {
              "visible": [
               false,
               false,
               false,
               false,
               true
              ]
             },
             {
              "title": "Green Line"
             }
            ],
            "label": "Green",
            "method": "update"
           }
          ],
          "direction": "right",
          "type": "buttons",
          "x": 0.7,
          "y": -0.2
         }
        ],
        "xaxis": {
         "range": [
          "2016-01-01",
          "2019-09-01"
         ]
        }
       }
      },
      "text/html": [
       "<div>\n",
       "        \n",
       "        \n",
       "            <div id=\"f1c0a62c-5ff8-4281-ad4f-71a933472bea\" class=\"plotly-graph-div\" style=\"height:525px; width:100%;\"></div>\n",
       "            <script type=\"text/javascript\">\n",
       "                require([\"plotly\"], function(Plotly) {\n",
       "                    window.PLOTLYENV=window.PLOTLYENV || {};\n",
       "                    \n",
       "                if (document.getElementById(\"f1c0a62c-5ff8-4281-ad4f-71a933472bea\")) {\n",
       "                    Plotly.newPlot(\n",
       "                        'f1c0a62c-5ff8-4281-ad4f-71a933472bea',\n",
       "                        [{\"line\": {\"color\": \"red\"}, \"name\": \"Red Line\", \"opacity\": 0.8, \"type\": \"scatter\", \"x\": [\"2016-01-01T05:00:00.000Z\", \"2016-02-01T05:00:00.000Z\", \"2016-03-01T05:00:00.000Z\", \"2016-04-01T04:00:00.000Z\", \"2016-05-01T04:00:00.000Z\", \"2016-06-01T04:00:00.000Z\", \"2016-07-01T04:00:00.000Z\", \"2016-08-01T04:00:00.000Z\", \"2016-09-01T04:00:00.000Z\", \"2016-10-01T04:00:00.000Z\", \"2016-11-01T04:00:00.000Z\", \"2016-12-01T05:00:00.000Z\", \"2017-01-01T05:00:00.000Z\", \"2017-02-01T05:00:00.000Z\", \"2017-03-01T05:00:00.000Z\", \"2017-04-01T04:00:00.000Z\", \"2017-05-01T04:00:00.000Z\", \"2017-06-01T04:00:00.000Z\", \"2017-07-01T04:00:00.000Z\", \"2017-08-01T04:00:00.000Z\", \"2017-09-01T04:00:00.000Z\", \"2017-10-01T04:00:00.000Z\", \"2017-11-01T04:00:00.000Z\", \"2017-12-01T05:00:00.000Z\", \"2018-01-01T05:00:00.000Z\", \"2018-02-01T05:00:00.000Z\", \"2018-03-01T05:00:00.000Z\", \"2018-04-01T04:00:00.000Z\", \"2018-05-01T04:00:00.000Z\", \"2018-06-01T04:00:00.000Z\", \"2018-07-01T04:00:00.000Z\", \"2018-08-01T04:00:00.000Z\", \"2018-09-01T04:00:00.000Z\", \"2018-10-01T04:00:00.000Z\", \"2018-11-01T04:00:00.000Z\", \"2018-12-01T05:00:00.000Z\", \"2019-01-01T05:00:00.000Z\", \"2019-02-01T05:00:00.000Z\", \"2019-03-01T05:00:00.000Z\", \"2019-04-01T04:00:00.000Z\", \"2019-05-01T04:00:00.000Z\", \"2019-06-01T04:00:00.000Z\", \"2019-07-01T04:00:00.000Z\", \"2019-08-01T04:00:00.000Z\", \"2019-09-01T04:00:00.000Z\"], \"y\": [4738658, 5132032, 6047058, 5573282, 5546573, 5881456, 5270208, 5774632, 5702668, 5657271, 5413231, 4944886, 4935366, 4696803, 5750523, 5273279, 5760641, 5773775, 5169112, 5786163, 5409746, 5898601, 5390729, 4548600, 4696090, 4613903, 5013455, 5315936, 5654937, 5360458, 5111092, 5411159, 4859060, 5955310, 5079375, 4270301, 4775951, 4570488, 5018393, 5391799, 5422544, 4757240, 5021199, 4880100, 4915753]}, {\"line\": {\"color\": \"navy\"}, \"name\": \"Blue Line\", \"opacity\": 0.8, \"type\": \"scatter\", \"x\": [\"2016-01-01T05:00:00.000Z\", \"2016-02-01T05:00:00.000Z\", \"2016-03-01T05:00:00.000Z\", \"2016-04-01T04:00:00.000Z\", \"2016-05-01T04:00:00.000Z\", \"2016-06-01T04:00:00.000Z\", \"2016-07-01T04:00:00.000Z\", \"2016-08-01T04:00:00.000Z\", \"2016-09-01T04:00:00.000Z\", \"2016-10-01T04:00:00.000Z\", \"2016-11-01T04:00:00.000Z\", \"2016-12-01T05:00:00.000Z\", \"2017-01-01T05:00:00.000Z\", \"2017-02-01T05:00:00.000Z\", \"2017-03-01T05:00:00.000Z\", \"2017-04-01T04:00:00.000Z\", \"2017-05-01T04:00:00.000Z\", \"2017-06-01T04:00:00.000Z\", \"2017-07-01T04:00:00.000Z\", \"2017-08-01T04:00:00.000Z\", \"2017-09-01T04:00:00.000Z\", \"2017-10-01T04:00:00.000Z\", \"2017-11-01T04:00:00.000Z\", \"2017-12-01T05:00:00.000Z\", \"2018-01-01T05:00:00.000Z\", \"2018-02-01T05:00:00.000Z\", \"2018-03-01T05:00:00.000Z\", \"2018-04-01T04:00:00.000Z\", \"2018-05-01T04:00:00.000Z\", \"2018-06-01T04:00:00.000Z\", \"2018-07-01T04:00:00.000Z\", \"2018-08-01T04:00:00.000Z\", \"2018-09-01T04:00:00.000Z\", \"2018-10-01T04:00:00.000Z\", \"2018-11-01T04:00:00.000Z\", \"2018-12-01T05:00:00.000Z\", \"2019-01-01T05:00:00.000Z\", \"2019-02-01T05:00:00.000Z\", \"2019-03-01T05:00:00.000Z\", \"2019-04-01T04:00:00.000Z\", \"2019-05-01T04:00:00.000Z\", \"2019-06-01T04:00:00.000Z\", \"2019-07-01T04:00:00.000Z\", \"2019-08-01T04:00:00.000Z\", \"2019-09-01T04:00:00.000Z\"], \"y\": [1142850, 1220639, 1510118, 1511915, 1518063, 1660877, 1509610, 1666468, 1576201, 1550149, 1486293, 1399861, 1333203, 1253564, 1542035, 1457503, 1597468, 1685819, 1513659, 1717782, 1555249, 1686439, 1522572, 1331912, 1323204, 1321300, 1439092, 1548228, 1696348, 1642111, 1587867, 1655644, 1433946, 1748476, 1481110, 1291519, 1390803, 1291124, 1435380, 1599512, 1631294, 1541358, 1651051, 1616173, 1528456]}, {\"line\": {\"color\": \"orange\"}, \"name\": \"Orange Line\", \"opacity\": 0.8, \"type\": \"scatter\", \"x\": [\"2016-01-01T05:00:00.000Z\", \"2016-02-01T05:00:00.000Z\", \"2016-03-01T05:00:00.000Z\", \"2016-04-01T04:00:00.000Z\", \"2016-05-01T04:00:00.000Z\", \"2016-06-01T04:00:00.000Z\", \"2016-07-01T04:00:00.000Z\", \"2016-08-01T04:00:00.000Z\", \"2016-09-01T04:00:00.000Z\", \"2016-10-01T04:00:00.000Z\", \"2016-11-01T04:00:00.000Z\", \"2016-12-01T05:00:00.000Z\", \"2017-01-01T05:00:00.000Z\", \"2017-02-01T05:00:00.000Z\", \"2017-03-01T05:00:00.000Z\", \"2017-04-01T04:00:00.000Z\", \"2017-05-01T04:00:00.000Z\", \"2017-06-01T04:00:00.000Z\", \"2017-07-01T04:00:00.000Z\", \"2017-08-01T04:00:00.000Z\", \"2017-09-01T04:00:00.000Z\", \"2017-10-01T04:00:00.000Z\", \"2017-11-01T04:00:00.000Z\", \"2017-12-01T05:00:00.000Z\", \"2018-01-01T05:00:00.000Z\", \"2018-02-01T05:00:00.000Z\", \"2018-03-01T05:00:00.000Z\", \"2018-04-01T04:00:00.000Z\", \"2018-05-01T04:00:00.000Z\", \"2018-06-01T04:00:00.000Z\", \"2018-07-01T04:00:00.000Z\", \"2018-08-01T04:00:00.000Z\", \"2018-09-01T04:00:00.000Z\", \"2018-10-01T04:00:00.000Z\", \"2018-11-01T04:00:00.000Z\", \"2018-12-01T05:00:00.000Z\", \"2019-01-01T05:00:00.000Z\", \"2019-02-01T05:00:00.000Z\", \"2019-03-01T05:00:00.000Z\", \"2019-04-01T04:00:00.000Z\", \"2019-05-01T04:00:00.000Z\", \"2019-06-01T04:00:00.000Z\", \"2019-07-01T04:00:00.000Z\", \"2019-08-01T04:00:00.000Z\", \"2019-09-01T04:00:00.000Z\"], \"y\": [4110859, 4379649, 5121816, 4680719, 4628636, 4860703, 4233095, 4692482, 4702395, 4651161, 4497805, 4145175, 4153221, 3887141, 4735889, 4311548, 4698525, 4714243, 4101199, 4624184, 4447505, 4872726, 4450208, 3832255, 3987313, 3938019, 4220321, 4463067, 4722969, 4476711, 4202646, 4450677, 4043458, 4980608, 4269986, 3630254, 4049901, 3779937, 4182580, 4527379, 4562221, 4166742, 4352778, 4239128, 4311143]}, {\"line\": {\"color\": \"gray\"}, \"name\": \"Silver Line\", \"opacity\": 0.8, \"type\": \"scatter\", \"x\": [\"2016-01-01T05:00:00.000Z\", \"2016-02-01T05:00:00.000Z\", \"2016-03-01T05:00:00.000Z\", \"2016-04-01T04:00:00.000Z\", \"2016-05-01T04:00:00.000Z\", \"2016-06-01T04:00:00.000Z\", \"2016-07-01T04:00:00.000Z\", \"2016-08-01T04:00:00.000Z\", \"2016-09-01T04:00:00.000Z\", \"2016-10-01T04:00:00.000Z\", \"2016-11-01T04:00:00.000Z\", \"2016-12-01T05:00:00.000Z\", \"2017-01-01T05:00:00.000Z\", \"2017-02-01T05:00:00.000Z\", \"2017-03-01T05:00:00.000Z\", \"2017-04-01T04:00:00.000Z\", \"2017-05-01T04:00:00.000Z\", \"2017-06-01T04:00:00.000Z\", \"2017-07-01T04:00:00.000Z\", \"2017-08-01T04:00:00.000Z\", \"2017-09-01T04:00:00.000Z\", \"2017-10-01T04:00:00.000Z\", \"2017-11-01T04:00:00.000Z\", \"2017-12-01T05:00:00.000Z\", \"2018-01-01T05:00:00.000Z\", \"2018-02-01T05:00:00.000Z\", \"2018-03-01T05:00:00.000Z\", \"2018-04-01T04:00:00.000Z\", \"2018-05-01T04:00:00.000Z\", \"2018-06-01T04:00:00.000Z\", \"2018-07-01T04:00:00.000Z\", \"2018-08-01T04:00:00.000Z\", \"2018-09-01T04:00:00.000Z\", \"2018-10-01T04:00:00.000Z\", \"2018-11-01T04:00:00.000Z\", \"2018-12-01T05:00:00.000Z\", \"2019-01-01T05:00:00.000Z\", \"2019-02-01T05:00:00.000Z\", \"2019-03-01T05:00:00.000Z\", \"2019-04-01T04:00:00.000Z\", \"2019-05-01T04:00:00.000Z\", \"2019-06-01T04:00:00.000Z\", \"2019-07-01T04:00:00.000Z\", \"2019-08-01T04:00:00.000Z\", \"2019-09-01T04:00:00.000Z\"], \"y\": [669761, 730265, 901662, 650905, 783259, 845464, 744914, 823347, 724110, 715177, 683466, 666184, 668607, 603358, 770216, 681787, 777613, 766040, 760559, 788707, 663795, 747702, 689488, 612362, 635182, 598648, 688735, 745155, 817296, 784891, 789279, 859521, 703816, 879936, 798509, 659334, 728626, 655079, 786680, 823061, 850391, 765614, 825192, 823813, 738886]}, {\"line\": {\"color\": \"green\"}, \"name\": \"Green Line\", \"opacity\": 0.8, \"type\": \"scatter\", \"x\": [\"2016-01-01T05:00:00.000Z\", \"2016-02-01T05:00:00.000Z\", \"2016-03-01T05:00:00.000Z\", \"2016-04-01T04:00:00.000Z\", \"2016-05-01T04:00:00.000Z\", \"2016-06-01T04:00:00.000Z\", \"2016-07-01T04:00:00.000Z\", \"2016-08-01T04:00:00.000Z\", \"2016-09-01T04:00:00.000Z\", \"2016-10-01T04:00:00.000Z\", \"2016-11-01T04:00:00.000Z\", \"2016-12-01T05:00:00.000Z\", \"2017-01-01T05:00:00.000Z\", \"2017-02-01T05:00:00.000Z\", \"2017-03-01T05:00:00.000Z\", \"2017-04-01T04:00:00.000Z\", \"2017-05-01T04:00:00.000Z\", \"2017-06-01T04:00:00.000Z\", \"2017-07-01T04:00:00.000Z\", \"2017-08-01T04:00:00.000Z\", \"2017-09-01T04:00:00.000Z\", \"2017-10-01T04:00:00.000Z\", \"2017-11-01T04:00:00.000Z\", \"2017-12-01T05:00:00.000Z\", \"2018-01-01T05:00:00.000Z\", \"2018-02-01T05:00:00.000Z\", \"2018-03-01T05:00:00.000Z\", \"2018-04-01T04:00:00.000Z\", \"2018-05-01T04:00:00.000Z\", \"2018-06-01T04:00:00.000Z\", \"2018-07-01T04:00:00.000Z\", \"2018-08-01T04:00:00.000Z\", \"2018-09-01T04:00:00.000Z\", \"2018-10-01T04:00:00.000Z\", \"2018-11-01T04:00:00.000Z\", \"2018-12-01T05:00:00.000Z\", \"2019-01-01T05:00:00.000Z\", \"2019-02-01T05:00:00.000Z\", \"2019-03-01T05:00:00.000Z\", \"2019-04-01T04:00:00.000Z\", \"2019-05-01T04:00:00.000Z\", \"2019-06-01T04:00:00.000Z\", \"2019-07-01T04:00:00.000Z\", \"2019-08-01T04:00:00.000Z\", \"2019-09-01T04:00:00.000Z\"], \"y\": [3366005, 3752289, 4387768, 4223658, 3933571, 4144063, 3721468, 4003897, 4076521, 4029136, 3831723, 3497594, 3368738, 3335246, 4010221, 3806254, 3855004, 3958035, 3444648, 3781642, 3789136, 3976259, 3668262, 3102458, 3141136, 3194840, 3400249, 3715423, 3744898, 3553979, 3594274, 3706947, 3561584, 4349667, 3616694, 3042631, 3322102, 3204597, 3479327, 3819945, 3624765, 3305499, 3437565, 3232914, 3179038]}],\n",
       "                        {\"template\": {\"data\": {\"bar\": [{\"error_x\": {\"color\": \"#2a3f5f\"}, \"error_y\": {\"color\": \"#2a3f5f\"}, \"marker\": {\"line\": {\"color\": \"#E5ECF6\", \"width\": 0.5}}, \"type\": \"bar\"}], \"barpolar\": [{\"marker\": {\"line\": {\"color\": \"#E5ECF6\", \"width\": 0.5}}, \"type\": \"barpolar\"}], \"carpet\": [{\"aaxis\": {\"endlinecolor\": \"#2a3f5f\", \"gridcolor\": \"white\", \"linecolor\": \"white\", \"minorgridcolor\": \"white\", \"startlinecolor\": \"#2a3f5f\"}, \"baxis\": {\"endlinecolor\": \"#2a3f5f\", \"gridcolor\": \"white\", \"linecolor\": \"white\", \"minorgridcolor\": \"white\", \"startlinecolor\": \"#2a3f5f\"}, \"type\": \"carpet\"}], \"choropleth\": [{\"colorbar\": {\"outlinewidth\": 0, \"ticks\": \"\"}, \"type\": \"choropleth\"}], \"contour\": [{\"colorbar\": {\"outlinewidth\": 0, \"ticks\": \"\"}, \"colorscale\": [[0.0, \"#0d0887\"], [0.1111111111111111, \"#46039f\"], [0.2222222222222222, \"#7201a8\"], [0.3333333333333333, \"#9c179e\"], [0.4444444444444444, \"#bd3786\"], [0.5555555555555556, \"#d8576b\"], [0.6666666666666666, \"#ed7953\"], [0.7777777777777778, \"#fb9f3a\"], [0.8888888888888888, \"#fdca26\"], [1.0, \"#f0f921\"]], \"type\": \"contour\"}], \"contourcarpet\": [{\"colorbar\": {\"outlinewidth\": 0, \"ticks\": \"\"}, \"type\": \"contourcarpet\"}], \"heatmap\": [{\"colorbar\": {\"outlinewidth\": 0, \"ticks\": \"\"}, \"colorscale\": [[0.0, \"#0d0887\"], [0.1111111111111111, \"#46039f\"], [0.2222222222222222, \"#7201a8\"], [0.3333333333333333, \"#9c179e\"], [0.4444444444444444, \"#bd3786\"], [0.5555555555555556, \"#d8576b\"], [0.6666666666666666, \"#ed7953\"], [0.7777777777777778, \"#fb9f3a\"], [0.8888888888888888, \"#fdca26\"], [1.0, \"#f0f921\"]], \"type\": \"heatmap\"}], \"heatmapgl\": [{\"colorbar\": {\"outlinewidth\": 0, \"ticks\": \"\"}, \"colorscale\": [[0.0, \"#0d0887\"], [0.1111111111111111, \"#46039f\"], [0.2222222222222222, \"#7201a8\"], [0.3333333333333333, \"#9c179e\"], [0.4444444444444444, \"#bd3786\"], [0.5555555555555556, \"#d8576b\"], [0.6666666666666666, \"#ed7953\"], [0.7777777777777778, \"#fb9f3a\"], [0.8888888888888888, \"#fdca26\"], [1.0, \"#f0f921\"]], \"type\": \"heatmapgl\"}], \"histogram\": [{\"marker\": {\"colorbar\": {\"outlinewidth\": 0, \"ticks\": \"\"}}, \"type\": \"histogram\"}], \"histogram2d\": [{\"colorbar\": {\"outlinewidth\": 0, \"ticks\": \"\"}, \"colorscale\": [[0.0, \"#0d0887\"], [0.1111111111111111, \"#46039f\"], [0.2222222222222222, \"#7201a8\"], [0.3333333333333333, \"#9c179e\"], [0.4444444444444444, \"#bd3786\"], [0.5555555555555556, \"#d8576b\"], [0.6666666666666666, \"#ed7953\"], [0.7777777777777778, \"#fb9f3a\"], [0.8888888888888888, \"#fdca26\"], [1.0, \"#f0f921\"]], \"type\": \"histogram2d\"}], \"histogram2dcontour\": [{\"colorbar\": {\"outlinewidth\": 0, \"ticks\": \"\"}, \"colorscale\": [[0.0, \"#0d0887\"], [0.1111111111111111, \"#46039f\"], [0.2222222222222222, \"#7201a8\"], [0.3333333333333333, \"#9c179e\"], [0.4444444444444444, \"#bd3786\"], [0.5555555555555556, \"#d8576b\"], [0.6666666666666666, \"#ed7953\"], [0.7777777777777778, \"#fb9f3a\"], [0.8888888888888888, \"#fdca26\"], [1.0, \"#f0f921\"]], \"type\": \"histogram2dcontour\"}], \"mesh3d\": [{\"colorbar\": {\"outlinewidth\": 0, \"ticks\": \"\"}, \"type\": \"mesh3d\"}], \"parcoords\": [{\"line\": {\"colorbar\": {\"outlinewidth\": 0, \"ticks\": \"\"}}, \"type\": \"parcoords\"}], \"pie\": [{\"automargin\": true, \"type\": \"pie\"}], \"scatter\": [{\"marker\": {\"colorbar\": {\"outlinewidth\": 0, \"ticks\": \"\"}}, \"type\": \"scatter\"}], \"scatter3d\": [{\"line\": {\"colorbar\": {\"outlinewidth\": 0, \"ticks\": \"\"}}, \"marker\": {\"colorbar\": {\"outlinewidth\": 0, \"ticks\": \"\"}}, \"type\": \"scatter3d\"}], \"scattercarpet\": [{\"marker\": {\"colorbar\": {\"outlinewidth\": 0, \"ticks\": \"\"}}, \"type\": \"scattercarpet\"}], \"scattergeo\": [{\"marker\": {\"colorbar\": {\"outlinewidth\": 0, \"ticks\": \"\"}}, \"type\": \"scattergeo\"}], \"scattergl\": [{\"marker\": {\"colorbar\": {\"outlinewidth\": 0, \"ticks\": \"\"}}, \"type\": \"scattergl\"}], \"scattermapbox\": [{\"marker\": {\"colorbar\": {\"outlinewidth\": 0, \"ticks\": \"\"}}, \"type\": \"scattermapbox\"}], \"scatterpolar\": [{\"marker\": {\"colorbar\": {\"outlinewidth\": 0, \"ticks\": \"\"}}, \"type\": \"scatterpolar\"}], \"scatterpolargl\": [{\"marker\": {\"colorbar\": {\"outlinewidth\": 0, \"ticks\": \"\"}}, \"type\": \"scatterpolargl\"}], \"scatterternary\": [{\"marker\": {\"colorbar\": {\"outlinewidth\": 0, \"ticks\": \"\"}}, \"type\": \"scatterternary\"}], \"surface\": [{\"colorbar\": {\"outlinewidth\": 0, \"ticks\": \"\"}, \"colorscale\": [[0.0, \"#0d0887\"], [0.1111111111111111, \"#46039f\"], [0.2222222222222222, \"#7201a8\"], [0.3333333333333333, \"#9c179e\"], [0.4444444444444444, \"#bd3786\"], [0.5555555555555556, \"#d8576b\"], [0.6666666666666666, \"#ed7953\"], [0.7777777777777778, \"#fb9f3a\"], [0.8888888888888888, \"#fdca26\"], [1.0, \"#f0f921\"]], \"type\": \"surface\"}], \"table\": [{\"cells\": {\"fill\": {\"color\": \"#EBF0F8\"}, \"line\": {\"color\": \"white\"}}, \"header\": {\"fill\": {\"color\": \"#C8D4E3\"}, \"line\": {\"color\": \"white\"}}, \"type\": \"table\"}]}, \"layout\": {\"annotationdefaults\": {\"arrowcolor\": \"#2a3f5f\", \"arrowhead\": 0, \"arrowwidth\": 1}, \"coloraxis\": {\"colorbar\": {\"outlinewidth\": 0, \"ticks\": \"\"}}, \"colorscale\": {\"diverging\": [[0, \"#8e0152\"], [0.1, \"#c51b7d\"], [0.2, \"#de77ae\"], [0.3, \"#f1b6da\"], [0.4, \"#fde0ef\"], [0.5, \"#f7f7f7\"], [0.6, \"#e6f5d0\"], [0.7, \"#b8e186\"], [0.8, \"#7fbc41\"], [0.9, \"#4d9221\"], [1, \"#276419\"]], \"sequential\": [[0.0, \"#0d0887\"], [0.1111111111111111, \"#46039f\"], [0.2222222222222222, \"#7201a8\"], [0.3333333333333333, \"#9c179e\"], [0.4444444444444444, \"#bd3786\"], [0.5555555555555556, \"#d8576b\"], [0.6666666666666666, \"#ed7953\"], [0.7777777777777778, \"#fb9f3a\"], [0.8888888888888888, \"#fdca26\"], [1.0, \"#f0f921\"]], \"sequentialminus\": [[0.0, \"#0d0887\"], [0.1111111111111111, \"#46039f\"], [0.2222222222222222, \"#7201a8\"], [0.3333333333333333, \"#9c179e\"], [0.4444444444444444, \"#bd3786\"], [0.5555555555555556, \"#d8576b\"], [0.6666666666666666, \"#ed7953\"], [0.7777777777777778, \"#fb9f3a\"], [0.8888888888888888, \"#fdca26\"], [1.0, \"#f0f921\"]]}, \"colorway\": [\"#636efa\", \"#EF553B\", \"#00cc96\", \"#ab63fa\", \"#FFA15A\", \"#19d3f3\", \"#FF6692\", \"#B6E880\", \"#FF97FF\", \"#FECB52\"], \"font\": {\"color\": \"#2a3f5f\"}, \"geo\": {\"bgcolor\": \"white\", \"lakecolor\": \"white\", \"landcolor\": \"#E5ECF6\", \"showlakes\": true, \"showland\": true, \"subunitcolor\": \"white\"}, \"hoverlabel\": {\"align\": \"left\"}, \"hovermode\": \"closest\", \"mapbox\": {\"style\": \"light\"}, \"paper_bgcolor\": \"white\", \"plot_bgcolor\": \"#E5ECF6\", \"polar\": {\"angularaxis\": {\"gridcolor\": \"white\", \"linecolor\": \"white\", \"ticks\": \"\"}, \"bgcolor\": \"#E5ECF6\", \"radialaxis\": {\"gridcolor\": \"white\", \"linecolor\": \"white\", \"ticks\": \"\"}}, \"scene\": {\"xaxis\": {\"backgroundcolor\": \"#E5ECF6\", \"gridcolor\": \"white\", \"gridwidth\": 2, \"linecolor\": \"white\", \"showbackground\": true, \"ticks\": \"\", \"zerolinecolor\": \"white\"}, \"yaxis\": {\"backgroundcolor\": \"#E5ECF6\", \"gridcolor\": \"white\", \"gridwidth\": 2, \"linecolor\": \"white\", \"showbackground\": true, \"ticks\": \"\", \"zerolinecolor\": \"white\"}, \"zaxis\": {\"backgroundcolor\": \"#E5ECF6\", \"gridcolor\": \"white\", \"gridwidth\": 2, \"linecolor\": \"white\", \"showbackground\": true, \"ticks\": \"\", \"zerolinecolor\": \"white\"}}, \"shapedefaults\": {\"line\": {\"color\": \"#2a3f5f\"}}, \"ternary\": {\"aaxis\": {\"gridcolor\": \"white\", \"linecolor\": \"white\", \"ticks\": \"\"}, \"baxis\": {\"gridcolor\": \"white\", \"linecolor\": \"white\", \"ticks\": \"\"}, \"bgcolor\": \"#E5ECF6\", \"caxis\": {\"gridcolor\": \"white\", \"linecolor\": \"white\", \"ticks\": \"\"}}, \"title\": {\"x\": 0.05}, \"xaxis\": {\"automargin\": true, \"gridcolor\": \"white\", \"linecolor\": \"white\", \"ticks\": \"\", \"title\": {\"standoff\": 15}, \"zerolinecolor\": \"white\", \"zerolinewidth\": 2}, \"yaxis\": {\"automargin\": true, \"gridcolor\": \"white\", \"linecolor\": \"white\", \"ticks\": \"\", \"title\": {\"standoff\": 15}, \"zerolinecolor\": \"white\", \"zerolinewidth\": 2}}}, \"title\": {\"text\": \"MBTA Subway Total Ridership per Line (Jan 2016 - Sep 2019)\"}, \"updatemenus\": [{\"active\": 0, \"buttons\": [{\"args\": [{\"visible\": [true, true, true, true, true]}, {\"title\": \"MBTA Subway Total Ridership per Line (Jan 2016 - Sep 2019)\"}], \"label\": \"All\", \"method\": \"update\"}, {\"args\": [{\"visible\": [true, false, false, false, false]}, {\"title\": \"Red Line\"}], \"label\": \"Red\", \"method\": \"update\"}, {\"args\": [{\"visible\": [false, true, false, false, false]}, {\"title\": \"Blue Line\"}], \"label\": \"Blue\", \"method\": \"update\"}, {\"args\": [{\"visible\": [false, false, true, false, false]}, {\"title\": \"Orange Line\"}], \"label\": \"Orange\", \"method\": \"update\"}, {\"args\": [{\"visible\": [false, false, false, true, false]}, {\"title\": \"Silver Line\"}], \"label\": \"Silver\", \"method\": \"update\"}, {\"args\": [{\"visible\": [false, false, false, false, true]}, {\"title\": \"Green Line\"}], \"label\": \"Green\", \"method\": \"update\"}], \"direction\": \"right\", \"type\": \"buttons\", \"x\": 0.7, \"y\": -0.2}], \"xaxis\": {\"range\": [\"2016-01-01\", \"2019-09-01\"]}},\n",
       "                        {\"responsive\": true}\n",
       "                    ).then(function(){\n",
       "                            \n",
       "var gd = document.getElementById('f1c0a62c-5ff8-4281-ad4f-71a933472bea');\n",
       "var x = new MutationObserver(function (mutations, observer) {{\n",
       "        var display = window.getComputedStyle(gd).display;\n",
       "        if (!display || display === 'none') {{\n",
       "            console.log([gd, 'removed!']);\n",
       "            Plotly.purge(gd);\n",
       "            observer.disconnect();\n",
       "        }}\n",
       "}});\n",
       "\n",
       "// Listen for the removal of the full notebook cells\n",
       "var notebookContainer = gd.closest('#notebook-container');\n",
       "if (notebookContainer) {{\n",
       "    x.observe(notebookContainer, {childList: true});\n",
       "}}\n",
       "\n",
       "// Listen for the clearing of the current output cell\n",
       "var outputEl = gd.closest('.output');\n",
       "if (outputEl) {{\n",
       "    x.observe(outputEl, {childList: true});\n",
       "}}\n",
       "\n",
       "                        })\n",
       "                };\n",
       "                });\n",
       "            </script>\n",
       "        </div>"
      ]
     },
     "metadata": {},
     "output_type": "display_data"
    }
   ],
   "source": [
    "time_plot('total_monthly_ridership', 'MBTA Subway Total Ridership per Line (Jan 2016 - Sep 2019)')"
   ]
  },
  {
   "cell_type": "code",
   "execution_count": 113,
   "metadata": {},
   "outputs": [
    {
     "data": {
      "application/vnd.plotly.v1+json": {
       "config": {
        "plotlyServerURL": "https://plot.ly"
       },
       "data": [
        {
         "line": {
          "color": "red"
         },
         "name": "Red Line",
         "opacity": 0.8,
         "type": "scatter",
         "x": [
          "2016-01-01T05:00:00.000Z",
          "2016-02-01T05:00:00.000Z",
          "2016-03-01T05:00:00.000Z",
          "2016-04-01T04:00:00.000Z",
          "2016-05-01T04:00:00.000Z",
          "2016-06-01T04:00:00.000Z",
          "2016-07-01T04:00:00.000Z",
          "2016-08-01T04:00:00.000Z",
          "2016-09-01T04:00:00.000Z",
          "2016-10-01T04:00:00.000Z",
          "2016-11-01T04:00:00.000Z",
          "2016-12-01T05:00:00.000Z",
          "2017-01-01T05:00:00.000Z",
          "2017-02-01T05:00:00.000Z",
          "2017-03-01T05:00:00.000Z",
          "2017-04-01T04:00:00.000Z",
          "2017-05-01T04:00:00.000Z",
          "2017-06-01T04:00:00.000Z",
          "2017-07-01T04:00:00.000Z",
          "2017-08-01T04:00:00.000Z",
          "2017-09-01T04:00:00.000Z",
          "2017-10-01T04:00:00.000Z",
          "2017-11-01T04:00:00.000Z",
          "2017-12-01T05:00:00.000Z",
          "2018-01-01T05:00:00.000Z",
          "2018-02-01T05:00:00.000Z",
          "2018-03-01T05:00:00.000Z",
          "2018-04-01T04:00:00.000Z",
          "2018-05-01T04:00:00.000Z",
          "2018-06-01T04:00:00.000Z",
          "2018-07-01T04:00:00.000Z",
          "2018-08-01T04:00:00.000Z",
          "2018-09-01T04:00:00.000Z",
          "2018-10-01T04:00:00.000Z",
          "2018-11-01T04:00:00.000Z",
          "2018-12-01T05:00:00.000Z",
          "2019-01-01T05:00:00.000Z",
          "2019-02-01T05:00:00.000Z",
          "2019-03-01T05:00:00.000Z",
          "2019-04-01T04:00:00.000Z",
          "2019-05-01T04:00:00.000Z",
          "2019-06-01T04:00:00.000Z",
          "2019-07-01T04:00:00.000Z",
          "2019-08-01T04:00:00.000Z",
          "2019-09-01T04:00:00.000Z"
         ],
         "y": [
          249403.1,
          256601.6,
          262915.6,
          265394.4,
          264122.5,
          267338.9,
          263510.4,
          251070.9,
          271555.6,
          269393.9,
          257772.9,
          235470.8,
          246768.3,
          247200.2,
          250022.8,
          263663.9,
          261847.3,
          262444.3,
          258455.6,
          251572.3,
          270487.3,
          268118.2,
          256701.4,
          227430,
          223623.3,
          242837,
          227884.3,
          253139.8,
          257042.6,
          255259.9,
          243385.3,
          235267.8,
          255740,
          258926.5,
          241875,
          213515.1,
          227426.2,
          240552,
          238971.1,
          245081.8,
          246479.3,
          237862,
          228236.3,
          221822.7,
          245787.7
         ]
        },
        {
         "line": {
          "color": "navy"
         },
         "name": "Blue Line",
         "opacity": 0.8,
         "type": "scatter",
         "x": [
          "2016-01-01T05:00:00.000Z",
          "2016-02-01T05:00:00.000Z",
          "2016-03-01T05:00:00.000Z",
          "2016-04-01T04:00:00.000Z",
          "2016-05-01T04:00:00.000Z",
          "2016-06-01T04:00:00.000Z",
          "2016-07-01T04:00:00.000Z",
          "2016-08-01T04:00:00.000Z",
          "2016-09-01T04:00:00.000Z",
          "2016-10-01T04:00:00.000Z",
          "2016-11-01T04:00:00.000Z",
          "2016-12-01T05:00:00.000Z",
          "2017-01-01T05:00:00.000Z",
          "2017-02-01T05:00:00.000Z",
          "2017-03-01T05:00:00.000Z",
          "2017-04-01T04:00:00.000Z",
          "2017-05-01T04:00:00.000Z",
          "2017-06-01T04:00:00.000Z",
          "2017-07-01T04:00:00.000Z",
          "2017-08-01T04:00:00.000Z",
          "2017-09-01T04:00:00.000Z",
          "2017-10-01T04:00:00.000Z",
          "2017-11-01T04:00:00.000Z",
          "2017-12-01T05:00:00.000Z",
          "2018-01-01T05:00:00.000Z",
          "2018-02-01T05:00:00.000Z",
          "2018-03-01T05:00:00.000Z",
          "2018-04-01T04:00:00.000Z",
          "2018-05-01T04:00:00.000Z",
          "2018-06-01T04:00:00.000Z",
          "2018-07-01T04:00:00.000Z",
          "2018-08-01T04:00:00.000Z",
          "2018-09-01T04:00:00.000Z",
          "2018-10-01T04:00:00.000Z",
          "2018-11-01T04:00:00.000Z",
          "2018-12-01T05:00:00.000Z",
          "2019-01-01T05:00:00.000Z",
          "2019-02-01T05:00:00.000Z",
          "2019-03-01T05:00:00.000Z",
          "2019-04-01T04:00:00.000Z",
          "2019-05-01T04:00:00.000Z",
          "2019-06-01T04:00:00.000Z",
          "2019-07-01T04:00:00.000Z",
          "2019-08-01T04:00:00.000Z",
          "2019-09-01T04:00:00.000Z"
         ],
         "y": [
          60150,
          61032,
          65657.3,
          71995.9,
          72288.7,
          75494.4,
          75480.5,
          72455.1,
          75057.2,
          73816.6,
          70775.8,
          66660.1,
          66660.2,
          65977,
          67045,
          72875.2,
          72612.2,
          76628.1,
          75682.9,
          74686.2,
          77762.4,
          76656.3,
          72503.4,
          66595.6,
          63009.7,
          69542.1,
          65413.3,
          73725.2,
          77106.7,
          78195.7,
          75612.7,
          71984.5,
          75470.8,
          76020.7,
          70529.1,
          64576,
          66228.7,
          67953.9,
          68351.4,
          72705.1,
          74149.7,
          77067.9,
          75047.8,
          73462.4,
          76422.8
         ]
        },
        {
         "line": {
          "color": "orange"
         },
         "name": "Orange Line",
         "opacity": 0.8,
         "type": "scatter",
         "x": [
          "2016-01-01T05:00:00.000Z",
          "2016-02-01T05:00:00.000Z",
          "2016-03-01T05:00:00.000Z",
          "2016-04-01T04:00:00.000Z",
          "2016-05-01T04:00:00.000Z",
          "2016-06-01T04:00:00.000Z",
          "2016-07-01T04:00:00.000Z",
          "2016-08-01T04:00:00.000Z",
          "2016-09-01T04:00:00.000Z",
          "2016-10-01T04:00:00.000Z",
          "2016-11-01T04:00:00.000Z",
          "2016-12-01T05:00:00.000Z",
          "2017-01-01T05:00:00.000Z",
          "2017-02-01T05:00:00.000Z",
          "2017-03-01T05:00:00.000Z",
          "2017-04-01T04:00:00.000Z",
          "2017-05-01T04:00:00.000Z",
          "2017-06-01T04:00:00.000Z",
          "2017-07-01T04:00:00.000Z",
          "2017-08-01T04:00:00.000Z",
          "2017-09-01T04:00:00.000Z",
          "2017-10-01T04:00:00.000Z",
          "2017-11-01T04:00:00.000Z",
          "2017-12-01T05:00:00.000Z",
          "2018-01-01T05:00:00.000Z",
          "2018-02-01T05:00:00.000Z",
          "2018-03-01T05:00:00.000Z",
          "2018-04-01T04:00:00.000Z",
          "2018-05-01T04:00:00.000Z",
          "2018-06-01T04:00:00.000Z",
          "2018-07-01T04:00:00.000Z",
          "2018-08-01T04:00:00.000Z",
          "2018-09-01T04:00:00.000Z",
          "2018-10-01T04:00:00.000Z",
          "2018-11-01T04:00:00.000Z",
          "2018-12-01T05:00:00.000Z",
          "2019-01-01T05:00:00.000Z",
          "2019-02-01T05:00:00.000Z",
          "2019-03-01T05:00:00.000Z",
          "2019-04-01T04:00:00.000Z",
          "2019-05-01T04:00:00.000Z",
          "2019-06-01T04:00:00.000Z",
          "2019-07-01T04:00:00.000Z",
          "2019-08-01T04:00:00.000Z",
          "2019-09-01T04:00:00.000Z"
         ],
         "y": [
          216361,
          218982.5,
          222687.6,
          222891.4,
          220411.3,
          220941,
          211654.7,
          204021,
          223923.6,
          221483.9,
          214181.2,
          197389.3,
          207661,
          204586.4,
          205908.2,
          215577.4,
          213569.3,
          214283.8,
          205059.9,
          201051.5,
          222375.2,
          221487.5,
          211914.7,
          191612.8,
          189872.1,
          207264.2,
          191832.8,
          212527,
          214680.4,
          213176.7,
          200126,
          193507.7,
          212813.6,
          216548.2,
          203332.7,
          181512.7,
          192852.4,
          198944.1,
          199170.5,
          205790,
          207373.7,
          208337.1,
          197853.6,
          192687.6,
          215557.2
         ]
        },
        {
         "line": {
          "color": "gray"
         },
         "name": "Silver Line",
         "opacity": 0.8,
         "type": "scatter",
         "x": [
          "2016-01-01T05:00:00.000Z",
          "2016-02-01T05:00:00.000Z",
          "2016-03-01T05:00:00.000Z",
          "2016-04-01T04:00:00.000Z",
          "2016-05-01T04:00:00.000Z",
          "2016-06-01T04:00:00.000Z",
          "2016-07-01T04:00:00.000Z",
          "2016-08-01T04:00:00.000Z",
          "2016-09-01T04:00:00.000Z",
          "2016-10-01T04:00:00.000Z",
          "2016-11-01T04:00:00.000Z",
          "2016-12-01T05:00:00.000Z",
          "2017-01-01T05:00:00.000Z",
          "2017-02-01T05:00:00.000Z",
          "2017-03-01T05:00:00.000Z",
          "2017-04-01T04:00:00.000Z",
          "2017-05-01T04:00:00.000Z",
          "2017-06-01T04:00:00.000Z",
          "2017-07-01T04:00:00.000Z",
          "2017-08-01T04:00:00.000Z",
          "2017-09-01T04:00:00.000Z",
          "2017-10-01T04:00:00.000Z",
          "2017-11-01T04:00:00.000Z",
          "2017-12-01T05:00:00.000Z",
          "2018-01-01T05:00:00.000Z",
          "2018-02-01T05:00:00.000Z",
          "2018-03-01T05:00:00.000Z",
          "2018-04-01T04:00:00.000Z",
          "2018-05-01T04:00:00.000Z",
          "2018-06-01T04:00:00.000Z",
          "2018-07-01T04:00:00.000Z",
          "2018-08-01T04:00:00.000Z",
          "2018-09-01T04:00:00.000Z",
          "2018-10-01T04:00:00.000Z",
          "2018-11-01T04:00:00.000Z",
          "2018-12-01T05:00:00.000Z",
          "2019-01-01T05:00:00.000Z",
          "2019-02-01T05:00:00.000Z",
          "2019-03-01T05:00:00.000Z",
          "2019-04-01T04:00:00.000Z",
          "2019-05-01T04:00:00.000Z",
          "2019-06-01T04:00:00.000Z",
          "2019-07-01T04:00:00.000Z",
          "2019-08-01T04:00:00.000Z",
          "2019-09-01T04:00:00.000Z"
         ],
         "y": [
          35250.6,
          36513.3,
          39202.7,
          40681.6,
          37298,
          38430.2,
          37245.7,
          35797.7,
          34481.4,
          35758.9,
          34173.3,
          31723,
          33430.4,
          31755.7,
          33487.7,
          34089.4,
          35346,
          34820,
          36217.1,
          34291.6,
          33189.8,
          33986.5,
          32832.8,
          30618.1,
          30246.8,
          31507.8,
          31306.1,
          35483.6,
          37149.8,
          37375.8,
          37584.7,
          37370.5,
          37043,
          38258.1,
          38024.3,
          32966.7,
          34696.5,
          34477.8,
          37461,
          37411.9,
          38654.1,
          38280.7,
          37508.7,
          37446.1,
          36944.3
         ]
        },
        {
         "line": {
          "color": "green"
         },
         "name": "Green Line",
         "opacity": 0.8,
         "type": "scatter",
         "x": [
          "2016-01-01T05:00:00.000Z",
          "2016-02-01T05:00:00.000Z",
          "2016-03-01T05:00:00.000Z",
          "2016-04-01T04:00:00.000Z",
          "2016-05-01T04:00:00.000Z",
          "2016-06-01T04:00:00.000Z",
          "2016-07-01T04:00:00.000Z",
          "2016-08-01T04:00:00.000Z",
          "2016-09-01T04:00:00.000Z",
          "2016-10-01T04:00:00.000Z",
          "2016-11-01T04:00:00.000Z",
          "2016-12-01T05:00:00.000Z",
          "2017-01-01T05:00:00.000Z",
          "2017-02-01T05:00:00.000Z",
          "2017-03-01T05:00:00.000Z",
          "2017-04-01T04:00:00.000Z",
          "2017-05-01T04:00:00.000Z",
          "2017-06-01T04:00:00.000Z",
          "2017-07-01T04:00:00.000Z",
          "2017-08-01T04:00:00.000Z",
          "2017-09-01T04:00:00.000Z",
          "2017-10-01T04:00:00.000Z",
          "2017-11-01T04:00:00.000Z",
          "2017-12-01T05:00:00.000Z",
          "2018-01-01T05:00:00.000Z",
          "2018-02-01T05:00:00.000Z",
          "2018-03-01T05:00:00.000Z",
          "2018-04-01T04:00:00.000Z",
          "2018-05-01T04:00:00.000Z",
          "2018-06-01T04:00:00.000Z",
          "2018-07-01T04:00:00.000Z",
          "2018-08-01T04:00:00.000Z",
          "2018-09-01T04:00:00.000Z",
          "2018-10-01T04:00:00.000Z",
          "2018-11-01T04:00:00.000Z",
          "2018-12-01T05:00:00.000Z",
          "2019-01-01T05:00:00.000Z",
          "2019-02-01T05:00:00.000Z",
          "2019-03-01T05:00:00.000Z",
          "2019-04-01T04:00:00.000Z",
          "2019-05-01T04:00:00.000Z",
          "2019-06-01T04:00:00.000Z",
          "2019-07-01T04:00:00.000Z",
          "2019-08-01T04:00:00.000Z",
          "2019-09-01T04:00:00.000Z"
         ],
         "y": [
          177158.2,
          187614.4,
          190772.5,
          201126.6,
          187312.9,
          188366.5,
          186073.4,
          174082.5,
          194120.1,
          191863.6,
          182463,
          166552.1,
          168436.9,
          175539.3,
          174357.4,
          190312.7,
          175227.4,
          179910.7,
          172232.4,
          164419.2,
          189456.8,
          180739.1,
          174679.2,
          155122.9,
          149577.9,
          168149.5,
          154556.8,
          176924.9,
          170222.6,
          169237.1,
          171155.9,
          161171.6,
          187451.8,
          189116,
          172223.5,
          152131.5,
          158195.4,
          168663,
          165682.3,
          173633.9,
          164762.1,
          165275,
          156253,
          146950.6,
          158951.9
         ]
        }
       ],
       "layout": {
        "template": {
         "data": {
          "bar": [
           {
            "error_x": {
             "color": "#2a3f5f"
            },
            "error_y": {
             "color": "#2a3f5f"
            },
            "marker": {
             "line": {
              "color": "#E5ECF6",
              "width": 0.5
             }
            },
            "type": "bar"
           }
          ],
          "barpolar": [
           {
            "marker": {
             "line": {
              "color": "#E5ECF6",
              "width": 0.5
             }
            },
            "type": "barpolar"
           }
          ],
          "carpet": [
           {
            "aaxis": {
             "endlinecolor": "#2a3f5f",
             "gridcolor": "white",
             "linecolor": "white",
             "minorgridcolor": "white",
             "startlinecolor": "#2a3f5f"
            },
            "baxis": {
             "endlinecolor": "#2a3f5f",
             "gridcolor": "white",
             "linecolor": "white",
             "minorgridcolor": "white",
             "startlinecolor": "#2a3f5f"
            },
            "type": "carpet"
           }
          ],
          "choropleth": [
           {
            "colorbar": {
             "outlinewidth": 0,
             "ticks": ""
            },
            "type": "choropleth"
           }
          ],
          "contour": [
           {
            "colorbar": {
             "outlinewidth": 0,
             "ticks": ""
            },
            "colorscale": [
             [
              0,
              "#0d0887"
             ],
             [
              0.1111111111111111,
              "#46039f"
             ],
             [
              0.2222222222222222,
              "#7201a8"
             ],
             [
              0.3333333333333333,
              "#9c179e"
             ],
             [
              0.4444444444444444,
              "#bd3786"
             ],
             [
              0.5555555555555556,
              "#d8576b"
             ],
             [
              0.6666666666666666,
              "#ed7953"
             ],
             [
              0.7777777777777778,
              "#fb9f3a"
             ],
             [
              0.8888888888888888,
              "#fdca26"
             ],
             [
              1,
              "#f0f921"
             ]
            ],
            "type": "contour"
           }
          ],
          "contourcarpet": [
           {
            "colorbar": {
             "outlinewidth": 0,
             "ticks": ""
            },
            "type": "contourcarpet"
           }
          ],
          "heatmap": [
           {
            "colorbar": {
             "outlinewidth": 0,
             "ticks": ""
            },
            "colorscale": [
             [
              0,
              "#0d0887"
             ],
             [
              0.1111111111111111,
              "#46039f"
             ],
             [
              0.2222222222222222,
              "#7201a8"
             ],
             [
              0.3333333333333333,
              "#9c179e"
             ],
             [
              0.4444444444444444,
              "#bd3786"
             ],
             [
              0.5555555555555556,
              "#d8576b"
             ],
             [
              0.6666666666666666,
              "#ed7953"
             ],
             [
              0.7777777777777778,
              "#fb9f3a"
             ],
             [
              0.8888888888888888,
              "#fdca26"
             ],
             [
              1,
              "#f0f921"
             ]
            ],
            "type": "heatmap"
           }
          ],
          "heatmapgl": [
           {
            "colorbar": {
             "outlinewidth": 0,
             "ticks": ""
            },
            "colorscale": [
             [
              0,
              "#0d0887"
             ],
             [
              0.1111111111111111,
              "#46039f"
             ],
             [
              0.2222222222222222,
              "#7201a8"
             ],
             [
              0.3333333333333333,
              "#9c179e"
             ],
             [
              0.4444444444444444,
              "#bd3786"
             ],
             [
              0.5555555555555556,
              "#d8576b"
             ],
             [
              0.6666666666666666,
              "#ed7953"
             ],
             [
              0.7777777777777778,
              "#fb9f3a"
             ],
             [
              0.8888888888888888,
              "#fdca26"
             ],
             [
              1,
              "#f0f921"
             ]
            ],
            "type": "heatmapgl"
           }
          ],
          "histogram": [
           {
            "marker": {
             "colorbar": {
              "outlinewidth": 0,
              "ticks": ""
             }
            },
            "type": "histogram"
           }
          ],
          "histogram2d": [
           {
            "colorbar": {
             "outlinewidth": 0,
             "ticks": ""
            },
            "colorscale": [
             [
              0,
              "#0d0887"
             ],
             [
              0.1111111111111111,
              "#46039f"
             ],
             [
              0.2222222222222222,
              "#7201a8"
             ],
             [
              0.3333333333333333,
              "#9c179e"
             ],
             [
              0.4444444444444444,
              "#bd3786"
             ],
             [
              0.5555555555555556,
              "#d8576b"
             ],
             [
              0.6666666666666666,
              "#ed7953"
             ],
             [
              0.7777777777777778,
              "#fb9f3a"
             ],
             [
              0.8888888888888888,
              "#fdca26"
             ],
             [
              1,
              "#f0f921"
             ]
            ],
            "type": "histogram2d"
           }
          ],
          "histogram2dcontour": [
           {
            "colorbar": {
             "outlinewidth": 0,
             "ticks": ""
            },
            "colorscale": [
             [
              0,
              "#0d0887"
             ],
             [
              0.1111111111111111,
              "#46039f"
             ],
             [
              0.2222222222222222,
              "#7201a8"
             ],
             [
              0.3333333333333333,
              "#9c179e"
             ],
             [
              0.4444444444444444,
              "#bd3786"
             ],
             [
              0.5555555555555556,
              "#d8576b"
             ],
             [
              0.6666666666666666,
              "#ed7953"
             ],
             [
              0.7777777777777778,
              "#fb9f3a"
             ],
             [
              0.8888888888888888,
              "#fdca26"
             ],
             [
              1,
              "#f0f921"
             ]
            ],
            "type": "histogram2dcontour"
           }
          ],
          "mesh3d": [
           {
            "colorbar": {
             "outlinewidth": 0,
             "ticks": ""
            },
            "type": "mesh3d"
           }
          ],
          "parcoords": [
           {
            "line": {
             "colorbar": {
              "outlinewidth": 0,
              "ticks": ""
             }
            },
            "type": "parcoords"
           }
          ],
          "pie": [
           {
            "automargin": true,
            "type": "pie"
           }
          ],
          "scatter": [
           {
            "marker": {
             "colorbar": {
              "outlinewidth": 0,
              "ticks": ""
             }
            },
            "type": "scatter"
           }
          ],
          "scatter3d": [
           {
            "line": {
             "colorbar": {
              "outlinewidth": 0,
              "ticks": ""
             }
            },
            "marker": {
             "colorbar": {
              "outlinewidth": 0,
              "ticks": ""
             }
            },
            "type": "scatter3d"
           }
          ],
          "scattercarpet": [
           {
            "marker": {
             "colorbar": {
              "outlinewidth": 0,
              "ticks": ""
             }
            },
            "type": "scattercarpet"
           }
          ],
          "scattergeo": [
           {
            "marker": {
             "colorbar": {
              "outlinewidth": 0,
              "ticks": ""
             }
            },
            "type": "scattergeo"
           }
          ],
          "scattergl": [
           {
            "marker": {
             "colorbar": {
              "outlinewidth": 0,
              "ticks": ""
             }
            },
            "type": "scattergl"
           }
          ],
          "scattermapbox": [
           {
            "marker": {
             "colorbar": {
              "outlinewidth": 0,
              "ticks": ""
             }
            },
            "type": "scattermapbox"
           }
          ],
          "scatterpolar": [
           {
            "marker": {
             "colorbar": {
              "outlinewidth": 0,
              "ticks": ""
             }
            },
            "type": "scatterpolar"
           }
          ],
          "scatterpolargl": [
           {
            "marker": {
             "colorbar": {
              "outlinewidth": 0,
              "ticks": ""
             }
            },
            "type": "scatterpolargl"
           }
          ],
          "scatterternary": [
           {
            "marker": {
             "colorbar": {
              "outlinewidth": 0,
              "ticks": ""
             }
            },
            "type": "scatterternary"
           }
          ],
          "surface": [
           {
            "colorbar": {
             "outlinewidth": 0,
             "ticks": ""
            },
            "colorscale": [
             [
              0,
              "#0d0887"
             ],
             [
              0.1111111111111111,
              "#46039f"
             ],
             [
              0.2222222222222222,
              "#7201a8"
             ],
             [
              0.3333333333333333,
              "#9c179e"
             ],
             [
              0.4444444444444444,
              "#bd3786"
             ],
             [
              0.5555555555555556,
              "#d8576b"
             ],
             [
              0.6666666666666666,
              "#ed7953"
             ],
             [
              0.7777777777777778,
              "#fb9f3a"
             ],
             [
              0.8888888888888888,
              "#fdca26"
             ],
             [
              1,
              "#f0f921"
             ]
            ],
            "type": "surface"
           }
          ],
          "table": [
           {
            "cells": {
             "fill": {
              "color": "#EBF0F8"
             },
             "line": {
              "color": "white"
             }
            },
            "header": {
             "fill": {
              "color": "#C8D4E3"
             },
             "line": {
              "color": "white"
             }
            },
            "type": "table"
           }
          ]
         },
         "layout": {
          "annotationdefaults": {
           "arrowcolor": "#2a3f5f",
           "arrowhead": 0,
           "arrowwidth": 1
          },
          "coloraxis": {
           "colorbar": {
            "outlinewidth": 0,
            "ticks": ""
           }
          },
          "colorscale": {
           "diverging": [
            [
             0,
             "#8e0152"
            ],
            [
             0.1,
             "#c51b7d"
            ],
            [
             0.2,
             "#de77ae"
            ],
            [
             0.3,
             "#f1b6da"
            ],
            [
             0.4,
             "#fde0ef"
            ],
            [
             0.5,
             "#f7f7f7"
            ],
            [
             0.6,
             "#e6f5d0"
            ],
            [
             0.7,
             "#b8e186"
            ],
            [
             0.8,
             "#7fbc41"
            ],
            [
             0.9,
             "#4d9221"
            ],
            [
             1,
             "#276419"
            ]
           ],
           "sequential": [
            [
             0,
             "#0d0887"
            ],
            [
             0.1111111111111111,
             "#46039f"
            ],
            [
             0.2222222222222222,
             "#7201a8"
            ],
            [
             0.3333333333333333,
             "#9c179e"
            ],
            [
             0.4444444444444444,
             "#bd3786"
            ],
            [
             0.5555555555555556,
             "#d8576b"
            ],
            [
             0.6666666666666666,
             "#ed7953"
            ],
            [
             0.7777777777777778,
             "#fb9f3a"
            ],
            [
             0.8888888888888888,
             "#fdca26"
            ],
            [
             1,
             "#f0f921"
            ]
           ],
           "sequentialminus": [
            [
             0,
             "#0d0887"
            ],
            [
             0.1111111111111111,
             "#46039f"
            ],
            [
             0.2222222222222222,
             "#7201a8"
            ],
            [
             0.3333333333333333,
             "#9c179e"
            ],
            [
             0.4444444444444444,
             "#bd3786"
            ],
            [
             0.5555555555555556,
             "#d8576b"
            ],
            [
             0.6666666666666666,
             "#ed7953"
            ],
            [
             0.7777777777777778,
             "#fb9f3a"
            ],
            [
             0.8888888888888888,
             "#fdca26"
            ],
            [
             1,
             "#f0f921"
            ]
           ]
          },
          "colorway": [
           "#636efa",
           "#EF553B",
           "#00cc96",
           "#ab63fa",
           "#FFA15A",
           "#19d3f3",
           "#FF6692",
           "#B6E880",
           "#FF97FF",
           "#FECB52"
          ],
          "font": {
           "color": "#2a3f5f"
          },
          "geo": {
           "bgcolor": "white",
           "lakecolor": "white",
           "landcolor": "#E5ECF6",
           "showlakes": true,
           "showland": true,
           "subunitcolor": "white"
          },
          "hoverlabel": {
           "align": "left"
          },
          "hovermode": "closest",
          "mapbox": {
           "style": "light"
          },
          "paper_bgcolor": "white",
          "plot_bgcolor": "#E5ECF6",
          "polar": {
           "angularaxis": {
            "gridcolor": "white",
            "linecolor": "white",
            "ticks": ""
           },
           "bgcolor": "#E5ECF6",
           "radialaxis": {
            "gridcolor": "white",
            "linecolor": "white",
            "ticks": ""
           }
          },
          "scene": {
           "xaxis": {
            "backgroundcolor": "#E5ECF6",
            "gridcolor": "white",
            "gridwidth": 2,
            "linecolor": "white",
            "showbackground": true,
            "ticks": "",
            "zerolinecolor": "white"
           },
           "yaxis": {
            "backgroundcolor": "#E5ECF6",
            "gridcolor": "white",
            "gridwidth": 2,
            "linecolor": "white",
            "showbackground": true,
            "ticks": "",
            "zerolinecolor": "white"
           },
           "zaxis": {
            "backgroundcolor": "#E5ECF6",
            "gridcolor": "white",
            "gridwidth": 2,
            "linecolor": "white",
            "showbackground": true,
            "ticks": "",
            "zerolinecolor": "white"
           }
          },
          "shapedefaults": {
           "line": {
            "color": "#2a3f5f"
           }
          },
          "ternary": {
           "aaxis": {
            "gridcolor": "white",
            "linecolor": "white",
            "ticks": ""
           },
           "baxis": {
            "gridcolor": "white",
            "linecolor": "white",
            "ticks": ""
           },
           "bgcolor": "#E5ECF6",
           "caxis": {
            "gridcolor": "white",
            "linecolor": "white",
            "ticks": ""
           }
          },
          "title": {
           "x": 0.05
          },
          "xaxis": {
           "automargin": true,
           "gridcolor": "white",
           "linecolor": "white",
           "ticks": "",
           "title": {
            "standoff": 15
           },
           "zerolinecolor": "white",
           "zerolinewidth": 2
          },
          "yaxis": {
           "automargin": true,
           "gridcolor": "white",
           "linecolor": "white",
           "ticks": "",
           "title": {
            "standoff": 15
           },
           "zerolinecolor": "white",
           "zerolinewidth": 2
          }
         }
        },
        "title": {
         "text": "MBTA Subway Average Ridership per Line (Jan 2016 - Sep 2019)"
        },
        "updatemenus": [
         {
          "active": 0,
          "buttons": [
           {
            "args": [
             {
              "visible": [
               true,
               true,
               true,
               true,
               true
              ]
             },
             {
              "title": "MBTA Subway Average Ridership per Line (Jan 2016 - Sep 2019)"
             }
            ],
            "label": "All",
            "method": "update"
           },
           {
            "args": [
             {
              "visible": [
               true,
               false,
               false,
               false,
               false
              ]
             },
             {
              "title": "Red Line"
             }
            ],
            "label": "Red",
            "method": "update"
           },
           {
            "args": [
             {
              "visible": [
               false,
               true,
               false,
               false,
               false
              ]
             },
             {
              "title": "Blue Line"
             }
            ],
            "label": "Blue",
            "method": "update"
           },
           {
            "args": [
             {
              "visible": [
               false,
               false,
               true,
               false,
               false
              ]
             },
             {
              "title": "Orange Line"
             }
            ],
            "label": "Orange",
            "method": "update"
           },
           {
            "args": [
             {
              "visible": [
               false,
               false,
               false,
               true,
               false
              ]
             },
             {
              "title": "Silver Line"
             }
            ],
            "label": "Silver",
            "method": "update"
           },
           {
            "args": [
             {
              "visible": [
               false,
               false,
               false,
               false,
               true
              ]
             },
             {
              "title": "Green Line"
             }
            ],
            "label": "Green",
            "method": "update"
           }
          ],
          "direction": "right",
          "type": "buttons",
          "x": 0.7,
          "y": -0.2
         }
        ],
        "xaxis": {
         "range": [
          "2016-01-01",
          "2019-09-01"
         ]
        }
       }
      },
      "text/html": [
       "<div>\n",
       "        \n",
       "        \n",
       "            <div id=\"fe7b68b7-7ee8-4131-8200-e06dc8cb5d2b\" class=\"plotly-graph-div\" style=\"height:525px; width:100%;\"></div>\n",
       "            <script type=\"text/javascript\">\n",
       "                require([\"plotly\"], function(Plotly) {\n",
       "                    window.PLOTLYENV=window.PLOTLYENV || {};\n",
       "                    \n",
       "                if (document.getElementById(\"fe7b68b7-7ee8-4131-8200-e06dc8cb5d2b\")) {\n",
       "                    Plotly.newPlot(\n",
       "                        'fe7b68b7-7ee8-4131-8200-e06dc8cb5d2b',\n",
       "                        [{\"line\": {\"color\": \"red\"}, \"name\": \"Red Line\", \"opacity\": 0.8, \"type\": \"scatter\", \"x\": [\"2016-01-01T05:00:00.000Z\", \"2016-02-01T05:00:00.000Z\", \"2016-03-01T05:00:00.000Z\", \"2016-04-01T04:00:00.000Z\", \"2016-05-01T04:00:00.000Z\", \"2016-06-01T04:00:00.000Z\", \"2016-07-01T04:00:00.000Z\", \"2016-08-01T04:00:00.000Z\", \"2016-09-01T04:00:00.000Z\", \"2016-10-01T04:00:00.000Z\", \"2016-11-01T04:00:00.000Z\", \"2016-12-01T05:00:00.000Z\", \"2017-01-01T05:00:00.000Z\", \"2017-02-01T05:00:00.000Z\", \"2017-03-01T05:00:00.000Z\", \"2017-04-01T04:00:00.000Z\", \"2017-05-01T04:00:00.000Z\", \"2017-06-01T04:00:00.000Z\", \"2017-07-01T04:00:00.000Z\", \"2017-08-01T04:00:00.000Z\", \"2017-09-01T04:00:00.000Z\", \"2017-10-01T04:00:00.000Z\", \"2017-11-01T04:00:00.000Z\", \"2017-12-01T05:00:00.000Z\", \"2018-01-01T05:00:00.000Z\", \"2018-02-01T05:00:00.000Z\", \"2018-03-01T05:00:00.000Z\", \"2018-04-01T04:00:00.000Z\", \"2018-05-01T04:00:00.000Z\", \"2018-06-01T04:00:00.000Z\", \"2018-07-01T04:00:00.000Z\", \"2018-08-01T04:00:00.000Z\", \"2018-09-01T04:00:00.000Z\", \"2018-10-01T04:00:00.000Z\", \"2018-11-01T04:00:00.000Z\", \"2018-12-01T05:00:00.000Z\", \"2019-01-01T05:00:00.000Z\", \"2019-02-01T05:00:00.000Z\", \"2019-03-01T05:00:00.000Z\", \"2019-04-01T04:00:00.000Z\", \"2019-05-01T04:00:00.000Z\", \"2019-06-01T04:00:00.000Z\", \"2019-07-01T04:00:00.000Z\", \"2019-08-01T04:00:00.000Z\", \"2019-09-01T04:00:00.000Z\"], \"y\": [249403.1, 256601.6, 262915.6, 265394.4, 264122.5, 267338.9, 263510.4, 251070.9, 271555.6, 269393.9, 257772.9, 235470.8, 246768.3, 247200.2, 250022.8, 263663.9, 261847.3, 262444.3, 258455.6, 251572.3, 270487.3, 268118.2, 256701.4, 227430.0, 223623.3, 242837.0, 227884.3, 253139.8, 257042.6, 255259.9, 243385.3, 235267.8, 255740.0, 258926.5, 241875.0, 213515.1, 227426.2, 240552.0, 238971.1, 245081.8, 246479.3, 237862.0, 228236.3, 221822.7, 245787.7]}, {\"line\": {\"color\": \"navy\"}, \"name\": \"Blue Line\", \"opacity\": 0.8, \"type\": \"scatter\", \"x\": [\"2016-01-01T05:00:00.000Z\", \"2016-02-01T05:00:00.000Z\", \"2016-03-01T05:00:00.000Z\", \"2016-04-01T04:00:00.000Z\", \"2016-05-01T04:00:00.000Z\", \"2016-06-01T04:00:00.000Z\", \"2016-07-01T04:00:00.000Z\", \"2016-08-01T04:00:00.000Z\", \"2016-09-01T04:00:00.000Z\", \"2016-10-01T04:00:00.000Z\", \"2016-11-01T04:00:00.000Z\", \"2016-12-01T05:00:00.000Z\", \"2017-01-01T05:00:00.000Z\", \"2017-02-01T05:00:00.000Z\", \"2017-03-01T05:00:00.000Z\", \"2017-04-01T04:00:00.000Z\", \"2017-05-01T04:00:00.000Z\", \"2017-06-01T04:00:00.000Z\", \"2017-07-01T04:00:00.000Z\", \"2017-08-01T04:00:00.000Z\", \"2017-09-01T04:00:00.000Z\", \"2017-10-01T04:00:00.000Z\", \"2017-11-01T04:00:00.000Z\", \"2017-12-01T05:00:00.000Z\", \"2018-01-01T05:00:00.000Z\", \"2018-02-01T05:00:00.000Z\", \"2018-03-01T05:00:00.000Z\", \"2018-04-01T04:00:00.000Z\", \"2018-05-01T04:00:00.000Z\", \"2018-06-01T04:00:00.000Z\", \"2018-07-01T04:00:00.000Z\", \"2018-08-01T04:00:00.000Z\", \"2018-09-01T04:00:00.000Z\", \"2018-10-01T04:00:00.000Z\", \"2018-11-01T04:00:00.000Z\", \"2018-12-01T05:00:00.000Z\", \"2019-01-01T05:00:00.000Z\", \"2019-02-01T05:00:00.000Z\", \"2019-03-01T05:00:00.000Z\", \"2019-04-01T04:00:00.000Z\", \"2019-05-01T04:00:00.000Z\", \"2019-06-01T04:00:00.000Z\", \"2019-07-01T04:00:00.000Z\", \"2019-08-01T04:00:00.000Z\", \"2019-09-01T04:00:00.000Z\"], \"y\": [60150.0, 61032.0, 65657.3, 71995.9, 72288.7, 75494.4, 75480.5, 72455.1, 75057.2, 73816.6, 70775.8, 66660.1, 66660.2, 65977.0, 67045.0, 72875.2, 72612.2, 76628.1, 75682.9, 74686.2, 77762.4, 76656.3, 72503.4, 66595.6, 63009.7, 69542.1, 65413.3, 73725.2, 77106.7, 78195.7, 75612.7, 71984.5, 75470.8, 76020.7, 70529.1, 64576.0, 66228.7, 67953.9, 68351.4, 72705.1, 74149.7, 77067.9, 75047.8, 73462.4, 76422.8]}, {\"line\": {\"color\": \"orange\"}, \"name\": \"Orange Line\", \"opacity\": 0.8, \"type\": \"scatter\", \"x\": [\"2016-01-01T05:00:00.000Z\", \"2016-02-01T05:00:00.000Z\", \"2016-03-01T05:00:00.000Z\", \"2016-04-01T04:00:00.000Z\", \"2016-05-01T04:00:00.000Z\", \"2016-06-01T04:00:00.000Z\", \"2016-07-01T04:00:00.000Z\", \"2016-08-01T04:00:00.000Z\", \"2016-09-01T04:00:00.000Z\", \"2016-10-01T04:00:00.000Z\", \"2016-11-01T04:00:00.000Z\", \"2016-12-01T05:00:00.000Z\", \"2017-01-01T05:00:00.000Z\", \"2017-02-01T05:00:00.000Z\", \"2017-03-01T05:00:00.000Z\", \"2017-04-01T04:00:00.000Z\", \"2017-05-01T04:00:00.000Z\", \"2017-06-01T04:00:00.000Z\", \"2017-07-01T04:00:00.000Z\", \"2017-08-01T04:00:00.000Z\", \"2017-09-01T04:00:00.000Z\", \"2017-10-01T04:00:00.000Z\", \"2017-11-01T04:00:00.000Z\", \"2017-12-01T05:00:00.000Z\", \"2018-01-01T05:00:00.000Z\", \"2018-02-01T05:00:00.000Z\", \"2018-03-01T05:00:00.000Z\", \"2018-04-01T04:00:00.000Z\", \"2018-05-01T04:00:00.000Z\", \"2018-06-01T04:00:00.000Z\", \"2018-07-01T04:00:00.000Z\", \"2018-08-01T04:00:00.000Z\", \"2018-09-01T04:00:00.000Z\", \"2018-10-01T04:00:00.000Z\", \"2018-11-01T04:00:00.000Z\", \"2018-12-01T05:00:00.000Z\", \"2019-01-01T05:00:00.000Z\", \"2019-02-01T05:00:00.000Z\", \"2019-03-01T05:00:00.000Z\", \"2019-04-01T04:00:00.000Z\", \"2019-05-01T04:00:00.000Z\", \"2019-06-01T04:00:00.000Z\", \"2019-07-01T04:00:00.000Z\", \"2019-08-01T04:00:00.000Z\", \"2019-09-01T04:00:00.000Z\"], \"y\": [216361.0, 218982.5, 222687.6, 222891.4, 220411.3, 220941.0, 211654.7, 204021.0, 223923.6, 221483.9, 214181.2, 197389.3, 207661.0, 204586.4, 205908.2, 215577.4, 213569.3, 214283.8, 205059.9, 201051.5, 222375.2, 221487.5, 211914.7, 191612.8, 189872.1, 207264.2, 191832.8, 212527.0, 214680.4, 213176.7, 200126.0, 193507.7, 212813.6, 216548.2, 203332.7, 181512.7, 192852.4, 198944.1, 199170.5, 205790.0, 207373.7, 208337.1, 197853.6, 192687.6, 215557.2]}, {\"line\": {\"color\": \"gray\"}, \"name\": \"Silver Line\", \"opacity\": 0.8, \"type\": \"scatter\", \"x\": [\"2016-01-01T05:00:00.000Z\", \"2016-02-01T05:00:00.000Z\", \"2016-03-01T05:00:00.000Z\", \"2016-04-01T04:00:00.000Z\", \"2016-05-01T04:00:00.000Z\", \"2016-06-01T04:00:00.000Z\", \"2016-07-01T04:00:00.000Z\", \"2016-08-01T04:00:00.000Z\", \"2016-09-01T04:00:00.000Z\", \"2016-10-01T04:00:00.000Z\", \"2016-11-01T04:00:00.000Z\", \"2016-12-01T05:00:00.000Z\", \"2017-01-01T05:00:00.000Z\", \"2017-02-01T05:00:00.000Z\", \"2017-03-01T05:00:00.000Z\", \"2017-04-01T04:00:00.000Z\", \"2017-05-01T04:00:00.000Z\", \"2017-06-01T04:00:00.000Z\", \"2017-07-01T04:00:00.000Z\", \"2017-08-01T04:00:00.000Z\", \"2017-09-01T04:00:00.000Z\", \"2017-10-01T04:00:00.000Z\", \"2017-11-01T04:00:00.000Z\", \"2017-12-01T05:00:00.000Z\", \"2018-01-01T05:00:00.000Z\", \"2018-02-01T05:00:00.000Z\", \"2018-03-01T05:00:00.000Z\", \"2018-04-01T04:00:00.000Z\", \"2018-05-01T04:00:00.000Z\", \"2018-06-01T04:00:00.000Z\", \"2018-07-01T04:00:00.000Z\", \"2018-08-01T04:00:00.000Z\", \"2018-09-01T04:00:00.000Z\", \"2018-10-01T04:00:00.000Z\", \"2018-11-01T04:00:00.000Z\", \"2018-12-01T05:00:00.000Z\", \"2019-01-01T05:00:00.000Z\", \"2019-02-01T05:00:00.000Z\", \"2019-03-01T05:00:00.000Z\", \"2019-04-01T04:00:00.000Z\", \"2019-05-01T04:00:00.000Z\", \"2019-06-01T04:00:00.000Z\", \"2019-07-01T04:00:00.000Z\", \"2019-08-01T04:00:00.000Z\", \"2019-09-01T04:00:00.000Z\"], \"y\": [35250.6, 36513.3, 39202.7, 40681.6, 37298.0, 38430.2, 37245.7, 35797.7, 34481.4, 35758.9, 34173.3, 31723.0, 33430.4, 31755.7, 33487.7, 34089.4, 35346.0, 34820.0, 36217.1, 34291.6, 33189.8, 33986.5, 32832.8, 30618.1, 30246.8, 31507.8, 31306.1, 35483.6, 37149.8, 37375.8, 37584.7, 37370.5, 37043.0, 38258.1, 38024.3, 32966.7, 34696.5, 34477.8, 37461.0, 37411.9, 38654.1, 38280.7, 37508.7, 37446.1, 36944.3]}, {\"line\": {\"color\": \"green\"}, \"name\": \"Green Line\", \"opacity\": 0.8, \"type\": \"scatter\", \"x\": [\"2016-01-01T05:00:00.000Z\", \"2016-02-01T05:00:00.000Z\", \"2016-03-01T05:00:00.000Z\", \"2016-04-01T04:00:00.000Z\", \"2016-05-01T04:00:00.000Z\", \"2016-06-01T04:00:00.000Z\", \"2016-07-01T04:00:00.000Z\", \"2016-08-01T04:00:00.000Z\", \"2016-09-01T04:00:00.000Z\", \"2016-10-01T04:00:00.000Z\", \"2016-11-01T04:00:00.000Z\", \"2016-12-01T05:00:00.000Z\", \"2017-01-01T05:00:00.000Z\", \"2017-02-01T05:00:00.000Z\", \"2017-03-01T05:00:00.000Z\", \"2017-04-01T04:00:00.000Z\", \"2017-05-01T04:00:00.000Z\", \"2017-06-01T04:00:00.000Z\", \"2017-07-01T04:00:00.000Z\", \"2017-08-01T04:00:00.000Z\", \"2017-09-01T04:00:00.000Z\", \"2017-10-01T04:00:00.000Z\", \"2017-11-01T04:00:00.000Z\", \"2017-12-01T05:00:00.000Z\", \"2018-01-01T05:00:00.000Z\", \"2018-02-01T05:00:00.000Z\", \"2018-03-01T05:00:00.000Z\", \"2018-04-01T04:00:00.000Z\", \"2018-05-01T04:00:00.000Z\", \"2018-06-01T04:00:00.000Z\", \"2018-07-01T04:00:00.000Z\", \"2018-08-01T04:00:00.000Z\", \"2018-09-01T04:00:00.000Z\", \"2018-10-01T04:00:00.000Z\", \"2018-11-01T04:00:00.000Z\", \"2018-12-01T05:00:00.000Z\", \"2019-01-01T05:00:00.000Z\", \"2019-02-01T05:00:00.000Z\", \"2019-03-01T05:00:00.000Z\", \"2019-04-01T04:00:00.000Z\", \"2019-05-01T04:00:00.000Z\", \"2019-06-01T04:00:00.000Z\", \"2019-07-01T04:00:00.000Z\", \"2019-08-01T04:00:00.000Z\", \"2019-09-01T04:00:00.000Z\"], \"y\": [177158.2, 187614.4, 190772.5, 201126.6, 187312.9, 188366.5, 186073.4, 174082.5, 194120.1, 191863.6, 182463.0, 166552.1, 168436.9, 175539.3, 174357.4, 190312.7, 175227.4, 179910.7, 172232.4, 164419.2, 189456.8, 180739.1, 174679.2, 155122.9, 149577.9, 168149.5, 154556.8, 176924.9, 170222.6, 169237.1, 171155.9, 161171.6, 187451.8, 189116.0, 172223.5, 152131.5, 158195.4, 168663.0, 165682.3, 173633.9, 164762.1, 165275.0, 156253.0, 146950.6, 158951.9]}],\n",
       "                        {\"template\": {\"data\": {\"bar\": [{\"error_x\": {\"color\": \"#2a3f5f\"}, \"error_y\": {\"color\": \"#2a3f5f\"}, \"marker\": {\"line\": {\"color\": \"#E5ECF6\", \"width\": 0.5}}, \"type\": \"bar\"}], \"barpolar\": [{\"marker\": {\"line\": {\"color\": \"#E5ECF6\", \"width\": 0.5}}, \"type\": \"barpolar\"}], \"carpet\": [{\"aaxis\": {\"endlinecolor\": \"#2a3f5f\", \"gridcolor\": \"white\", \"linecolor\": \"white\", \"minorgridcolor\": \"white\", \"startlinecolor\": \"#2a3f5f\"}, \"baxis\": {\"endlinecolor\": \"#2a3f5f\", \"gridcolor\": \"white\", \"linecolor\": \"white\", \"minorgridcolor\": \"white\", \"startlinecolor\": \"#2a3f5f\"}, \"type\": \"carpet\"}], \"choropleth\": [{\"colorbar\": {\"outlinewidth\": 0, \"ticks\": \"\"}, \"type\": \"choropleth\"}], \"contour\": [{\"colorbar\": {\"outlinewidth\": 0, \"ticks\": \"\"}, \"colorscale\": [[0.0, \"#0d0887\"], [0.1111111111111111, \"#46039f\"], [0.2222222222222222, \"#7201a8\"], [0.3333333333333333, \"#9c179e\"], [0.4444444444444444, \"#bd3786\"], [0.5555555555555556, \"#d8576b\"], [0.6666666666666666, \"#ed7953\"], [0.7777777777777778, \"#fb9f3a\"], [0.8888888888888888, \"#fdca26\"], [1.0, \"#f0f921\"]], \"type\": \"contour\"}], \"contourcarpet\": [{\"colorbar\": {\"outlinewidth\": 0, \"ticks\": \"\"}, \"type\": \"contourcarpet\"}], \"heatmap\": [{\"colorbar\": {\"outlinewidth\": 0, \"ticks\": \"\"}, \"colorscale\": [[0.0, \"#0d0887\"], [0.1111111111111111, \"#46039f\"], [0.2222222222222222, \"#7201a8\"], [0.3333333333333333, \"#9c179e\"], [0.4444444444444444, \"#bd3786\"], [0.5555555555555556, \"#d8576b\"], [0.6666666666666666, \"#ed7953\"], [0.7777777777777778, \"#fb9f3a\"], [0.8888888888888888, \"#fdca26\"], [1.0, \"#f0f921\"]], \"type\": \"heatmap\"}], \"heatmapgl\": [{\"colorbar\": {\"outlinewidth\": 0, \"ticks\": \"\"}, \"colorscale\": [[0.0, \"#0d0887\"], [0.1111111111111111, \"#46039f\"], [0.2222222222222222, \"#7201a8\"], [0.3333333333333333, \"#9c179e\"], [0.4444444444444444, \"#bd3786\"], [0.5555555555555556, \"#d8576b\"], [0.6666666666666666, \"#ed7953\"], [0.7777777777777778, \"#fb9f3a\"], [0.8888888888888888, \"#fdca26\"], [1.0, \"#f0f921\"]], \"type\": \"heatmapgl\"}], \"histogram\": [{\"marker\": {\"colorbar\": {\"outlinewidth\": 0, \"ticks\": \"\"}}, \"type\": \"histogram\"}], \"histogram2d\": [{\"colorbar\": {\"outlinewidth\": 0, \"ticks\": \"\"}, \"colorscale\": [[0.0, \"#0d0887\"], [0.1111111111111111, \"#46039f\"], [0.2222222222222222, \"#7201a8\"], [0.3333333333333333, \"#9c179e\"], [0.4444444444444444, \"#bd3786\"], [0.5555555555555556, \"#d8576b\"], [0.6666666666666666, \"#ed7953\"], [0.7777777777777778, \"#fb9f3a\"], [0.8888888888888888, \"#fdca26\"], [1.0, \"#f0f921\"]], \"type\": \"histogram2d\"}], \"histogram2dcontour\": [{\"colorbar\": {\"outlinewidth\": 0, \"ticks\": \"\"}, \"colorscale\": [[0.0, \"#0d0887\"], [0.1111111111111111, \"#46039f\"], [0.2222222222222222, \"#7201a8\"], [0.3333333333333333, \"#9c179e\"], [0.4444444444444444, \"#bd3786\"], [0.5555555555555556, \"#d8576b\"], [0.6666666666666666, \"#ed7953\"], [0.7777777777777778, \"#fb9f3a\"], [0.8888888888888888, \"#fdca26\"], [1.0, \"#f0f921\"]], \"type\": \"histogram2dcontour\"}], \"mesh3d\": [{\"colorbar\": {\"outlinewidth\": 0, \"ticks\": \"\"}, \"type\": \"mesh3d\"}], \"parcoords\": [{\"line\": {\"colorbar\": {\"outlinewidth\": 0, \"ticks\": \"\"}}, \"type\": \"parcoords\"}], \"pie\": [{\"automargin\": true, \"type\": \"pie\"}], \"scatter\": [{\"marker\": {\"colorbar\": {\"outlinewidth\": 0, \"ticks\": \"\"}}, \"type\": \"scatter\"}], \"scatter3d\": [{\"line\": {\"colorbar\": {\"outlinewidth\": 0, \"ticks\": \"\"}}, \"marker\": {\"colorbar\": {\"outlinewidth\": 0, \"ticks\": \"\"}}, \"type\": \"scatter3d\"}], \"scattercarpet\": [{\"marker\": {\"colorbar\": {\"outlinewidth\": 0, \"ticks\": \"\"}}, \"type\": \"scattercarpet\"}], \"scattergeo\": [{\"marker\": {\"colorbar\": {\"outlinewidth\": 0, \"ticks\": \"\"}}, \"type\": \"scattergeo\"}], \"scattergl\": [{\"marker\": {\"colorbar\": {\"outlinewidth\": 0, \"ticks\": \"\"}}, \"type\": \"scattergl\"}], \"scattermapbox\": [{\"marker\": {\"colorbar\": {\"outlinewidth\": 0, \"ticks\": \"\"}}, \"type\": \"scattermapbox\"}], \"scatterpolar\": [{\"marker\": {\"colorbar\": {\"outlinewidth\": 0, \"ticks\": \"\"}}, \"type\": \"scatterpolar\"}], \"scatterpolargl\": [{\"marker\": {\"colorbar\": {\"outlinewidth\": 0, \"ticks\": \"\"}}, \"type\": \"scatterpolargl\"}], \"scatterternary\": [{\"marker\": {\"colorbar\": {\"outlinewidth\": 0, \"ticks\": \"\"}}, \"type\": \"scatterternary\"}], \"surface\": [{\"colorbar\": {\"outlinewidth\": 0, \"ticks\": \"\"}, \"colorscale\": [[0.0, \"#0d0887\"], [0.1111111111111111, \"#46039f\"], [0.2222222222222222, \"#7201a8\"], [0.3333333333333333, \"#9c179e\"], [0.4444444444444444, \"#bd3786\"], [0.5555555555555556, \"#d8576b\"], [0.6666666666666666, \"#ed7953\"], [0.7777777777777778, \"#fb9f3a\"], [0.8888888888888888, \"#fdca26\"], [1.0, \"#f0f921\"]], \"type\": \"surface\"}], \"table\": [{\"cells\": {\"fill\": {\"color\": \"#EBF0F8\"}, \"line\": {\"color\": \"white\"}}, \"header\": {\"fill\": {\"color\": \"#C8D4E3\"}, \"line\": {\"color\": \"white\"}}, \"type\": \"table\"}]}, \"layout\": {\"annotationdefaults\": {\"arrowcolor\": \"#2a3f5f\", \"arrowhead\": 0, \"arrowwidth\": 1}, \"coloraxis\": {\"colorbar\": {\"outlinewidth\": 0, \"ticks\": \"\"}}, \"colorscale\": {\"diverging\": [[0, \"#8e0152\"], [0.1, \"#c51b7d\"], [0.2, \"#de77ae\"], [0.3, \"#f1b6da\"], [0.4, \"#fde0ef\"], [0.5, \"#f7f7f7\"], [0.6, \"#e6f5d0\"], [0.7, \"#b8e186\"], [0.8, \"#7fbc41\"], [0.9, \"#4d9221\"], [1, \"#276419\"]], \"sequential\": [[0.0, \"#0d0887\"], [0.1111111111111111, \"#46039f\"], [0.2222222222222222, \"#7201a8\"], [0.3333333333333333, \"#9c179e\"], [0.4444444444444444, \"#bd3786\"], [0.5555555555555556, \"#d8576b\"], [0.6666666666666666, \"#ed7953\"], [0.7777777777777778, \"#fb9f3a\"], [0.8888888888888888, \"#fdca26\"], [1.0, \"#f0f921\"]], \"sequentialminus\": [[0.0, \"#0d0887\"], [0.1111111111111111, \"#46039f\"], [0.2222222222222222, \"#7201a8\"], [0.3333333333333333, \"#9c179e\"], [0.4444444444444444, \"#bd3786\"], [0.5555555555555556, \"#d8576b\"], [0.6666666666666666, \"#ed7953\"], [0.7777777777777778, \"#fb9f3a\"], [0.8888888888888888, \"#fdca26\"], [1.0, \"#f0f921\"]]}, \"colorway\": [\"#636efa\", \"#EF553B\", \"#00cc96\", \"#ab63fa\", \"#FFA15A\", \"#19d3f3\", \"#FF6692\", \"#B6E880\", \"#FF97FF\", \"#FECB52\"], \"font\": {\"color\": \"#2a3f5f\"}, \"geo\": {\"bgcolor\": \"white\", \"lakecolor\": \"white\", \"landcolor\": \"#E5ECF6\", \"showlakes\": true, \"showland\": true, \"subunitcolor\": \"white\"}, \"hoverlabel\": {\"align\": \"left\"}, \"hovermode\": \"closest\", \"mapbox\": {\"style\": \"light\"}, \"paper_bgcolor\": \"white\", \"plot_bgcolor\": \"#E5ECF6\", \"polar\": {\"angularaxis\": {\"gridcolor\": \"white\", \"linecolor\": \"white\", \"ticks\": \"\"}, \"bgcolor\": \"#E5ECF6\", \"radialaxis\": {\"gridcolor\": \"white\", \"linecolor\": \"white\", \"ticks\": \"\"}}, \"scene\": {\"xaxis\": {\"backgroundcolor\": \"#E5ECF6\", \"gridcolor\": \"white\", \"gridwidth\": 2, \"linecolor\": \"white\", \"showbackground\": true, \"ticks\": \"\", \"zerolinecolor\": \"white\"}, \"yaxis\": {\"backgroundcolor\": \"#E5ECF6\", \"gridcolor\": \"white\", \"gridwidth\": 2, \"linecolor\": \"white\", \"showbackground\": true, \"ticks\": \"\", \"zerolinecolor\": \"white\"}, \"zaxis\": {\"backgroundcolor\": \"#E5ECF6\", \"gridcolor\": \"white\", \"gridwidth\": 2, \"linecolor\": \"white\", \"showbackground\": true, \"ticks\": \"\", \"zerolinecolor\": \"white\"}}, \"shapedefaults\": {\"line\": {\"color\": \"#2a3f5f\"}}, \"ternary\": {\"aaxis\": {\"gridcolor\": \"white\", \"linecolor\": \"white\", \"ticks\": \"\"}, \"baxis\": {\"gridcolor\": \"white\", \"linecolor\": \"white\", \"ticks\": \"\"}, \"bgcolor\": \"#E5ECF6\", \"caxis\": {\"gridcolor\": \"white\", \"linecolor\": \"white\", \"ticks\": \"\"}}, \"title\": {\"x\": 0.05}, \"xaxis\": {\"automargin\": true, \"gridcolor\": \"white\", \"linecolor\": \"white\", \"ticks\": \"\", \"title\": {\"standoff\": 15}, \"zerolinecolor\": \"white\", \"zerolinewidth\": 2}, \"yaxis\": {\"automargin\": true, \"gridcolor\": \"white\", \"linecolor\": \"white\", \"ticks\": \"\", \"title\": {\"standoff\": 15}, \"zerolinecolor\": \"white\", \"zerolinewidth\": 2}}}, \"title\": {\"text\": \"MBTA Subway Average Ridership per Line (Jan 2016 - Sep 2019)\"}, \"updatemenus\": [{\"active\": 0, \"buttons\": [{\"args\": [{\"visible\": [true, true, true, true, true]}, {\"title\": \"MBTA Subway Average Ridership per Line (Jan 2016 - Sep 2019)\"}], \"label\": \"All\", \"method\": \"update\"}, {\"args\": [{\"visible\": [true, false, false, false, false]}, {\"title\": \"Red Line\"}], \"label\": \"Red\", \"method\": \"update\"}, {\"args\": [{\"visible\": [false, true, false, false, false]}, {\"title\": \"Blue Line\"}], \"label\": \"Blue\", \"method\": \"update\"}, {\"args\": [{\"visible\": [false, false, true, false, false]}, {\"title\": \"Orange Line\"}], \"label\": \"Orange\", \"method\": \"update\"}, {\"args\": [{\"visible\": [false, false, false, true, false]}, {\"title\": \"Silver Line\"}], \"label\": \"Silver\", \"method\": \"update\"}, {\"args\": [{\"visible\": [false, false, false, false, true]}, {\"title\": \"Green Line\"}], \"label\": \"Green\", \"method\": \"update\"}], \"direction\": \"right\", \"type\": \"buttons\", \"x\": 0.7, \"y\": -0.2}], \"xaxis\": {\"range\": [\"2016-01-01\", \"2019-09-01\"]}},\n",
       "                        {\"responsive\": true}\n",
       "                    ).then(function(){\n",
       "                            \n",
       "var gd = document.getElementById('fe7b68b7-7ee8-4131-8200-e06dc8cb5d2b');\n",
       "var x = new MutationObserver(function (mutations, observer) {{\n",
       "        var display = window.getComputedStyle(gd).display;\n",
       "        if (!display || display === 'none') {{\n",
       "            console.log([gd, 'removed!']);\n",
       "            Plotly.purge(gd);\n",
       "            observer.disconnect();\n",
       "        }}\n",
       "}});\n",
       "\n",
       "// Listen for the removal of the full notebook cells\n",
       "var notebookContainer = gd.closest('#notebook-container');\n",
       "if (notebookContainer) {{\n",
       "    x.observe(notebookContainer, {childList: true});\n",
       "}}\n",
       "\n",
       "// Listen for the clearing of the current output cell\n",
       "var outputEl = gd.closest('.output');\n",
       "if (outputEl) {{\n",
       "    x.observe(outputEl, {childList: true});\n",
       "}}\n",
       "\n",
       "                        })\n",
       "                };\n",
       "                });\n",
       "            </script>\n",
       "        </div>"
      ]
     },
     "metadata": {},
     "output_type": "display_data"
    }
   ],
   "source": [
    "time_plot('average_monthly_ridership', 'MBTA Subway Average Ridership per Line (Jan 2016 - Sep 2019)')"
   ]
  },
  {
   "cell_type": "code",
   "execution_count": 34,
   "metadata": {},
   "outputs": [],
   "source": [
    "# non stationary time series, changes not constant over time\n",
    "# differenceing the data allows to get stationary time series out of non starionary series.\n",
    "sub_df['first_diff_avg_ridership'] = sub_df['average_monthly_ridership'].diff(1)\n",
    "sub_df['second_diff_avg_ridership'] = sub_df['average_monthly_ridership'].diff(1).diff(1)"
   ]
  },
  {
   "cell_type": "code",
   "execution_count": null,
   "metadata": {},
   "outputs": [],
   "source": [
    "red_df"
   ]
  },
  {
   "cell_type": "code",
   "execution_count": 114,
   "metadata": {},
   "outputs": [
    {
     "data": {
      "text/html": [
       "<div>\n",
       "<style scoped>\n",
       "    .dataframe tbody tr th:only-of-type {\n",
       "        vertical-align: middle;\n",
       "    }\n",
       "\n",
       "    .dataframe tbody tr th {\n",
       "        vertical-align: top;\n",
       "    }\n",
       "\n",
       "    .dataframe thead th {\n",
       "        text-align: right;\n",
       "    }\n",
       "</style>\n",
       "<table border=\"1\" class=\"dataframe\">\n",
       "  <thead>\n",
       "    <tr style=\"text-align: right;\">\n",
       "      <th></th>\n",
       "      <th>index</th>\n",
       "      <th>service_date</th>\n",
       "      <th>mode</th>\n",
       "      <th>route_or_line</th>\n",
       "      <th>total_monthly_ridership</th>\n",
       "      <th>countofdates</th>\n",
       "      <th>average_monthly_ridership</th>\n",
       "      <th>ObjectId</th>\n",
       "      <th>first_diff_avg_ridership</th>\n",
       "      <th>second_diff_avg_ridership</th>\n",
       "    </tr>\n",
       "  </thead>\n",
       "  <tbody>\n",
       "    <tr>\n",
       "      <th>0</th>\n",
       "      <td>158</td>\n",
       "      <td>2016-01-01T05:00:00.000Z</td>\n",
       "      <td>Rail</td>\n",
       "      <td>Red Line</td>\n",
       "      <td>4738658</td>\n",
       "      <td>19</td>\n",
       "      <td>249403.1</td>\n",
       "      <td>159</td>\n",
       "      <td>NaN</td>\n",
       "      <td>NaN</td>\n",
       "    </tr>\n",
       "    <tr>\n",
       "      <th>1</th>\n",
       "      <td>151</td>\n",
       "      <td>2016-01-01T05:00:00.000Z</td>\n",
       "      <td>Bus</td>\n",
       "      <td>Silver Line</td>\n",
       "      <td>669761</td>\n",
       "      <td>19</td>\n",
       "      <td>35250.6</td>\n",
       "      <td>152</td>\n",
       "      <td>-214152.5</td>\n",
       "      <td>NaN</td>\n",
       "    </tr>\n",
       "    <tr>\n",
       "      <th>2</th>\n",
       "      <td>155</td>\n",
       "      <td>2016-01-01T05:00:00.000Z</td>\n",
       "      <td>Rail</td>\n",
       "      <td>Blue Line</td>\n",
       "      <td>1142850</td>\n",
       "      <td>19</td>\n",
       "      <td>60150.0</td>\n",
       "      <td>156</td>\n",
       "      <td>24899.4</td>\n",
       "      <td>239051.9</td>\n",
       "    </tr>\n",
       "    <tr>\n",
       "      <th>3</th>\n",
       "      <td>156</td>\n",
       "      <td>2016-01-01T05:00:00.000Z</td>\n",
       "      <td>Rail</td>\n",
       "      <td>Green Line</td>\n",
       "      <td>3366005</td>\n",
       "      <td>19</td>\n",
       "      <td>177158.2</td>\n",
       "      <td>157</td>\n",
       "      <td>117008.2</td>\n",
       "      <td>92108.8</td>\n",
       "    </tr>\n",
       "    <tr>\n",
       "      <th>4</th>\n",
       "      <td>157</td>\n",
       "      <td>2016-01-01T05:00:00.000Z</td>\n",
       "      <td>Rail</td>\n",
       "      <td>Orange Line</td>\n",
       "      <td>4110859</td>\n",
       "      <td>19</td>\n",
       "      <td>216361.0</td>\n",
       "      <td>158</td>\n",
       "      <td>39202.8</td>\n",
       "      <td>-77805.4</td>\n",
       "    </tr>\n",
       "    <tr>\n",
       "      <th>5</th>\n",
       "      <td>161</td>\n",
       "      <td>2016-02-01T05:00:00.000Z</td>\n",
       "      <td>Bus</td>\n",
       "      <td>Silver Line</td>\n",
       "      <td>730265</td>\n",
       "      <td>20</td>\n",
       "      <td>36513.3</td>\n",
       "      <td>162</td>\n",
       "      <td>-179847.7</td>\n",
       "      <td>-219050.5</td>\n",
       "    </tr>\n",
       "    <tr>\n",
       "      <th>6</th>\n",
       "      <td>165</td>\n",
       "      <td>2016-02-01T05:00:00.000Z</td>\n",
       "      <td>Rail</td>\n",
       "      <td>Blue Line</td>\n",
       "      <td>1220639</td>\n",
       "      <td>20</td>\n",
       "      <td>61032.0</td>\n",
       "      <td>166</td>\n",
       "      <td>24518.7</td>\n",
       "      <td>204366.4</td>\n",
       "    </tr>\n",
       "    <tr>\n",
       "      <th>7</th>\n",
       "      <td>167</td>\n",
       "      <td>2016-02-01T05:00:00.000Z</td>\n",
       "      <td>Rail</td>\n",
       "      <td>Orange Line</td>\n",
       "      <td>4379649</td>\n",
       "      <td>20</td>\n",
       "      <td>218982.5</td>\n",
       "      <td>168</td>\n",
       "      <td>157950.5</td>\n",
       "      <td>133431.8</td>\n",
       "    </tr>\n",
       "    <tr>\n",
       "      <th>8</th>\n",
       "      <td>168</td>\n",
       "      <td>2016-02-01T05:00:00.000Z</td>\n",
       "      <td>Rail</td>\n",
       "      <td>Red Line</td>\n",
       "      <td>5132032</td>\n",
       "      <td>20</td>\n",
       "      <td>256601.6</td>\n",
       "      <td>169</td>\n",
       "      <td>37619.1</td>\n",
       "      <td>-120331.4</td>\n",
       "    </tr>\n",
       "    <tr>\n",
       "      <th>9</th>\n",
       "      <td>166</td>\n",
       "      <td>2016-02-01T05:00:00.000Z</td>\n",
       "      <td>Rail</td>\n",
       "      <td>Green Line</td>\n",
       "      <td>3752289</td>\n",
       "      <td>20</td>\n",
       "      <td>187614.4</td>\n",
       "      <td>167</td>\n",
       "      <td>-68987.2</td>\n",
       "      <td>-106606.3</td>\n",
       "    </tr>\n",
       "    <tr>\n",
       "      <th>10</th>\n",
       "      <td>178</td>\n",
       "      <td>2016-03-01T05:00:00.000Z</td>\n",
       "      <td>Rail</td>\n",
       "      <td>Red Line</td>\n",
       "      <td>6047058</td>\n",
       "      <td>23</td>\n",
       "      <td>262915.6</td>\n",
       "      <td>179</td>\n",
       "      <td>75301.2</td>\n",
       "      <td>144288.4</td>\n",
       "    </tr>\n",
       "    <tr>\n",
       "      <th>11</th>\n",
       "      <td>177</td>\n",
       "      <td>2016-03-01T05:00:00.000Z</td>\n",
       "      <td>Rail</td>\n",
       "      <td>Orange Line</td>\n",
       "      <td>5121816</td>\n",
       "      <td>23</td>\n",
       "      <td>222687.6</td>\n",
       "      <td>178</td>\n",
       "      <td>-40228.0</td>\n",
       "      <td>-115529.2</td>\n",
       "    </tr>\n",
       "    <tr>\n",
       "      <th>12</th>\n",
       "      <td>176</td>\n",
       "      <td>2016-03-01T05:00:00.000Z</td>\n",
       "      <td>Rail</td>\n",
       "      <td>Green Line</td>\n",
       "      <td>4387768</td>\n",
       "      <td>23</td>\n",
       "      <td>190772.5</td>\n",
       "      <td>177</td>\n",
       "      <td>-31915.1</td>\n",
       "      <td>8312.9</td>\n",
       "    </tr>\n",
       "    <tr>\n",
       "      <th>13</th>\n",
       "      <td>175</td>\n",
       "      <td>2016-03-01T05:00:00.000Z</td>\n",
       "      <td>Rail</td>\n",
       "      <td>Blue Line</td>\n",
       "      <td>1510118</td>\n",
       "      <td>23</td>\n",
       "      <td>65657.3</td>\n",
       "      <td>176</td>\n",
       "      <td>-125115.2</td>\n",
       "      <td>-93200.1</td>\n",
       "    </tr>\n",
       "    <tr>\n",
       "      <th>14</th>\n",
       "      <td>171</td>\n",
       "      <td>2016-03-01T05:00:00.000Z</td>\n",
       "      <td>Bus</td>\n",
       "      <td>Silver Line</td>\n",
       "      <td>901662</td>\n",
       "      <td>23</td>\n",
       "      <td>39202.7</td>\n",
       "      <td>172</td>\n",
       "      <td>-26454.6</td>\n",
       "      <td>98660.6</td>\n",
       "    </tr>\n",
       "    <tr>\n",
       "      <th>15</th>\n",
       "      <td>181</td>\n",
       "      <td>2016-04-01T04:00:00.000Z</td>\n",
       "      <td>Bus</td>\n",
       "      <td>Silver Line</td>\n",
       "      <td>650905</td>\n",
       "      <td>16</td>\n",
       "      <td>40681.6</td>\n",
       "      <td>182</td>\n",
       "      <td>1478.9</td>\n",
       "      <td>27933.5</td>\n",
       "    </tr>\n",
       "    <tr>\n",
       "      <th>16</th>\n",
       "      <td>186</td>\n",
       "      <td>2016-04-01T04:00:00.000Z</td>\n",
       "      <td>Rail</td>\n",
       "      <td>Green Line</td>\n",
       "      <td>4223658</td>\n",
       "      <td>21</td>\n",
       "      <td>201126.6</td>\n",
       "      <td>187</td>\n",
       "      <td>160445.0</td>\n",
       "      <td>158966.1</td>\n",
       "    </tr>\n",
       "    <tr>\n",
       "      <th>17</th>\n",
       "      <td>187</td>\n",
       "      <td>2016-04-01T04:00:00.000Z</td>\n",
       "      <td>Rail</td>\n",
       "      <td>Orange Line</td>\n",
       "      <td>4680719</td>\n",
       "      <td>21</td>\n",
       "      <td>222891.4</td>\n",
       "      <td>188</td>\n",
       "      <td>21764.8</td>\n",
       "      <td>-138680.2</td>\n",
       "    </tr>\n",
       "    <tr>\n",
       "      <th>18</th>\n",
       "      <td>188</td>\n",
       "      <td>2016-04-01T04:00:00.000Z</td>\n",
       "      <td>Rail</td>\n",
       "      <td>Red Line</td>\n",
       "      <td>5573282</td>\n",
       "      <td>21</td>\n",
       "      <td>265394.4</td>\n",
       "      <td>189</td>\n",
       "      <td>42503.0</td>\n",
       "      <td>20738.2</td>\n",
       "    </tr>\n",
       "    <tr>\n",
       "      <th>19</th>\n",
       "      <td>185</td>\n",
       "      <td>2016-04-01T04:00:00.000Z</td>\n",
       "      <td>Rail</td>\n",
       "      <td>Blue Line</td>\n",
       "      <td>1511915</td>\n",
       "      <td>21</td>\n",
       "      <td>71995.9</td>\n",
       "      <td>186</td>\n",
       "      <td>-193398.5</td>\n",
       "      <td>-235901.5</td>\n",
       "    </tr>\n",
       "    <tr>\n",
       "      <th>20</th>\n",
       "      <td>198</td>\n",
       "      <td>2016-05-01T04:00:00.000Z</td>\n",
       "      <td>Rail</td>\n",
       "      <td>Red Line</td>\n",
       "      <td>5546573</td>\n",
       "      <td>21</td>\n",
       "      <td>264122.5</td>\n",
       "      <td>199</td>\n",
       "      <td>192126.6</td>\n",
       "      <td>385525.1</td>\n",
       "    </tr>\n",
       "    <tr>\n",
       "      <th>21</th>\n",
       "      <td>196</td>\n",
       "      <td>2016-05-01T04:00:00.000Z</td>\n",
       "      <td>Rail</td>\n",
       "      <td>Green Line</td>\n",
       "      <td>3933571</td>\n",
       "      <td>21</td>\n",
       "      <td>187312.9</td>\n",
       "      <td>197</td>\n",
       "      <td>-76809.6</td>\n",
       "      <td>-268936.2</td>\n",
       "    </tr>\n",
       "    <tr>\n",
       "      <th>22</th>\n",
       "      <td>197</td>\n",
       "      <td>2016-05-01T04:00:00.000Z</td>\n",
       "      <td>Rail</td>\n",
       "      <td>Orange Line</td>\n",
       "      <td>4628636</td>\n",
       "      <td>21</td>\n",
       "      <td>220411.3</td>\n",
       "      <td>198</td>\n",
       "      <td>33098.4</td>\n",
       "      <td>109908.0</td>\n",
       "    </tr>\n",
       "    <tr>\n",
       "      <th>23</th>\n",
       "      <td>191</td>\n",
       "      <td>2016-05-01T04:00:00.000Z</td>\n",
       "      <td>Bus</td>\n",
       "      <td>Silver Line</td>\n",
       "      <td>783259</td>\n",
       "      <td>21</td>\n",
       "      <td>37298.0</td>\n",
       "      <td>192</td>\n",
       "      <td>-183113.3</td>\n",
       "      <td>-216211.7</td>\n",
       "    </tr>\n",
       "    <tr>\n",
       "      <th>24</th>\n",
       "      <td>195</td>\n",
       "      <td>2016-05-01T04:00:00.000Z</td>\n",
       "      <td>Rail</td>\n",
       "      <td>Blue Line</td>\n",
       "      <td>1518063</td>\n",
       "      <td>21</td>\n",
       "      <td>72288.7</td>\n",
       "      <td>196</td>\n",
       "      <td>34990.7</td>\n",
       "      <td>218104.0</td>\n",
       "    </tr>\n",
       "    <tr>\n",
       "      <th>25</th>\n",
       "      <td>51</td>\n",
       "      <td>2016-06-01T04:00:00.000Z</td>\n",
       "      <td>Bus</td>\n",
       "      <td>Silver Line</td>\n",
       "      <td>845464</td>\n",
       "      <td>22</td>\n",
       "      <td>38430.2</td>\n",
       "      <td>52</td>\n",
       "      <td>-33858.5</td>\n",
       "      <td>-68849.2</td>\n",
       "    </tr>\n",
       "    <tr>\n",
       "      <th>26</th>\n",
       "      <td>55</td>\n",
       "      <td>2016-06-01T04:00:00.000Z</td>\n",
       "      <td>Rail</td>\n",
       "      <td>Blue Line</td>\n",
       "      <td>1660877</td>\n",
       "      <td>22</td>\n",
       "      <td>75494.4</td>\n",
       "      <td>56</td>\n",
       "      <td>37064.2</td>\n",
       "      <td>70922.7</td>\n",
       "    </tr>\n",
       "    <tr>\n",
       "      <th>27</th>\n",
       "      <td>56</td>\n",
       "      <td>2016-06-01T04:00:00.000Z</td>\n",
       "      <td>Rail</td>\n",
       "      <td>Green Line</td>\n",
       "      <td>4144063</td>\n",
       "      <td>22</td>\n",
       "      <td>188366.5</td>\n",
       "      <td>57</td>\n",
       "      <td>112872.1</td>\n",
       "      <td>75807.9</td>\n",
       "    </tr>\n",
       "    <tr>\n",
       "      <th>28</th>\n",
       "      <td>57</td>\n",
       "      <td>2016-06-01T04:00:00.000Z</td>\n",
       "      <td>Rail</td>\n",
       "      <td>Orange Line</td>\n",
       "      <td>4860703</td>\n",
       "      <td>22</td>\n",
       "      <td>220941.0</td>\n",
       "      <td>58</td>\n",
       "      <td>32574.5</td>\n",
       "      <td>-80297.6</td>\n",
       "    </tr>\n",
       "    <tr>\n",
       "      <th>29</th>\n",
       "      <td>58</td>\n",
       "      <td>2016-06-01T04:00:00.000Z</td>\n",
       "      <td>Rail</td>\n",
       "      <td>Red Line</td>\n",
       "      <td>5881456</td>\n",
       "      <td>22</td>\n",
       "      <td>267338.9</td>\n",
       "      <td>59</td>\n",
       "      <td>46397.9</td>\n",
       "      <td>13823.4</td>\n",
       "    </tr>\n",
       "    <tr>\n",
       "      <th>...</th>\n",
       "      <td>...</td>\n",
       "      <td>...</td>\n",
       "      <td>...</td>\n",
       "      <td>...</td>\n",
       "      <td>...</td>\n",
       "      <td>...</td>\n",
       "      <td>...</td>\n",
       "      <td>...</td>\n",
       "      <td>...</td>\n",
       "      <td>...</td>\n",
       "    </tr>\n",
       "    <tr>\n",
       "      <th>195</th>\n",
       "      <td>393</td>\n",
       "      <td>2019-04-01T04:00:00.000Z</td>\n",
       "      <td>Bus</td>\n",
       "      <td>Silver Line</td>\n",
       "      <td>823061</td>\n",
       "      <td>22</td>\n",
       "      <td>37411.9</td>\n",
       "      <td>394</td>\n",
       "      <td>-30939.5</td>\n",
       "      <td>-61829.9</td>\n",
       "    </tr>\n",
       "    <tr>\n",
       "      <th>196</th>\n",
       "      <td>397</td>\n",
       "      <td>2019-04-01T04:00:00.000Z</td>\n",
       "      <td>Rail</td>\n",
       "      <td>Blue Line</td>\n",
       "      <td>1599512</td>\n",
       "      <td>22</td>\n",
       "      <td>72705.1</td>\n",
       "      <td>398</td>\n",
       "      <td>35293.2</td>\n",
       "      <td>66232.7</td>\n",
       "    </tr>\n",
       "    <tr>\n",
       "      <th>197</th>\n",
       "      <td>398</td>\n",
       "      <td>2019-04-01T04:00:00.000Z</td>\n",
       "      <td>Rail</td>\n",
       "      <td>Green Line</td>\n",
       "      <td>3819945</td>\n",
       "      <td>22</td>\n",
       "      <td>173633.9</td>\n",
       "      <td>399</td>\n",
       "      <td>100928.8</td>\n",
       "      <td>65635.6</td>\n",
       "    </tr>\n",
       "    <tr>\n",
       "      <th>198</th>\n",
       "      <td>399</td>\n",
       "      <td>2019-04-01T04:00:00.000Z</td>\n",
       "      <td>Rail</td>\n",
       "      <td>Orange Line</td>\n",
       "      <td>4527379</td>\n",
       "      <td>22</td>\n",
       "      <td>205790.0</td>\n",
       "      <td>400</td>\n",
       "      <td>32156.1</td>\n",
       "      <td>-68772.7</td>\n",
       "    </tr>\n",
       "    <tr>\n",
       "      <th>199</th>\n",
       "      <td>400</td>\n",
       "      <td>2019-04-01T04:00:00.000Z</td>\n",
       "      <td>Rail</td>\n",
       "      <td>Red Line</td>\n",
       "      <td>5391799</td>\n",
       "      <td>22</td>\n",
       "      <td>245081.8</td>\n",
       "      <td>401</td>\n",
       "      <td>39291.8</td>\n",
       "      <td>7135.7</td>\n",
       "    </tr>\n",
       "    <tr>\n",
       "      <th>200</th>\n",
       "      <td>403</td>\n",
       "      <td>2019-05-01T04:00:00.000Z</td>\n",
       "      <td>Bus</td>\n",
       "      <td>Silver Line</td>\n",
       "      <td>850391</td>\n",
       "      <td>22</td>\n",
       "      <td>38654.1</td>\n",
       "      <td>404</td>\n",
       "      <td>-206427.7</td>\n",
       "      <td>-245719.5</td>\n",
       "    </tr>\n",
       "    <tr>\n",
       "      <th>201</th>\n",
       "      <td>407</td>\n",
       "      <td>2019-05-01T04:00:00.000Z</td>\n",
       "      <td>Rail</td>\n",
       "      <td>Blue Line</td>\n",
       "      <td>1631294</td>\n",
       "      <td>22</td>\n",
       "      <td>74149.7</td>\n",
       "      <td>408</td>\n",
       "      <td>35495.6</td>\n",
       "      <td>241923.3</td>\n",
       "    </tr>\n",
       "    <tr>\n",
       "      <th>202</th>\n",
       "      <td>408</td>\n",
       "      <td>2019-05-01T04:00:00.000Z</td>\n",
       "      <td>Rail</td>\n",
       "      <td>Green Line</td>\n",
       "      <td>3624765</td>\n",
       "      <td>22</td>\n",
       "      <td>164762.1</td>\n",
       "      <td>409</td>\n",
       "      <td>90612.4</td>\n",
       "      <td>55116.8</td>\n",
       "    </tr>\n",
       "    <tr>\n",
       "      <th>203</th>\n",
       "      <td>409</td>\n",
       "      <td>2019-05-01T04:00:00.000Z</td>\n",
       "      <td>Rail</td>\n",
       "      <td>Orange Line</td>\n",
       "      <td>4562221</td>\n",
       "      <td>22</td>\n",
       "      <td>207373.7</td>\n",
       "      <td>410</td>\n",
       "      <td>42611.6</td>\n",
       "      <td>-48000.8</td>\n",
       "    </tr>\n",
       "    <tr>\n",
       "      <th>204</th>\n",
       "      <td>410</td>\n",
       "      <td>2019-05-01T04:00:00.000Z</td>\n",
       "      <td>Rail</td>\n",
       "      <td>Red Line</td>\n",
       "      <td>5422544</td>\n",
       "      <td>22</td>\n",
       "      <td>246479.3</td>\n",
       "      <td>411</td>\n",
       "      <td>39105.6</td>\n",
       "      <td>-3506.0</td>\n",
       "    </tr>\n",
       "    <tr>\n",
       "      <th>205</th>\n",
       "      <td>420</td>\n",
       "      <td>2019-06-01T04:00:00.000Z</td>\n",
       "      <td>Rail</td>\n",
       "      <td>Red Line</td>\n",
       "      <td>4757240</td>\n",
       "      <td>20</td>\n",
       "      <td>237862.0</td>\n",
       "      <td>421</td>\n",
       "      <td>-8617.3</td>\n",
       "      <td>-47722.9</td>\n",
       "    </tr>\n",
       "    <tr>\n",
       "      <th>206</th>\n",
       "      <td>418</td>\n",
       "      <td>2019-06-01T04:00:00.000Z</td>\n",
       "      <td>Rail</td>\n",
       "      <td>Green Line</td>\n",
       "      <td>3305499</td>\n",
       "      <td>20</td>\n",
       "      <td>165275.0</td>\n",
       "      <td>419</td>\n",
       "      <td>-72587.0</td>\n",
       "      <td>-63969.7</td>\n",
       "    </tr>\n",
       "    <tr>\n",
       "      <th>207</th>\n",
       "      <td>419</td>\n",
       "      <td>2019-06-01T04:00:00.000Z</td>\n",
       "      <td>Rail</td>\n",
       "      <td>Orange Line</td>\n",
       "      <td>4166742</td>\n",
       "      <td>20</td>\n",
       "      <td>208337.1</td>\n",
       "      <td>420</td>\n",
       "      <td>43062.1</td>\n",
       "      <td>115649.1</td>\n",
       "    </tr>\n",
       "    <tr>\n",
       "      <th>208</th>\n",
       "      <td>413</td>\n",
       "      <td>2019-06-01T04:00:00.000Z</td>\n",
       "      <td>Bus</td>\n",
       "      <td>Silver Line</td>\n",
       "      <td>765614</td>\n",
       "      <td>20</td>\n",
       "      <td>38280.7</td>\n",
       "      <td>414</td>\n",
       "      <td>-170056.4</td>\n",
       "      <td>-213118.5</td>\n",
       "    </tr>\n",
       "    <tr>\n",
       "      <th>209</th>\n",
       "      <td>417</td>\n",
       "      <td>2019-06-01T04:00:00.000Z</td>\n",
       "      <td>Rail</td>\n",
       "      <td>Blue Line</td>\n",
       "      <td>1541358</td>\n",
       "      <td>20</td>\n",
       "      <td>77067.9</td>\n",
       "      <td>418</td>\n",
       "      <td>38787.2</td>\n",
       "      <td>208843.6</td>\n",
       "    </tr>\n",
       "    <tr>\n",
       "      <th>210</th>\n",
       "      <td>423</td>\n",
       "      <td>2019-07-01T04:00:00.000Z</td>\n",
       "      <td>Bus</td>\n",
       "      <td>Silver Line</td>\n",
       "      <td>825192</td>\n",
       "      <td>22</td>\n",
       "      <td>37508.7</td>\n",
       "      <td>424</td>\n",
       "      <td>-39559.2</td>\n",
       "      <td>-78346.4</td>\n",
       "    </tr>\n",
       "    <tr>\n",
       "      <th>211</th>\n",
       "      <td>427</td>\n",
       "      <td>2019-07-01T04:00:00.000Z</td>\n",
       "      <td>Rail</td>\n",
       "      <td>Blue Line</td>\n",
       "      <td>1651051</td>\n",
       "      <td>22</td>\n",
       "      <td>75047.8</td>\n",
       "      <td>428</td>\n",
       "      <td>37539.1</td>\n",
       "      <td>77098.3</td>\n",
       "    </tr>\n",
       "    <tr>\n",
       "      <th>212</th>\n",
       "      <td>428</td>\n",
       "      <td>2019-07-01T04:00:00.000Z</td>\n",
       "      <td>Rail</td>\n",
       "      <td>Green Line</td>\n",
       "      <td>3437565</td>\n",
       "      <td>22</td>\n",
       "      <td>156253.0</td>\n",
       "      <td>429</td>\n",
       "      <td>81205.2</td>\n",
       "      <td>43666.1</td>\n",
       "    </tr>\n",
       "    <tr>\n",
       "      <th>213</th>\n",
       "      <td>429</td>\n",
       "      <td>2019-07-01T04:00:00.000Z</td>\n",
       "      <td>Rail</td>\n",
       "      <td>Orange Line</td>\n",
       "      <td>4352778</td>\n",
       "      <td>22</td>\n",
       "      <td>197853.6</td>\n",
       "      <td>430</td>\n",
       "      <td>41600.6</td>\n",
       "      <td>-39604.6</td>\n",
       "    </tr>\n",
       "    <tr>\n",
       "      <th>214</th>\n",
       "      <td>430</td>\n",
       "      <td>2019-07-01T04:00:00.000Z</td>\n",
       "      <td>Rail</td>\n",
       "      <td>Red Line</td>\n",
       "      <td>5021199</td>\n",
       "      <td>22</td>\n",
       "      <td>228236.3</td>\n",
       "      <td>431</td>\n",
       "      <td>30382.7</td>\n",
       "      <td>-11217.9</td>\n",
       "    </tr>\n",
       "    <tr>\n",
       "      <th>215</th>\n",
       "      <td>440</td>\n",
       "      <td>2019-08-01T04:00:00.000Z</td>\n",
       "      <td>Rail</td>\n",
       "      <td>Red Line</td>\n",
       "      <td>4880100</td>\n",
       "      <td>22</td>\n",
       "      <td>221822.7</td>\n",
       "      <td>441</td>\n",
       "      <td>-6413.6</td>\n",
       "      <td>-36796.3</td>\n",
       "    </tr>\n",
       "    <tr>\n",
       "      <th>216</th>\n",
       "      <td>439</td>\n",
       "      <td>2019-08-01T04:00:00.000Z</td>\n",
       "      <td>Rail</td>\n",
       "      <td>Orange Line</td>\n",
       "      <td>4239128</td>\n",
       "      <td>22</td>\n",
       "      <td>192687.6</td>\n",
       "      <td>440</td>\n",
       "      <td>-29135.1</td>\n",
       "      <td>-22721.5</td>\n",
       "    </tr>\n",
       "    <tr>\n",
       "      <th>217</th>\n",
       "      <td>437</td>\n",
       "      <td>2019-08-01T04:00:00.000Z</td>\n",
       "      <td>Rail</td>\n",
       "      <td>Blue Line</td>\n",
       "      <td>1616173</td>\n",
       "      <td>22</td>\n",
       "      <td>73462.4</td>\n",
       "      <td>438</td>\n",
       "      <td>-119225.2</td>\n",
       "      <td>-90090.1</td>\n",
       "    </tr>\n",
       "    <tr>\n",
       "      <th>218</th>\n",
       "      <td>433</td>\n",
       "      <td>2019-08-01T04:00:00.000Z</td>\n",
       "      <td>Bus</td>\n",
       "      <td>Silver Line</td>\n",
       "      <td>823813</td>\n",
       "      <td>22</td>\n",
       "      <td>37446.1</td>\n",
       "      <td>434</td>\n",
       "      <td>-36016.3</td>\n",
       "      <td>83208.9</td>\n",
       "    </tr>\n",
       "    <tr>\n",
       "      <th>219</th>\n",
       "      <td>438</td>\n",
       "      <td>2019-08-01T04:00:00.000Z</td>\n",
       "      <td>Rail</td>\n",
       "      <td>Green Line</td>\n",
       "      <td>3232914</td>\n",
       "      <td>22</td>\n",
       "      <td>146950.6</td>\n",
       "      <td>439</td>\n",
       "      <td>109504.5</td>\n",
       "      <td>145520.8</td>\n",
       "    </tr>\n",
       "    <tr>\n",
       "      <th>220</th>\n",
       "      <td>449</td>\n",
       "      <td>2019-09-01T04:00:00.000Z</td>\n",
       "      <td>Rail</td>\n",
       "      <td>Orange Line</td>\n",
       "      <td>4311143</td>\n",
       "      <td>20</td>\n",
       "      <td>215557.2</td>\n",
       "      <td>450</td>\n",
       "      <td>68606.6</td>\n",
       "      <td>-40897.9</td>\n",
       "    </tr>\n",
       "    <tr>\n",
       "      <th>221</th>\n",
       "      <td>443</td>\n",
       "      <td>2019-09-01T04:00:00.000Z</td>\n",
       "      <td>Bus</td>\n",
       "      <td>Silver Line</td>\n",
       "      <td>738886</td>\n",
       "      <td>20</td>\n",
       "      <td>36944.3</td>\n",
       "      <td>444</td>\n",
       "      <td>-178612.9</td>\n",
       "      <td>-247219.5</td>\n",
       "    </tr>\n",
       "    <tr>\n",
       "      <th>222</th>\n",
       "      <td>447</td>\n",
       "      <td>2019-09-01T04:00:00.000Z</td>\n",
       "      <td>Rail</td>\n",
       "      <td>Blue Line</td>\n",
       "      <td>1528456</td>\n",
       "      <td>20</td>\n",
       "      <td>76422.8</td>\n",
       "      <td>448</td>\n",
       "      <td>39478.5</td>\n",
       "      <td>218091.4</td>\n",
       "    </tr>\n",
       "    <tr>\n",
       "      <th>223</th>\n",
       "      <td>448</td>\n",
       "      <td>2019-09-01T04:00:00.000Z</td>\n",
       "      <td>Rail</td>\n",
       "      <td>Green Line</td>\n",
       "      <td>3179038</td>\n",
       "      <td>20</td>\n",
       "      <td>158951.9</td>\n",
       "      <td>449</td>\n",
       "      <td>82529.1</td>\n",
       "      <td>43050.6</td>\n",
       "    </tr>\n",
       "    <tr>\n",
       "      <th>224</th>\n",
       "      <td>450</td>\n",
       "      <td>2019-09-01T04:00:00.000Z</td>\n",
       "      <td>Rail</td>\n",
       "      <td>Red Line</td>\n",
       "      <td>4915753</td>\n",
       "      <td>20</td>\n",
       "      <td>245787.7</td>\n",
       "      <td>451</td>\n",
       "      <td>86835.8</td>\n",
       "      <td>4306.7</td>\n",
       "    </tr>\n",
       "  </tbody>\n",
       "</table>\n",
       "<p>225 rows × 10 columns</p>\n",
       "</div>"
      ],
      "text/plain": [
       "     index              service_date  mode route_or_line  \\\n",
       "0      158  2016-01-01T05:00:00.000Z  Rail      Red Line   \n",
       "1      151  2016-01-01T05:00:00.000Z   Bus   Silver Line   \n",
       "2      155  2016-01-01T05:00:00.000Z  Rail     Blue Line   \n",
       "3      156  2016-01-01T05:00:00.000Z  Rail    Green Line   \n",
       "4      157  2016-01-01T05:00:00.000Z  Rail   Orange Line   \n",
       "5      161  2016-02-01T05:00:00.000Z   Bus   Silver Line   \n",
       "6      165  2016-02-01T05:00:00.000Z  Rail     Blue Line   \n",
       "7      167  2016-02-01T05:00:00.000Z  Rail   Orange Line   \n",
       "8      168  2016-02-01T05:00:00.000Z  Rail      Red Line   \n",
       "9      166  2016-02-01T05:00:00.000Z  Rail    Green Line   \n",
       "10     178  2016-03-01T05:00:00.000Z  Rail      Red Line   \n",
       "11     177  2016-03-01T05:00:00.000Z  Rail   Orange Line   \n",
       "12     176  2016-03-01T05:00:00.000Z  Rail    Green Line   \n",
       "13     175  2016-03-01T05:00:00.000Z  Rail     Blue Line   \n",
       "14     171  2016-03-01T05:00:00.000Z   Bus   Silver Line   \n",
       "15     181  2016-04-01T04:00:00.000Z   Bus   Silver Line   \n",
       "16     186  2016-04-01T04:00:00.000Z  Rail    Green Line   \n",
       "17     187  2016-04-01T04:00:00.000Z  Rail   Orange Line   \n",
       "18     188  2016-04-01T04:00:00.000Z  Rail      Red Line   \n",
       "19     185  2016-04-01T04:00:00.000Z  Rail     Blue Line   \n",
       "20     198  2016-05-01T04:00:00.000Z  Rail      Red Line   \n",
       "21     196  2016-05-01T04:00:00.000Z  Rail    Green Line   \n",
       "22     197  2016-05-01T04:00:00.000Z  Rail   Orange Line   \n",
       "23     191  2016-05-01T04:00:00.000Z   Bus   Silver Line   \n",
       "24     195  2016-05-01T04:00:00.000Z  Rail     Blue Line   \n",
       "25      51  2016-06-01T04:00:00.000Z   Bus   Silver Line   \n",
       "26      55  2016-06-01T04:00:00.000Z  Rail     Blue Line   \n",
       "27      56  2016-06-01T04:00:00.000Z  Rail    Green Line   \n",
       "28      57  2016-06-01T04:00:00.000Z  Rail   Orange Line   \n",
       "29      58  2016-06-01T04:00:00.000Z  Rail      Red Line   \n",
       "..     ...                       ...   ...           ...   \n",
       "195    393  2019-04-01T04:00:00.000Z   Bus   Silver Line   \n",
       "196    397  2019-04-01T04:00:00.000Z  Rail     Blue Line   \n",
       "197    398  2019-04-01T04:00:00.000Z  Rail    Green Line   \n",
       "198    399  2019-04-01T04:00:00.000Z  Rail   Orange Line   \n",
       "199    400  2019-04-01T04:00:00.000Z  Rail      Red Line   \n",
       "200    403  2019-05-01T04:00:00.000Z   Bus   Silver Line   \n",
       "201    407  2019-05-01T04:00:00.000Z  Rail     Blue Line   \n",
       "202    408  2019-05-01T04:00:00.000Z  Rail    Green Line   \n",
       "203    409  2019-05-01T04:00:00.000Z  Rail   Orange Line   \n",
       "204    410  2019-05-01T04:00:00.000Z  Rail      Red Line   \n",
       "205    420  2019-06-01T04:00:00.000Z  Rail      Red Line   \n",
       "206    418  2019-06-01T04:00:00.000Z  Rail    Green Line   \n",
       "207    419  2019-06-01T04:00:00.000Z  Rail   Orange Line   \n",
       "208    413  2019-06-01T04:00:00.000Z   Bus   Silver Line   \n",
       "209    417  2019-06-01T04:00:00.000Z  Rail     Blue Line   \n",
       "210    423  2019-07-01T04:00:00.000Z   Bus   Silver Line   \n",
       "211    427  2019-07-01T04:00:00.000Z  Rail     Blue Line   \n",
       "212    428  2019-07-01T04:00:00.000Z  Rail    Green Line   \n",
       "213    429  2019-07-01T04:00:00.000Z  Rail   Orange Line   \n",
       "214    430  2019-07-01T04:00:00.000Z  Rail      Red Line   \n",
       "215    440  2019-08-01T04:00:00.000Z  Rail      Red Line   \n",
       "216    439  2019-08-01T04:00:00.000Z  Rail   Orange Line   \n",
       "217    437  2019-08-01T04:00:00.000Z  Rail     Blue Line   \n",
       "218    433  2019-08-01T04:00:00.000Z   Bus   Silver Line   \n",
       "219    438  2019-08-01T04:00:00.000Z  Rail    Green Line   \n",
       "220    449  2019-09-01T04:00:00.000Z  Rail   Orange Line   \n",
       "221    443  2019-09-01T04:00:00.000Z   Bus   Silver Line   \n",
       "222    447  2019-09-01T04:00:00.000Z  Rail     Blue Line   \n",
       "223    448  2019-09-01T04:00:00.000Z  Rail    Green Line   \n",
       "224    450  2019-09-01T04:00:00.000Z  Rail      Red Line   \n",
       "\n",
       "     total_monthly_ridership  countofdates  average_monthly_ridership  \\\n",
       "0                    4738658            19                   249403.1   \n",
       "1                     669761            19                    35250.6   \n",
       "2                    1142850            19                    60150.0   \n",
       "3                    3366005            19                   177158.2   \n",
       "4                    4110859            19                   216361.0   \n",
       "5                     730265            20                    36513.3   \n",
       "6                    1220639            20                    61032.0   \n",
       "7                    4379649            20                   218982.5   \n",
       "8                    5132032            20                   256601.6   \n",
       "9                    3752289            20                   187614.4   \n",
       "10                   6047058            23                   262915.6   \n",
       "11                   5121816            23                   222687.6   \n",
       "12                   4387768            23                   190772.5   \n",
       "13                   1510118            23                    65657.3   \n",
       "14                    901662            23                    39202.7   \n",
       "15                    650905            16                    40681.6   \n",
       "16                   4223658            21                   201126.6   \n",
       "17                   4680719            21                   222891.4   \n",
       "18                   5573282            21                   265394.4   \n",
       "19                   1511915            21                    71995.9   \n",
       "20                   5546573            21                   264122.5   \n",
       "21                   3933571            21                   187312.9   \n",
       "22                   4628636            21                   220411.3   \n",
       "23                    783259            21                    37298.0   \n",
       "24                   1518063            21                    72288.7   \n",
       "25                    845464            22                    38430.2   \n",
       "26                   1660877            22                    75494.4   \n",
       "27                   4144063            22                   188366.5   \n",
       "28                   4860703            22                   220941.0   \n",
       "29                   5881456            22                   267338.9   \n",
       "..                       ...           ...                        ...   \n",
       "195                   823061            22                    37411.9   \n",
       "196                  1599512            22                    72705.1   \n",
       "197                  3819945            22                   173633.9   \n",
       "198                  4527379            22                   205790.0   \n",
       "199                  5391799            22                   245081.8   \n",
       "200                   850391            22                    38654.1   \n",
       "201                  1631294            22                    74149.7   \n",
       "202                  3624765            22                   164762.1   \n",
       "203                  4562221            22                   207373.7   \n",
       "204                  5422544            22                   246479.3   \n",
       "205                  4757240            20                   237862.0   \n",
       "206                  3305499            20                   165275.0   \n",
       "207                  4166742            20                   208337.1   \n",
       "208                   765614            20                    38280.7   \n",
       "209                  1541358            20                    77067.9   \n",
       "210                   825192            22                    37508.7   \n",
       "211                  1651051            22                    75047.8   \n",
       "212                  3437565            22                   156253.0   \n",
       "213                  4352778            22                   197853.6   \n",
       "214                  5021199            22                   228236.3   \n",
       "215                  4880100            22                   221822.7   \n",
       "216                  4239128            22                   192687.6   \n",
       "217                  1616173            22                    73462.4   \n",
       "218                   823813            22                    37446.1   \n",
       "219                  3232914            22                   146950.6   \n",
       "220                  4311143            20                   215557.2   \n",
       "221                   738886            20                    36944.3   \n",
       "222                  1528456            20                    76422.8   \n",
       "223                  3179038            20                   158951.9   \n",
       "224                  4915753            20                   245787.7   \n",
       "\n",
       "     ObjectId  first_diff_avg_ridership  second_diff_avg_ridership  \n",
       "0         159                       NaN                        NaN  \n",
       "1         152                 -214152.5                        NaN  \n",
       "2         156                   24899.4                   239051.9  \n",
       "3         157                  117008.2                    92108.8  \n",
       "4         158                   39202.8                   -77805.4  \n",
       "5         162                 -179847.7                  -219050.5  \n",
       "6         166                   24518.7                   204366.4  \n",
       "7         168                  157950.5                   133431.8  \n",
       "8         169                   37619.1                  -120331.4  \n",
       "9         167                  -68987.2                  -106606.3  \n",
       "10        179                   75301.2                   144288.4  \n",
       "11        178                  -40228.0                  -115529.2  \n",
       "12        177                  -31915.1                     8312.9  \n",
       "13        176                 -125115.2                   -93200.1  \n",
       "14        172                  -26454.6                    98660.6  \n",
       "15        182                    1478.9                    27933.5  \n",
       "16        187                  160445.0                   158966.1  \n",
       "17        188                   21764.8                  -138680.2  \n",
       "18        189                   42503.0                    20738.2  \n",
       "19        186                 -193398.5                  -235901.5  \n",
       "20        199                  192126.6                   385525.1  \n",
       "21        197                  -76809.6                  -268936.2  \n",
       "22        198                   33098.4                   109908.0  \n",
       "23        192                 -183113.3                  -216211.7  \n",
       "24        196                   34990.7                   218104.0  \n",
       "25         52                  -33858.5                   -68849.2  \n",
       "26         56                   37064.2                    70922.7  \n",
       "27         57                  112872.1                    75807.9  \n",
       "28         58                   32574.5                   -80297.6  \n",
       "29         59                   46397.9                    13823.4  \n",
       "..        ...                       ...                        ...  \n",
       "195       394                  -30939.5                   -61829.9  \n",
       "196       398                   35293.2                    66232.7  \n",
       "197       399                  100928.8                    65635.6  \n",
       "198       400                   32156.1                   -68772.7  \n",
       "199       401                   39291.8                     7135.7  \n",
       "200       404                 -206427.7                  -245719.5  \n",
       "201       408                   35495.6                   241923.3  \n",
       "202       409                   90612.4                    55116.8  \n",
       "203       410                   42611.6                   -48000.8  \n",
       "204       411                   39105.6                    -3506.0  \n",
       "205       421                   -8617.3                   -47722.9  \n",
       "206       419                  -72587.0                   -63969.7  \n",
       "207       420                   43062.1                   115649.1  \n",
       "208       414                 -170056.4                  -213118.5  \n",
       "209       418                   38787.2                   208843.6  \n",
       "210       424                  -39559.2                   -78346.4  \n",
       "211       428                   37539.1                    77098.3  \n",
       "212       429                   81205.2                    43666.1  \n",
       "213       430                   41600.6                   -39604.6  \n",
       "214       431                   30382.7                   -11217.9  \n",
       "215       441                   -6413.6                   -36796.3  \n",
       "216       440                  -29135.1                   -22721.5  \n",
       "217       438                 -119225.2                   -90090.1  \n",
       "218       434                  -36016.3                    83208.9  \n",
       "219       439                  109504.5                   145520.8  \n",
       "220       450                   68606.6                   -40897.9  \n",
       "221       444                 -178612.9                  -247219.5  \n",
       "222       448                   39478.5                   218091.4  \n",
       "223       449                   82529.1                    43050.6  \n",
       "224       451                   86835.8                     4306.7  \n",
       "\n",
       "[225 rows x 10 columns]"
      ]
     },
     "execution_count": 114,
     "metadata": {},
     "output_type": "execute_result"
    }
   ],
   "source": []
  },
  {
   "cell_type": "code",
   "execution_count": null,
   "metadata": {},
   "outputs": [],
   "source": []
  },
  {
   "cell_type": "code",
   "execution_count": null,
   "metadata": {},
   "outputs": [],
   "source": []
  },
  {
   "cell_type": "code",
   "execution_count": null,
   "metadata": {},
   "outputs": [],
   "source": []
  },
  {
   "cell_type": "code",
   "execution_count": 112,
   "metadata": {},
   "outputs": [
    {
     "data": {
      "application/vnd.plotly.v1+json": {
       "config": {
        "plotlyServerURL": "https://plot.ly"
       },
       "data": [
        {
         "line": {
          "color": "red"
         },
         "name": "Red Line",
         "opacity": 0.8,
         "type": "scatter",
         "x": [
          "2016-01-01T05:00:00.000Z",
          "2016-02-01T05:00:00.000Z",
          "2016-03-01T05:00:00.000Z",
          "2016-04-01T04:00:00.000Z",
          "2016-05-01T04:00:00.000Z",
          "2016-06-01T04:00:00.000Z",
          "2016-07-01T04:00:00.000Z",
          "2016-08-01T04:00:00.000Z",
          "2016-09-01T04:00:00.000Z",
          "2016-10-01T04:00:00.000Z",
          "2016-11-01T04:00:00.000Z",
          "2016-12-01T05:00:00.000Z",
          "2017-01-01T05:00:00.000Z",
          "2017-02-01T05:00:00.000Z",
          "2017-03-01T05:00:00.000Z",
          "2017-04-01T04:00:00.000Z",
          "2017-05-01T04:00:00.000Z",
          "2017-06-01T04:00:00.000Z",
          "2017-07-01T04:00:00.000Z",
          "2017-08-01T04:00:00.000Z",
          "2017-09-01T04:00:00.000Z",
          "2017-10-01T04:00:00.000Z",
          "2017-11-01T04:00:00.000Z",
          "2017-12-01T05:00:00.000Z",
          "2018-01-01T05:00:00.000Z",
          "2018-02-01T05:00:00.000Z",
          "2018-03-01T05:00:00.000Z",
          "2018-04-01T04:00:00.000Z",
          "2018-05-01T04:00:00.000Z",
          "2018-06-01T04:00:00.000Z",
          "2018-07-01T04:00:00.000Z",
          "2018-08-01T04:00:00.000Z",
          "2018-09-01T04:00:00.000Z",
          "2018-10-01T04:00:00.000Z",
          "2018-11-01T04:00:00.000Z",
          "2018-12-01T05:00:00.000Z",
          "2019-01-01T05:00:00.000Z",
          "2019-02-01T05:00:00.000Z",
          "2019-03-01T05:00:00.000Z",
          "2019-04-01T04:00:00.000Z",
          "2019-05-01T04:00:00.000Z",
          "2019-06-01T04:00:00.000Z",
          "2019-07-01T04:00:00.000Z",
          "2019-08-01T04:00:00.000Z",
          "2019-09-01T04:00:00.000Z"
         ],
         "y": [
          null,
          37619.100000000006,
          75301.19999999998,
          42503.00000000003,
          192126.6,
          46397.90000000002,
          51855.70000000001,
          -12439.50000000003,
          47631.99999999997,
          -2161.6999999999534,
          43591.69999999998,
          -22302.100000000006,
          39107.29999999999,
          42613.80000000002,
          182977.8,
          48086.50000000003,
          48278,
          227098.3,
          53395.70000000001,
          87153.09999999998,
          237297.5,
          -2369.0999999999767,
          222714.9,
          35817.20000000001,
          160613.59999999998,
          35572.79999999999,
          -14952.700000000012,
          40612.79999999999,
          80117.70000000001,
          85037.29999999999,
          167772.59999999998,
          163283.3,
          218697,
          71474.70000000001,
          69651.5,
          142986,
          34573.80000000002,
          41607.899999999994,
          39800.600000000006,
          39291.79999999999,
          39105.59999999998,
          -8617.299999999988,
          30382.699999999983,
          -6413.599999999977,
          86835.80000000002
         ]
        },
        {
         "line": {
          "color": "navy"
         },
         "name": "Blue Line",
         "opacity": 0.8,
         "type": "scatter",
         "x": [
          "2016-01-01T05:00:00.000Z",
          "2016-02-01T05:00:00.000Z",
          "2016-03-01T05:00:00.000Z",
          "2016-04-01T04:00:00.000Z",
          "2016-05-01T04:00:00.000Z",
          "2016-06-01T04:00:00.000Z",
          "2016-07-01T04:00:00.000Z",
          "2016-08-01T04:00:00.000Z",
          "2016-09-01T04:00:00.000Z",
          "2016-10-01T04:00:00.000Z",
          "2016-11-01T04:00:00.000Z",
          "2016-12-01T05:00:00.000Z",
          "2017-01-01T05:00:00.000Z",
          "2017-02-01T05:00:00.000Z",
          "2017-03-01T05:00:00.000Z",
          "2017-04-01T04:00:00.000Z",
          "2017-05-01T04:00:00.000Z",
          "2017-06-01T04:00:00.000Z",
          "2017-07-01T04:00:00.000Z",
          "2017-08-01T04:00:00.000Z",
          "2017-09-01T04:00:00.000Z",
          "2017-10-01T04:00:00.000Z",
          "2017-11-01T04:00:00.000Z",
          "2017-12-01T05:00:00.000Z",
          "2018-01-01T05:00:00.000Z",
          "2018-02-01T05:00:00.000Z",
          "2018-03-01T05:00:00.000Z",
          "2018-04-01T04:00:00.000Z",
          "2018-05-01T04:00:00.000Z",
          "2018-06-01T04:00:00.000Z",
          "2018-07-01T04:00:00.000Z",
          "2018-08-01T04:00:00.000Z",
          "2018-09-01T04:00:00.000Z",
          "2018-10-01T04:00:00.000Z",
          "2018-11-01T04:00:00.000Z",
          "2018-12-01T05:00:00.000Z",
          "2019-01-01T05:00:00.000Z",
          "2019-02-01T05:00:00.000Z",
          "2019-03-01T05:00:00.000Z",
          "2019-04-01T04:00:00.000Z",
          "2019-05-01T04:00:00.000Z",
          "2019-06-01T04:00:00.000Z",
          "2019-07-01T04:00:00.000Z",
          "2019-08-01T04:00:00.000Z",
          "2019-09-01T04:00:00.000Z"
         ],
         "y": [
          24899.4,
          24518.699999999997,
          -125115.2,
          -193398.50000000003,
          34990.7,
          37064.2,
          38234.8,
          -101627.4,
          40575.799999999996,
          -118047,
          36602.5,
          -130729.19999999998,
          33229.799999999996,
          -180791.3,
          33557.3,
          38785.799999999996,
          -191051.7,
          -103282.6,
          -182772.7,
          -176886.09999999998,
          -111694.4,
          -104082.8,
          -184198,
          -88527.29999999999,
          32391.6,
          38034.3,
          -89143.49999999999,
          38241.6,
          -137573.7,
          40819.899999999994,
          38028,
          -121523.20000000001,
          -159797,
          -113095.3,
          32504.800000000003,
          -116936.70000000001,
          31532.199999999997,
          33476.09999999999,
          30890.399999999994,
          35293.200000000004,
          35495.6,
          38787.2,
          37539.100000000006,
          -119225.20000000001,
          39478.5
         ]
        },
        {
         "line": {
          "color": "orange"
         },
         "name": "Orange Line",
         "opacity": 0.8,
         "type": "scatter",
         "x": [
          "2016-01-01T05:00:00.000Z",
          "2016-02-01T05:00:00.000Z",
          "2016-03-01T05:00:00.000Z",
          "2016-04-01T04:00:00.000Z",
          "2016-05-01T04:00:00.000Z",
          "2016-06-01T04:00:00.000Z",
          "2016-07-01T04:00:00.000Z",
          "2016-08-01T04:00:00.000Z",
          "2016-09-01T04:00:00.000Z",
          "2016-10-01T04:00:00.000Z",
          "2016-11-01T04:00:00.000Z",
          "2016-12-01T05:00:00.000Z",
          "2017-01-01T05:00:00.000Z",
          "2017-02-01T05:00:00.000Z",
          "2017-03-01T05:00:00.000Z",
          "2017-04-01T04:00:00.000Z",
          "2017-05-01T04:00:00.000Z",
          "2017-06-01T04:00:00.000Z",
          "2017-07-01T04:00:00.000Z",
          "2017-08-01T04:00:00.000Z",
          "2017-09-01T04:00:00.000Z",
          "2017-10-01T04:00:00.000Z",
          "2017-11-01T04:00:00.000Z",
          "2017-12-01T05:00:00.000Z",
          "2018-01-01T05:00:00.000Z",
          "2018-02-01T05:00:00.000Z",
          "2018-03-01T05:00:00.000Z",
          "2018-04-01T04:00:00.000Z",
          "2018-05-01T04:00:00.000Z",
          "2018-06-01T04:00:00.000Z",
          "2018-07-01T04:00:00.000Z",
          "2018-08-01T04:00:00.000Z",
          "2018-09-01T04:00:00.000Z",
          "2018-10-01T04:00:00.000Z",
          "2018-11-01T04:00:00.000Z",
          "2018-12-01T05:00:00.000Z",
          "2019-01-01T05:00:00.000Z",
          "2019-02-01T05:00:00.000Z",
          "2019-03-01T05:00:00.000Z",
          "2019-04-01T04:00:00.000Z",
          "2019-05-01T04:00:00.000Z",
          "2019-06-01T04:00:00.000Z",
          "2019-07-01T04:00:00.000Z",
          "2019-08-01T04:00:00.000Z",
          "2019-09-01T04:00:00.000Z"
         ],
         "y": [
          39202.79999999999,
          157950.5,
          -40227.99999999997,
          21764.79999999999,
          33098.399999999994,
          32574.5,
          25581.300000000017,
          -47049.899999999994,
          29803.5,
          -47910.00000000003,
          31718.20000000001,
          -38081.5,
          39224.100000000006,
          29047.100000000006,
          31550.800000000017,
          25264.699999999983,
          140957.09999999998,
          -48160.5,
          32827.5,
          164834.4,
          147689,
          -46630.70000000001,
          37235.5,
          158780,
          159625.30000000002,
          39114.70000000001,
          -36051.5,
          138801.8,
          -42362.20000000001,
          43939.600000000006,
          -43259.29999999999,
          32336.100000000006,
          -42926.399999999994,
          -42378.29999999999,
          -38542.29999999999,
          -32002.399999999994,
          126623.7,
          30281.100000000006,
          -41381.5,
          32156.100000000006,
          42611.600000000006,
          43062.100000000006,
          41600.600000000006,
          -29135.100000000006,
          68606.6
         ]
        },
        {
         "line": {
          "color": "gray"
         },
         "name": "Silver Line",
         "opacity": 0.8,
         "type": "scatter",
         "x": [
          "2016-01-01T05:00:00.000Z",
          "2016-02-01T05:00:00.000Z",
          "2016-03-01T05:00:00.000Z",
          "2016-04-01T04:00:00.000Z",
          "2016-05-01T04:00:00.000Z",
          "2016-06-01T04:00:00.000Z",
          "2016-07-01T04:00:00.000Z",
          "2016-08-01T04:00:00.000Z",
          "2016-09-01T04:00:00.000Z",
          "2016-10-01T04:00:00.000Z",
          "2016-11-01T04:00:00.000Z",
          "2016-12-01T05:00:00.000Z",
          "2017-01-01T05:00:00.000Z",
          "2017-02-01T05:00:00.000Z",
          "2017-03-01T05:00:00.000Z",
          "2017-04-01T04:00:00.000Z",
          "2017-05-01T04:00:00.000Z",
          "2017-06-01T04:00:00.000Z",
          "2017-07-01T04:00:00.000Z",
          "2017-08-01T04:00:00.000Z",
          "2017-09-01T04:00:00.000Z",
          "2017-10-01T04:00:00.000Z",
          "2017-11-01T04:00:00.000Z",
          "2017-12-01T05:00:00.000Z",
          "2018-01-01T05:00:00.000Z",
          "2018-02-01T05:00:00.000Z",
          "2018-03-01T05:00:00.000Z",
          "2018-04-01T04:00:00.000Z",
          "2018-05-01T04:00:00.000Z",
          "2018-06-01T04:00:00.000Z",
          "2018-07-01T04:00:00.000Z",
          "2018-08-01T04:00:00.000Z",
          "2018-09-01T04:00:00.000Z",
          "2018-10-01T04:00:00.000Z",
          "2018-11-01T04:00:00.000Z",
          "2018-12-01T05:00:00.000Z",
          "2019-01-01T05:00:00.000Z",
          "2019-02-01T05:00:00.000Z",
          "2019-03-01T05:00:00.000Z",
          "2019-04-01T04:00:00.000Z",
          "2019-05-01T04:00:00.000Z",
          "2019-06-01T04:00:00.000Z",
          "2019-07-01T04:00:00.000Z",
          "2019-08-01T04:00:00.000Z",
          "2019-09-01T04:00:00.000Z"
         ],
         "y": [
          -214152.5,
          -179847.7,
          -26454.600000000006,
          1478.9000000000015,
          -183113.3,
          -33858.5,
          -230093.2,
          -36657.40000000001,
          -1316.2999999999956,
          -38057.700000000004,
          -1585.5999999999985,
          -34937.100000000006,
          -133121.7,
          -34221.3,
          -172420.5,
          -215933.4,
          -139881.4,
          -41808.100000000006,
          -39465.799999999996,
          -166759.9,
          -44572.59999999999,
          -42669.8,
          -179081.90000000002,
          -35977.50000000001,
          -193376.5,
          -118070.09999999999,
          -34107.200000000004,
          4177.5,
          -39956.899999999994,
          -217884.09999999998,
          -175592,
          -133785.4,
          -38427.8,
          -37762.6,
          -165308.40000000002,
          -31609.300000000003,
          -117435,
          -123717.59999999999,
          -128221.29999999999,
          -30939.499999999993,
          -206427.69999999998,
          -170056.40000000002,
          -39559.2,
          -36016.299999999996,
          -178612.90000000002
         ]
        },
        {
         "line": {
          "color": "green"
         },
         "name": "Green Line",
         "opacity": 0.8,
         "type": "scatter",
         "x": [
          "2016-01-01T05:00:00.000Z",
          "2016-02-01T05:00:00.000Z",
          "2016-03-01T05:00:00.000Z",
          "2016-04-01T04:00:00.000Z",
          "2016-05-01T04:00:00.000Z",
          "2016-06-01T04:00:00.000Z",
          "2016-07-01T04:00:00.000Z",
          "2016-08-01T04:00:00.000Z",
          "2016-09-01T04:00:00.000Z",
          "2016-10-01T04:00:00.000Z",
          "2016-11-01T04:00:00.000Z",
          "2016-12-01T05:00:00.000Z",
          "2017-01-01T05:00:00.000Z",
          "2017-02-01T05:00:00.000Z",
          "2017-03-01T05:00:00.000Z",
          "2017-04-01T04:00:00.000Z",
          "2017-05-01T04:00:00.000Z",
          "2017-06-01T04:00:00.000Z",
          "2017-07-01T04:00:00.000Z",
          "2017-08-01T04:00:00.000Z",
          "2017-09-01T04:00:00.000Z",
          "2017-10-01T04:00:00.000Z",
          "2017-11-01T04:00:00.000Z",
          "2017-12-01T05:00:00.000Z",
          "2018-01-01T05:00:00.000Z",
          "2018-02-01T05:00:00.000Z",
          "2018-03-01T05:00:00.000Z",
          "2018-04-01T04:00:00.000Z",
          "2018-05-01T04:00:00.000Z",
          "2018-06-01T04:00:00.000Z",
          "2018-07-01T04:00:00.000Z",
          "2018-08-01T04:00:00.000Z",
          "2018-09-01T04:00:00.000Z",
          "2018-10-01T04:00:00.000Z",
          "2018-11-01T04:00:00.000Z",
          "2018-12-01T05:00:00.000Z",
          "2019-01-01T05:00:00.000Z",
          "2019-02-01T05:00:00.000Z",
          "2019-03-01T05:00:00.000Z",
          "2019-04-01T04:00:00.000Z",
          "2019-05-01T04:00:00.000Z",
          "2019-06-01T04:00:00.000Z",
          "2019-07-01T04:00:00.000Z",
          "2019-08-01T04:00:00.000Z",
          "2019-09-01T04:00:00.000Z"
         ],
         "y": [
          117008.20000000001,
          -68987.20000000001,
          -31915.100000000006,
          160445,
          -76809.6,
          112872.1,
          110592.9,
          -29938.5,
          119062.90000000001,
          -29620.29999999999,
          111687.2,
          134829.1,
          101776.7,
          143783.59999999998,
          -72842.80000000002,
          117437.50000000001,
          -86619.9,
          -34373.09999999998,
          137412.4,
          130127.6,
          -32918.40000000002,
          -40748.399999999994,
          102175.80000000002,
          -72307.1,
          -40294.20000000001,
          98607.4,
          -37276,
          -76214.9,
          133072.8,
          91041.40000000001,
          -28970.100000000006,
          123801.1,
          -25361.800000000017,
          -27432.20000000001,
          133965.4,
          119164.8,
          -69230.80000000002,
          100709.1,
          -73288.80000000002,
          100928.79999999999,
          90612.40000000001,
          -72587,
          81205.2,
          109504.5,
          82529.09999999999
         ]
        }
       ],
       "layout": {
        "template": {
         "data": {
          "bar": [
           {
            "error_x": {
             "color": "#2a3f5f"
            },
            "error_y": {
             "color": "#2a3f5f"
            },
            "marker": {
             "line": {
              "color": "#E5ECF6",
              "width": 0.5
             }
            },
            "type": "bar"
           }
          ],
          "barpolar": [
           {
            "marker": {
             "line": {
              "color": "#E5ECF6",
              "width": 0.5
             }
            },
            "type": "barpolar"
           }
          ],
          "carpet": [
           {
            "aaxis": {
             "endlinecolor": "#2a3f5f",
             "gridcolor": "white",
             "linecolor": "white",
             "minorgridcolor": "white",
             "startlinecolor": "#2a3f5f"
            },
            "baxis": {
             "endlinecolor": "#2a3f5f",
             "gridcolor": "white",
             "linecolor": "white",
             "minorgridcolor": "white",
             "startlinecolor": "#2a3f5f"
            },
            "type": "carpet"
           }
          ],
          "choropleth": [
           {
            "colorbar": {
             "outlinewidth": 0,
             "ticks": ""
            },
            "type": "choropleth"
           }
          ],
          "contour": [
           {
            "colorbar": {
             "outlinewidth": 0,
             "ticks": ""
            },
            "colorscale": [
             [
              0,
              "#0d0887"
             ],
             [
              0.1111111111111111,
              "#46039f"
             ],
             [
              0.2222222222222222,
              "#7201a8"
             ],
             [
              0.3333333333333333,
              "#9c179e"
             ],
             [
              0.4444444444444444,
              "#bd3786"
             ],
             [
              0.5555555555555556,
              "#d8576b"
             ],
             [
              0.6666666666666666,
              "#ed7953"
             ],
             [
              0.7777777777777778,
              "#fb9f3a"
             ],
             [
              0.8888888888888888,
              "#fdca26"
             ],
             [
              1,
              "#f0f921"
             ]
            ],
            "type": "contour"
           }
          ],
          "contourcarpet": [
           {
            "colorbar": {
             "outlinewidth": 0,
             "ticks": ""
            },
            "type": "contourcarpet"
           }
          ],
          "heatmap": [
           {
            "colorbar": {
             "outlinewidth": 0,
             "ticks": ""
            },
            "colorscale": [
             [
              0,
              "#0d0887"
             ],
             [
              0.1111111111111111,
              "#46039f"
             ],
             [
              0.2222222222222222,
              "#7201a8"
             ],
             [
              0.3333333333333333,
              "#9c179e"
             ],
             [
              0.4444444444444444,
              "#bd3786"
             ],
             [
              0.5555555555555556,
              "#d8576b"
             ],
             [
              0.6666666666666666,
              "#ed7953"
             ],
             [
              0.7777777777777778,
              "#fb9f3a"
             ],
             [
              0.8888888888888888,
              "#fdca26"
             ],
             [
              1,
              "#f0f921"
             ]
            ],
            "type": "heatmap"
           }
          ],
          "heatmapgl": [
           {
            "colorbar": {
             "outlinewidth": 0,
             "ticks": ""
            },
            "colorscale": [
             [
              0,
              "#0d0887"
             ],
             [
              0.1111111111111111,
              "#46039f"
             ],
             [
              0.2222222222222222,
              "#7201a8"
             ],
             [
              0.3333333333333333,
              "#9c179e"
             ],
             [
              0.4444444444444444,
              "#bd3786"
             ],
             [
              0.5555555555555556,
              "#d8576b"
             ],
             [
              0.6666666666666666,
              "#ed7953"
             ],
             [
              0.7777777777777778,
              "#fb9f3a"
             ],
             [
              0.8888888888888888,
              "#fdca26"
             ],
             [
              1,
              "#f0f921"
             ]
            ],
            "type": "heatmapgl"
           }
          ],
          "histogram": [
           {
            "marker": {
             "colorbar": {
              "outlinewidth": 0,
              "ticks": ""
             }
            },
            "type": "histogram"
           }
          ],
          "histogram2d": [
           {
            "colorbar": {
             "outlinewidth": 0,
             "ticks": ""
            },
            "colorscale": [
             [
              0,
              "#0d0887"
             ],
             [
              0.1111111111111111,
              "#46039f"
             ],
             [
              0.2222222222222222,
              "#7201a8"
             ],
             [
              0.3333333333333333,
              "#9c179e"
             ],
             [
              0.4444444444444444,
              "#bd3786"
             ],
             [
              0.5555555555555556,
              "#d8576b"
             ],
             [
              0.6666666666666666,
              "#ed7953"
             ],
             [
              0.7777777777777778,
              "#fb9f3a"
             ],
             [
              0.8888888888888888,
              "#fdca26"
             ],
             [
              1,
              "#f0f921"
             ]
            ],
            "type": "histogram2d"
           }
          ],
          "histogram2dcontour": [
           {
            "colorbar": {
             "outlinewidth": 0,
             "ticks": ""
            },
            "colorscale": [
             [
              0,
              "#0d0887"
             ],
             [
              0.1111111111111111,
              "#46039f"
             ],
             [
              0.2222222222222222,
              "#7201a8"
             ],
             [
              0.3333333333333333,
              "#9c179e"
             ],
             [
              0.4444444444444444,
              "#bd3786"
             ],
             [
              0.5555555555555556,
              "#d8576b"
             ],
             [
              0.6666666666666666,
              "#ed7953"
             ],
             [
              0.7777777777777778,
              "#fb9f3a"
             ],
             [
              0.8888888888888888,
              "#fdca26"
             ],
             [
              1,
              "#f0f921"
             ]
            ],
            "type": "histogram2dcontour"
           }
          ],
          "mesh3d": [
           {
            "colorbar": {
             "outlinewidth": 0,
             "ticks": ""
            },
            "type": "mesh3d"
           }
          ],
          "parcoords": [
           {
            "line": {
             "colorbar": {
              "outlinewidth": 0,
              "ticks": ""
             }
            },
            "type": "parcoords"
           }
          ],
          "pie": [
           {
            "automargin": true,
            "type": "pie"
           }
          ],
          "scatter": [
           {
            "marker": {
             "colorbar": {
              "outlinewidth": 0,
              "ticks": ""
             }
            },
            "type": "scatter"
           }
          ],
          "scatter3d": [
           {
            "line": {
             "colorbar": {
              "outlinewidth": 0,
              "ticks": ""
             }
            },
            "marker": {
             "colorbar": {
              "outlinewidth": 0,
              "ticks": ""
             }
            },
            "type": "scatter3d"
           }
          ],
          "scattercarpet": [
           {
            "marker": {
             "colorbar": {
              "outlinewidth": 0,
              "ticks": ""
             }
            },
            "type": "scattercarpet"
           }
          ],
          "scattergeo": [
           {
            "marker": {
             "colorbar": {
              "outlinewidth": 0,
              "ticks": ""
             }
            },
            "type": "scattergeo"
           }
          ],
          "scattergl": [
           {
            "marker": {
             "colorbar": {
              "outlinewidth": 0,
              "ticks": ""
             }
            },
            "type": "scattergl"
           }
          ],
          "scattermapbox": [
           {
            "marker": {
             "colorbar": {
              "outlinewidth": 0,
              "ticks": ""
             }
            },
            "type": "scattermapbox"
           }
          ],
          "scatterpolar": [
           {
            "marker": {
             "colorbar": {
              "outlinewidth": 0,
              "ticks": ""
             }
            },
            "type": "scatterpolar"
           }
          ],
          "scatterpolargl": [
           {
            "marker": {
             "colorbar": {
              "outlinewidth": 0,
              "ticks": ""
             }
            },
            "type": "scatterpolargl"
           }
          ],
          "scatterternary": [
           {
            "marker": {
             "colorbar": {
              "outlinewidth": 0,
              "ticks": ""
             }
            },
            "type": "scatterternary"
           }
          ],
          "surface": [
           {
            "colorbar": {
             "outlinewidth": 0,
             "ticks": ""
            },
            "colorscale": [
             [
              0,
              "#0d0887"
             ],
             [
              0.1111111111111111,
              "#46039f"
             ],
             [
              0.2222222222222222,
              "#7201a8"
             ],
             [
              0.3333333333333333,
              "#9c179e"
             ],
             [
              0.4444444444444444,
              "#bd3786"
             ],
             [
              0.5555555555555556,
              "#d8576b"
             ],
             [
              0.6666666666666666,
              "#ed7953"
             ],
             [
              0.7777777777777778,
              "#fb9f3a"
             ],
             [
              0.8888888888888888,
              "#fdca26"
             ],
             [
              1,
              "#f0f921"
             ]
            ],
            "type": "surface"
           }
          ],
          "table": [
           {
            "cells": {
             "fill": {
              "color": "#EBF0F8"
             },
             "line": {
              "color": "white"
             }
            },
            "header": {
             "fill": {
              "color": "#C8D4E3"
             },
             "line": {
              "color": "white"
             }
            },
            "type": "table"
           }
          ]
         },
         "layout": {
          "annotationdefaults": {
           "arrowcolor": "#2a3f5f",
           "arrowhead": 0,
           "arrowwidth": 1
          },
          "coloraxis": {
           "colorbar": {
            "outlinewidth": 0,
            "ticks": ""
           }
          },
          "colorscale": {
           "diverging": [
            [
             0,
             "#8e0152"
            ],
            [
             0.1,
             "#c51b7d"
            ],
            [
             0.2,
             "#de77ae"
            ],
            [
             0.3,
             "#f1b6da"
            ],
            [
             0.4,
             "#fde0ef"
            ],
            [
             0.5,
             "#f7f7f7"
            ],
            [
             0.6,
             "#e6f5d0"
            ],
            [
             0.7,
             "#b8e186"
            ],
            [
             0.8,
             "#7fbc41"
            ],
            [
             0.9,
             "#4d9221"
            ],
            [
             1,
             "#276419"
            ]
           ],
           "sequential": [
            [
             0,
             "#0d0887"
            ],
            [
             0.1111111111111111,
             "#46039f"
            ],
            [
             0.2222222222222222,
             "#7201a8"
            ],
            [
             0.3333333333333333,
             "#9c179e"
            ],
            [
             0.4444444444444444,
             "#bd3786"
            ],
            [
             0.5555555555555556,
             "#d8576b"
            ],
            [
             0.6666666666666666,
             "#ed7953"
            ],
            [
             0.7777777777777778,
             "#fb9f3a"
            ],
            [
             0.8888888888888888,
             "#fdca26"
            ],
            [
             1,
             "#f0f921"
            ]
           ],
           "sequentialminus": [
            [
             0,
             "#0d0887"
            ],
            [
             0.1111111111111111,
             "#46039f"
            ],
            [
             0.2222222222222222,
             "#7201a8"
            ],
            [
             0.3333333333333333,
             "#9c179e"
            ],
            [
             0.4444444444444444,
             "#bd3786"
            ],
            [
             0.5555555555555556,
             "#d8576b"
            ],
            [
             0.6666666666666666,
             "#ed7953"
            ],
            [
             0.7777777777777778,
             "#fb9f3a"
            ],
            [
             0.8888888888888888,
             "#fdca26"
            ],
            [
             1,
             "#f0f921"
            ]
           ]
          },
          "colorway": [
           "#636efa",
           "#EF553B",
           "#00cc96",
           "#ab63fa",
           "#FFA15A",
           "#19d3f3",
           "#FF6692",
           "#B6E880",
           "#FF97FF",
           "#FECB52"
          ],
          "font": {
           "color": "#2a3f5f"
          },
          "geo": {
           "bgcolor": "white",
           "lakecolor": "white",
           "landcolor": "#E5ECF6",
           "showlakes": true,
           "showland": true,
           "subunitcolor": "white"
          },
          "hoverlabel": {
           "align": "left"
          },
          "hovermode": "closest",
          "mapbox": {
           "style": "light"
          },
          "paper_bgcolor": "white",
          "plot_bgcolor": "#E5ECF6",
          "polar": {
           "angularaxis": {
            "gridcolor": "white",
            "linecolor": "white",
            "ticks": ""
           },
           "bgcolor": "#E5ECF6",
           "radialaxis": {
            "gridcolor": "white",
            "linecolor": "white",
            "ticks": ""
           }
          },
          "scene": {
           "xaxis": {
            "backgroundcolor": "#E5ECF6",
            "gridcolor": "white",
            "gridwidth": 2,
            "linecolor": "white",
            "showbackground": true,
            "ticks": "",
            "zerolinecolor": "white"
           },
           "yaxis": {
            "backgroundcolor": "#E5ECF6",
            "gridcolor": "white",
            "gridwidth": 2,
            "linecolor": "white",
            "showbackground": true,
            "ticks": "",
            "zerolinecolor": "white"
           },
           "zaxis": {
            "backgroundcolor": "#E5ECF6",
            "gridcolor": "white",
            "gridwidth": 2,
            "linecolor": "white",
            "showbackground": true,
            "ticks": "",
            "zerolinecolor": "white"
           }
          },
          "shapedefaults": {
           "line": {
            "color": "#2a3f5f"
           }
          },
          "ternary": {
           "aaxis": {
            "gridcolor": "white",
            "linecolor": "white",
            "ticks": ""
           },
           "baxis": {
            "gridcolor": "white",
            "linecolor": "white",
            "ticks": ""
           },
           "bgcolor": "#E5ECF6",
           "caxis": {
            "gridcolor": "white",
            "linecolor": "white",
            "ticks": ""
           }
          },
          "title": {
           "x": 0.05
          },
          "xaxis": {
           "automargin": true,
           "gridcolor": "white",
           "linecolor": "white",
           "ticks": "",
           "title": {
            "standoff": 15
           },
           "zerolinecolor": "white",
           "zerolinewidth": 2
          },
          "yaxis": {
           "automargin": true,
           "gridcolor": "white",
           "linecolor": "white",
           "ticks": "",
           "title": {
            "standoff": 15
           },
           "zerolinecolor": "white",
           "zerolinewidth": 2
          }
         }
        },
        "title": {
         "text": "First Order Differenced MBTA Subway Average Ridership per Line (Jan 2016 - Sep 2019)"
        },
        "updatemenus": [
         {
          "active": 0,
          "buttons": [
           {
            "args": [
             {
              "visible": [
               true,
               true,
               true,
               true,
               true
              ]
             },
             {
              "title": "First Order Differenced MBTA Subway Average Ridership per Line (Jan 2016 - Sep 2019)"
             }
            ],
            "label": "All",
            "method": "update"
           },
           {
            "args": [
             {
              "visible": [
               true,
               false,
               false,
               false,
               false
              ]
             },
             {
              "title": "Red Line"
             }
            ],
            "label": "Red",
            "method": "update"
           },
           {
            "args": [
             {
              "visible": [
               false,
               true,
               false,
               false,
               false
              ]
             },
             {
              "title": "Blue Line"
             }
            ],
            "label": "Blue",
            "method": "update"
           },
           {
            "args": [
             {
              "visible": [
               false,
               false,
               true,
               false,
               false
              ]
             },
             {
              "title": "Orange Line"
             }
            ],
            "label": "Orange",
            "method": "update"
           },
           {
            "args": [
             {
              "visible": [
               false,
               false,
               false,
               true,
               false
              ]
             },
             {
              "title": "Silver Line"
             }
            ],
            "label": "Silver",
            "method": "update"
           },
           {
            "args": [
             {
              "visible": [
               false,
               false,
               false,
               false,
               true
              ]
             },
             {
              "title": "Green Line"
             }
            ],
            "label": "Green",
            "method": "update"
           }
          ],
          "direction": "right",
          "type": "buttons",
          "x": 0.7,
          "y": -0.2
         }
        ],
        "xaxis": {
         "range": [
          "2016-01-01",
          "2019-09-01"
         ]
        }
       }
      },
      "text/html": [
       "<div>\n",
       "        \n",
       "        \n",
       "            <div id=\"128ec65a-aebb-494f-b685-f126fc67747a\" class=\"plotly-graph-div\" style=\"height:525px; width:100%;\"></div>\n",
       "            <script type=\"text/javascript\">\n",
       "                require([\"plotly\"], function(Plotly) {\n",
       "                    window.PLOTLYENV=window.PLOTLYENV || {};\n",
       "                    \n",
       "                if (document.getElementById(\"128ec65a-aebb-494f-b685-f126fc67747a\")) {\n",
       "                    Plotly.newPlot(\n",
       "                        '128ec65a-aebb-494f-b685-f126fc67747a',\n",
       "                        [{\"line\": {\"color\": \"red\"}, \"name\": \"Red Line\", \"opacity\": 0.8, \"type\": \"scatter\", \"x\": [\"2016-01-01T05:00:00.000Z\", \"2016-02-01T05:00:00.000Z\", \"2016-03-01T05:00:00.000Z\", \"2016-04-01T04:00:00.000Z\", \"2016-05-01T04:00:00.000Z\", \"2016-06-01T04:00:00.000Z\", \"2016-07-01T04:00:00.000Z\", \"2016-08-01T04:00:00.000Z\", \"2016-09-01T04:00:00.000Z\", \"2016-10-01T04:00:00.000Z\", \"2016-11-01T04:00:00.000Z\", \"2016-12-01T05:00:00.000Z\", \"2017-01-01T05:00:00.000Z\", \"2017-02-01T05:00:00.000Z\", \"2017-03-01T05:00:00.000Z\", \"2017-04-01T04:00:00.000Z\", \"2017-05-01T04:00:00.000Z\", \"2017-06-01T04:00:00.000Z\", \"2017-07-01T04:00:00.000Z\", \"2017-08-01T04:00:00.000Z\", \"2017-09-01T04:00:00.000Z\", \"2017-10-01T04:00:00.000Z\", \"2017-11-01T04:00:00.000Z\", \"2017-12-01T05:00:00.000Z\", \"2018-01-01T05:00:00.000Z\", \"2018-02-01T05:00:00.000Z\", \"2018-03-01T05:00:00.000Z\", \"2018-04-01T04:00:00.000Z\", \"2018-05-01T04:00:00.000Z\", \"2018-06-01T04:00:00.000Z\", \"2018-07-01T04:00:00.000Z\", \"2018-08-01T04:00:00.000Z\", \"2018-09-01T04:00:00.000Z\", \"2018-10-01T04:00:00.000Z\", \"2018-11-01T04:00:00.000Z\", \"2018-12-01T05:00:00.000Z\", \"2019-01-01T05:00:00.000Z\", \"2019-02-01T05:00:00.000Z\", \"2019-03-01T05:00:00.000Z\", \"2019-04-01T04:00:00.000Z\", \"2019-05-01T04:00:00.000Z\", \"2019-06-01T04:00:00.000Z\", \"2019-07-01T04:00:00.000Z\", \"2019-08-01T04:00:00.000Z\", \"2019-09-01T04:00:00.000Z\"], \"y\": [null, 37619.100000000006, 75301.19999999998, 42503.00000000003, 192126.6, 46397.90000000002, 51855.70000000001, -12439.50000000003, 47631.99999999997, -2161.6999999999534, 43591.69999999998, -22302.100000000006, 39107.29999999999, 42613.80000000002, 182977.8, 48086.50000000003, 48278.0, 227098.3, 53395.70000000001, 87153.09999999998, 237297.5, -2369.0999999999767, 222714.9, 35817.20000000001, 160613.59999999998, 35572.79999999999, -14952.700000000012, 40612.79999999999, 80117.70000000001, 85037.29999999999, 167772.59999999998, 163283.3, 218697.0, 71474.70000000001, 69651.5, 142986.0, 34573.80000000002, 41607.899999999994, 39800.600000000006, 39291.79999999999, 39105.59999999998, -8617.299999999988, 30382.699999999983, -6413.599999999977, 86835.80000000002]}, {\"line\": {\"color\": \"navy\"}, \"name\": \"Blue Line\", \"opacity\": 0.8, \"type\": \"scatter\", \"x\": [\"2016-01-01T05:00:00.000Z\", \"2016-02-01T05:00:00.000Z\", \"2016-03-01T05:00:00.000Z\", \"2016-04-01T04:00:00.000Z\", \"2016-05-01T04:00:00.000Z\", \"2016-06-01T04:00:00.000Z\", \"2016-07-01T04:00:00.000Z\", \"2016-08-01T04:00:00.000Z\", \"2016-09-01T04:00:00.000Z\", \"2016-10-01T04:00:00.000Z\", \"2016-11-01T04:00:00.000Z\", \"2016-12-01T05:00:00.000Z\", \"2017-01-01T05:00:00.000Z\", \"2017-02-01T05:00:00.000Z\", \"2017-03-01T05:00:00.000Z\", \"2017-04-01T04:00:00.000Z\", \"2017-05-01T04:00:00.000Z\", \"2017-06-01T04:00:00.000Z\", \"2017-07-01T04:00:00.000Z\", \"2017-08-01T04:00:00.000Z\", \"2017-09-01T04:00:00.000Z\", \"2017-10-01T04:00:00.000Z\", \"2017-11-01T04:00:00.000Z\", \"2017-12-01T05:00:00.000Z\", \"2018-01-01T05:00:00.000Z\", \"2018-02-01T05:00:00.000Z\", \"2018-03-01T05:00:00.000Z\", \"2018-04-01T04:00:00.000Z\", \"2018-05-01T04:00:00.000Z\", \"2018-06-01T04:00:00.000Z\", \"2018-07-01T04:00:00.000Z\", \"2018-08-01T04:00:00.000Z\", \"2018-09-01T04:00:00.000Z\", \"2018-10-01T04:00:00.000Z\", \"2018-11-01T04:00:00.000Z\", \"2018-12-01T05:00:00.000Z\", \"2019-01-01T05:00:00.000Z\", \"2019-02-01T05:00:00.000Z\", \"2019-03-01T05:00:00.000Z\", \"2019-04-01T04:00:00.000Z\", \"2019-05-01T04:00:00.000Z\", \"2019-06-01T04:00:00.000Z\", \"2019-07-01T04:00:00.000Z\", \"2019-08-01T04:00:00.000Z\", \"2019-09-01T04:00:00.000Z\"], \"y\": [24899.4, 24518.699999999997, -125115.2, -193398.50000000003, 34990.7, 37064.2, 38234.8, -101627.4, 40575.799999999996, -118047.0, 36602.5, -130729.19999999998, 33229.799999999996, -180791.3, 33557.3, 38785.799999999996, -191051.7, -103282.6, -182772.7, -176886.09999999998, -111694.4, -104082.8, -184198.0, -88527.29999999999, 32391.6, 38034.3, -89143.49999999999, 38241.6, -137573.7, 40819.899999999994, 38028.0, -121523.20000000001, -159797.0, -113095.3, 32504.800000000003, -116936.70000000001, 31532.199999999997, 33476.09999999999, 30890.399999999994, 35293.200000000004, 35495.6, 38787.2, 37539.100000000006, -119225.20000000001, 39478.5]}, {\"line\": {\"color\": \"orange\"}, \"name\": \"Orange Line\", \"opacity\": 0.8, \"type\": \"scatter\", \"x\": [\"2016-01-01T05:00:00.000Z\", \"2016-02-01T05:00:00.000Z\", \"2016-03-01T05:00:00.000Z\", \"2016-04-01T04:00:00.000Z\", \"2016-05-01T04:00:00.000Z\", \"2016-06-01T04:00:00.000Z\", \"2016-07-01T04:00:00.000Z\", \"2016-08-01T04:00:00.000Z\", \"2016-09-01T04:00:00.000Z\", \"2016-10-01T04:00:00.000Z\", \"2016-11-01T04:00:00.000Z\", \"2016-12-01T05:00:00.000Z\", \"2017-01-01T05:00:00.000Z\", \"2017-02-01T05:00:00.000Z\", \"2017-03-01T05:00:00.000Z\", \"2017-04-01T04:00:00.000Z\", \"2017-05-01T04:00:00.000Z\", \"2017-06-01T04:00:00.000Z\", \"2017-07-01T04:00:00.000Z\", \"2017-08-01T04:00:00.000Z\", \"2017-09-01T04:00:00.000Z\", \"2017-10-01T04:00:00.000Z\", \"2017-11-01T04:00:00.000Z\", \"2017-12-01T05:00:00.000Z\", \"2018-01-01T05:00:00.000Z\", \"2018-02-01T05:00:00.000Z\", \"2018-03-01T05:00:00.000Z\", \"2018-04-01T04:00:00.000Z\", \"2018-05-01T04:00:00.000Z\", \"2018-06-01T04:00:00.000Z\", \"2018-07-01T04:00:00.000Z\", \"2018-08-01T04:00:00.000Z\", \"2018-09-01T04:00:00.000Z\", \"2018-10-01T04:00:00.000Z\", \"2018-11-01T04:00:00.000Z\", \"2018-12-01T05:00:00.000Z\", \"2019-01-01T05:00:00.000Z\", \"2019-02-01T05:00:00.000Z\", \"2019-03-01T05:00:00.000Z\", \"2019-04-01T04:00:00.000Z\", \"2019-05-01T04:00:00.000Z\", \"2019-06-01T04:00:00.000Z\", \"2019-07-01T04:00:00.000Z\", \"2019-08-01T04:00:00.000Z\", \"2019-09-01T04:00:00.000Z\"], \"y\": [39202.79999999999, 157950.5, -40227.99999999997, 21764.79999999999, 33098.399999999994, 32574.5, 25581.300000000017, -47049.899999999994, 29803.5, -47910.00000000003, 31718.20000000001, -38081.5, 39224.100000000006, 29047.100000000006, 31550.800000000017, 25264.699999999983, 140957.09999999998, -48160.5, 32827.5, 164834.4, 147689.0, -46630.70000000001, 37235.5, 158780.0, 159625.30000000002, 39114.70000000001, -36051.5, 138801.8, -42362.20000000001, 43939.600000000006, -43259.29999999999, 32336.100000000006, -42926.399999999994, -42378.29999999999, -38542.29999999999, -32002.399999999994, 126623.7, 30281.100000000006, -41381.5, 32156.100000000006, 42611.600000000006, 43062.100000000006, 41600.600000000006, -29135.100000000006, 68606.6]}, {\"line\": {\"color\": \"gray\"}, \"name\": \"Silver Line\", \"opacity\": 0.8, \"type\": \"scatter\", \"x\": [\"2016-01-01T05:00:00.000Z\", \"2016-02-01T05:00:00.000Z\", \"2016-03-01T05:00:00.000Z\", \"2016-04-01T04:00:00.000Z\", \"2016-05-01T04:00:00.000Z\", \"2016-06-01T04:00:00.000Z\", \"2016-07-01T04:00:00.000Z\", \"2016-08-01T04:00:00.000Z\", \"2016-09-01T04:00:00.000Z\", \"2016-10-01T04:00:00.000Z\", \"2016-11-01T04:00:00.000Z\", \"2016-12-01T05:00:00.000Z\", \"2017-01-01T05:00:00.000Z\", \"2017-02-01T05:00:00.000Z\", \"2017-03-01T05:00:00.000Z\", \"2017-04-01T04:00:00.000Z\", \"2017-05-01T04:00:00.000Z\", \"2017-06-01T04:00:00.000Z\", \"2017-07-01T04:00:00.000Z\", \"2017-08-01T04:00:00.000Z\", \"2017-09-01T04:00:00.000Z\", \"2017-10-01T04:00:00.000Z\", \"2017-11-01T04:00:00.000Z\", \"2017-12-01T05:00:00.000Z\", \"2018-01-01T05:00:00.000Z\", \"2018-02-01T05:00:00.000Z\", \"2018-03-01T05:00:00.000Z\", \"2018-04-01T04:00:00.000Z\", \"2018-05-01T04:00:00.000Z\", \"2018-06-01T04:00:00.000Z\", \"2018-07-01T04:00:00.000Z\", \"2018-08-01T04:00:00.000Z\", \"2018-09-01T04:00:00.000Z\", \"2018-10-01T04:00:00.000Z\", \"2018-11-01T04:00:00.000Z\", \"2018-12-01T05:00:00.000Z\", \"2019-01-01T05:00:00.000Z\", \"2019-02-01T05:00:00.000Z\", \"2019-03-01T05:00:00.000Z\", \"2019-04-01T04:00:00.000Z\", \"2019-05-01T04:00:00.000Z\", \"2019-06-01T04:00:00.000Z\", \"2019-07-01T04:00:00.000Z\", \"2019-08-01T04:00:00.000Z\", \"2019-09-01T04:00:00.000Z\"], \"y\": [-214152.5, -179847.7, -26454.600000000006, 1478.9000000000015, -183113.3, -33858.5, -230093.2, -36657.40000000001, -1316.2999999999956, -38057.700000000004, -1585.5999999999985, -34937.100000000006, -133121.7, -34221.3, -172420.5, -215933.4, -139881.4, -41808.100000000006, -39465.799999999996, -166759.9, -44572.59999999999, -42669.8, -179081.90000000002, -35977.50000000001, -193376.5, -118070.09999999999, -34107.200000000004, 4177.5, -39956.899999999994, -217884.09999999998, -175592.0, -133785.4, -38427.8, -37762.6, -165308.40000000002, -31609.300000000003, -117435.0, -123717.59999999999, -128221.29999999999, -30939.499999999993, -206427.69999999998, -170056.40000000002, -39559.2, -36016.299999999996, -178612.90000000002]}, {\"line\": {\"color\": \"green\"}, \"name\": \"Green Line\", \"opacity\": 0.8, \"type\": \"scatter\", \"x\": [\"2016-01-01T05:00:00.000Z\", \"2016-02-01T05:00:00.000Z\", \"2016-03-01T05:00:00.000Z\", \"2016-04-01T04:00:00.000Z\", \"2016-05-01T04:00:00.000Z\", \"2016-06-01T04:00:00.000Z\", \"2016-07-01T04:00:00.000Z\", \"2016-08-01T04:00:00.000Z\", \"2016-09-01T04:00:00.000Z\", \"2016-10-01T04:00:00.000Z\", \"2016-11-01T04:00:00.000Z\", \"2016-12-01T05:00:00.000Z\", \"2017-01-01T05:00:00.000Z\", \"2017-02-01T05:00:00.000Z\", \"2017-03-01T05:00:00.000Z\", \"2017-04-01T04:00:00.000Z\", \"2017-05-01T04:00:00.000Z\", \"2017-06-01T04:00:00.000Z\", \"2017-07-01T04:00:00.000Z\", \"2017-08-01T04:00:00.000Z\", \"2017-09-01T04:00:00.000Z\", \"2017-10-01T04:00:00.000Z\", \"2017-11-01T04:00:00.000Z\", \"2017-12-01T05:00:00.000Z\", \"2018-01-01T05:00:00.000Z\", \"2018-02-01T05:00:00.000Z\", \"2018-03-01T05:00:00.000Z\", \"2018-04-01T04:00:00.000Z\", \"2018-05-01T04:00:00.000Z\", \"2018-06-01T04:00:00.000Z\", \"2018-07-01T04:00:00.000Z\", \"2018-08-01T04:00:00.000Z\", \"2018-09-01T04:00:00.000Z\", \"2018-10-01T04:00:00.000Z\", \"2018-11-01T04:00:00.000Z\", \"2018-12-01T05:00:00.000Z\", \"2019-01-01T05:00:00.000Z\", \"2019-02-01T05:00:00.000Z\", \"2019-03-01T05:00:00.000Z\", \"2019-04-01T04:00:00.000Z\", \"2019-05-01T04:00:00.000Z\", \"2019-06-01T04:00:00.000Z\", \"2019-07-01T04:00:00.000Z\", \"2019-08-01T04:00:00.000Z\", \"2019-09-01T04:00:00.000Z\"], \"y\": [117008.20000000001, -68987.20000000001, -31915.100000000006, 160445.0, -76809.6, 112872.1, 110592.9, -29938.5, 119062.90000000001, -29620.29999999999, 111687.2, 134829.1, 101776.7, 143783.59999999998, -72842.80000000002, 117437.50000000001, -86619.9, -34373.09999999998, 137412.4, 130127.6, -32918.40000000002, -40748.399999999994, 102175.80000000002, -72307.1, -40294.20000000001, 98607.4, -37276.0, -76214.9, 133072.8, 91041.40000000001, -28970.100000000006, 123801.1, -25361.800000000017, -27432.20000000001, 133965.4, 119164.8, -69230.80000000002, 100709.1, -73288.80000000002, 100928.79999999999, 90612.40000000001, -72587.0, 81205.2, 109504.5, 82529.09999999999]}],\n",
       "                        {\"template\": {\"data\": {\"bar\": [{\"error_x\": {\"color\": \"#2a3f5f\"}, \"error_y\": {\"color\": \"#2a3f5f\"}, \"marker\": {\"line\": {\"color\": \"#E5ECF6\", \"width\": 0.5}}, \"type\": \"bar\"}], \"barpolar\": [{\"marker\": {\"line\": {\"color\": \"#E5ECF6\", \"width\": 0.5}}, \"type\": \"barpolar\"}], \"carpet\": [{\"aaxis\": {\"endlinecolor\": \"#2a3f5f\", \"gridcolor\": \"white\", \"linecolor\": \"white\", \"minorgridcolor\": \"white\", \"startlinecolor\": \"#2a3f5f\"}, \"baxis\": {\"endlinecolor\": \"#2a3f5f\", \"gridcolor\": \"white\", \"linecolor\": \"white\", \"minorgridcolor\": \"white\", \"startlinecolor\": \"#2a3f5f\"}, \"type\": \"carpet\"}], \"choropleth\": [{\"colorbar\": {\"outlinewidth\": 0, \"ticks\": \"\"}, \"type\": \"choropleth\"}], \"contour\": [{\"colorbar\": {\"outlinewidth\": 0, \"ticks\": \"\"}, \"colorscale\": [[0.0, \"#0d0887\"], [0.1111111111111111, \"#46039f\"], [0.2222222222222222, \"#7201a8\"], [0.3333333333333333, \"#9c179e\"], [0.4444444444444444, \"#bd3786\"], [0.5555555555555556, \"#d8576b\"], [0.6666666666666666, \"#ed7953\"], [0.7777777777777778, \"#fb9f3a\"], [0.8888888888888888, \"#fdca26\"], [1.0, \"#f0f921\"]], \"type\": \"contour\"}], \"contourcarpet\": [{\"colorbar\": {\"outlinewidth\": 0, \"ticks\": \"\"}, \"type\": \"contourcarpet\"}], \"heatmap\": [{\"colorbar\": {\"outlinewidth\": 0, \"ticks\": \"\"}, \"colorscale\": [[0.0, \"#0d0887\"], [0.1111111111111111, \"#46039f\"], [0.2222222222222222, \"#7201a8\"], [0.3333333333333333, \"#9c179e\"], [0.4444444444444444, \"#bd3786\"], [0.5555555555555556, \"#d8576b\"], [0.6666666666666666, \"#ed7953\"], [0.7777777777777778, \"#fb9f3a\"], [0.8888888888888888, \"#fdca26\"], [1.0, \"#f0f921\"]], \"type\": \"heatmap\"}], \"heatmapgl\": [{\"colorbar\": {\"outlinewidth\": 0, \"ticks\": \"\"}, \"colorscale\": [[0.0, \"#0d0887\"], [0.1111111111111111, \"#46039f\"], [0.2222222222222222, \"#7201a8\"], [0.3333333333333333, \"#9c179e\"], [0.4444444444444444, \"#bd3786\"], [0.5555555555555556, \"#d8576b\"], [0.6666666666666666, \"#ed7953\"], [0.7777777777777778, \"#fb9f3a\"], [0.8888888888888888, \"#fdca26\"], [1.0, \"#f0f921\"]], \"type\": \"heatmapgl\"}], \"histogram\": [{\"marker\": {\"colorbar\": {\"outlinewidth\": 0, \"ticks\": \"\"}}, \"type\": \"histogram\"}], \"histogram2d\": [{\"colorbar\": {\"outlinewidth\": 0, \"ticks\": \"\"}, \"colorscale\": [[0.0, \"#0d0887\"], [0.1111111111111111, \"#46039f\"], [0.2222222222222222, \"#7201a8\"], [0.3333333333333333, \"#9c179e\"], [0.4444444444444444, \"#bd3786\"], [0.5555555555555556, \"#d8576b\"], [0.6666666666666666, \"#ed7953\"], [0.7777777777777778, \"#fb9f3a\"], [0.8888888888888888, \"#fdca26\"], [1.0, \"#f0f921\"]], \"type\": \"histogram2d\"}], \"histogram2dcontour\": [{\"colorbar\": {\"outlinewidth\": 0, \"ticks\": \"\"}, \"colorscale\": [[0.0, \"#0d0887\"], [0.1111111111111111, \"#46039f\"], [0.2222222222222222, \"#7201a8\"], [0.3333333333333333, \"#9c179e\"], [0.4444444444444444, \"#bd3786\"], [0.5555555555555556, \"#d8576b\"], [0.6666666666666666, \"#ed7953\"], [0.7777777777777778, \"#fb9f3a\"], [0.8888888888888888, \"#fdca26\"], [1.0, \"#f0f921\"]], \"type\": \"histogram2dcontour\"}], \"mesh3d\": [{\"colorbar\": {\"outlinewidth\": 0, \"ticks\": \"\"}, \"type\": \"mesh3d\"}], \"parcoords\": [{\"line\": {\"colorbar\": {\"outlinewidth\": 0, \"ticks\": \"\"}}, \"type\": \"parcoords\"}], \"pie\": [{\"automargin\": true, \"type\": \"pie\"}], \"scatter\": [{\"marker\": {\"colorbar\": {\"outlinewidth\": 0, \"ticks\": \"\"}}, \"type\": \"scatter\"}], \"scatter3d\": [{\"line\": {\"colorbar\": {\"outlinewidth\": 0, \"ticks\": \"\"}}, \"marker\": {\"colorbar\": {\"outlinewidth\": 0, \"ticks\": \"\"}}, \"type\": \"scatter3d\"}], \"scattercarpet\": [{\"marker\": {\"colorbar\": {\"outlinewidth\": 0, \"ticks\": \"\"}}, \"type\": \"scattercarpet\"}], \"scattergeo\": [{\"marker\": {\"colorbar\": {\"outlinewidth\": 0, \"ticks\": \"\"}}, \"type\": \"scattergeo\"}], \"scattergl\": [{\"marker\": {\"colorbar\": {\"outlinewidth\": 0, \"ticks\": \"\"}}, \"type\": \"scattergl\"}], \"scattermapbox\": [{\"marker\": {\"colorbar\": {\"outlinewidth\": 0, \"ticks\": \"\"}}, \"type\": \"scattermapbox\"}], \"scatterpolar\": [{\"marker\": {\"colorbar\": {\"outlinewidth\": 0, \"ticks\": \"\"}}, \"type\": \"scatterpolar\"}], \"scatterpolargl\": [{\"marker\": {\"colorbar\": {\"outlinewidth\": 0, \"ticks\": \"\"}}, \"type\": \"scatterpolargl\"}], \"scatterternary\": [{\"marker\": {\"colorbar\": {\"outlinewidth\": 0, \"ticks\": \"\"}}, \"type\": \"scatterternary\"}], \"surface\": [{\"colorbar\": {\"outlinewidth\": 0, \"ticks\": \"\"}, \"colorscale\": [[0.0, \"#0d0887\"], [0.1111111111111111, \"#46039f\"], [0.2222222222222222, \"#7201a8\"], [0.3333333333333333, \"#9c179e\"], [0.4444444444444444, \"#bd3786\"], [0.5555555555555556, \"#d8576b\"], [0.6666666666666666, \"#ed7953\"], [0.7777777777777778, \"#fb9f3a\"], [0.8888888888888888, \"#fdca26\"], [1.0, \"#f0f921\"]], \"type\": \"surface\"}], \"table\": [{\"cells\": {\"fill\": {\"color\": \"#EBF0F8\"}, \"line\": {\"color\": \"white\"}}, \"header\": {\"fill\": {\"color\": \"#C8D4E3\"}, \"line\": {\"color\": \"white\"}}, \"type\": \"table\"}]}, \"layout\": {\"annotationdefaults\": {\"arrowcolor\": \"#2a3f5f\", \"arrowhead\": 0, \"arrowwidth\": 1}, \"coloraxis\": {\"colorbar\": {\"outlinewidth\": 0, \"ticks\": \"\"}}, \"colorscale\": {\"diverging\": [[0, \"#8e0152\"], [0.1, \"#c51b7d\"], [0.2, \"#de77ae\"], [0.3, \"#f1b6da\"], [0.4, \"#fde0ef\"], [0.5, \"#f7f7f7\"], [0.6, \"#e6f5d0\"], [0.7, \"#b8e186\"], [0.8, \"#7fbc41\"], [0.9, \"#4d9221\"], [1, \"#276419\"]], \"sequential\": [[0.0, \"#0d0887\"], [0.1111111111111111, \"#46039f\"], [0.2222222222222222, \"#7201a8\"], [0.3333333333333333, \"#9c179e\"], [0.4444444444444444, \"#bd3786\"], [0.5555555555555556, \"#d8576b\"], [0.6666666666666666, \"#ed7953\"], [0.7777777777777778, \"#fb9f3a\"], [0.8888888888888888, \"#fdca26\"], [1.0, \"#f0f921\"]], \"sequentialminus\": [[0.0, \"#0d0887\"], [0.1111111111111111, \"#46039f\"], [0.2222222222222222, \"#7201a8\"], [0.3333333333333333, \"#9c179e\"], [0.4444444444444444, \"#bd3786\"], [0.5555555555555556, \"#d8576b\"], [0.6666666666666666, \"#ed7953\"], [0.7777777777777778, \"#fb9f3a\"], [0.8888888888888888, \"#fdca26\"], [1.0, \"#f0f921\"]]}, \"colorway\": [\"#636efa\", \"#EF553B\", \"#00cc96\", \"#ab63fa\", \"#FFA15A\", \"#19d3f3\", \"#FF6692\", \"#B6E880\", \"#FF97FF\", \"#FECB52\"], \"font\": {\"color\": \"#2a3f5f\"}, \"geo\": {\"bgcolor\": \"white\", \"lakecolor\": \"white\", \"landcolor\": \"#E5ECF6\", \"showlakes\": true, \"showland\": true, \"subunitcolor\": \"white\"}, \"hoverlabel\": {\"align\": \"left\"}, \"hovermode\": \"closest\", \"mapbox\": {\"style\": \"light\"}, \"paper_bgcolor\": \"white\", \"plot_bgcolor\": \"#E5ECF6\", \"polar\": {\"angularaxis\": {\"gridcolor\": \"white\", \"linecolor\": \"white\", \"ticks\": \"\"}, \"bgcolor\": \"#E5ECF6\", \"radialaxis\": {\"gridcolor\": \"white\", \"linecolor\": \"white\", \"ticks\": \"\"}}, \"scene\": {\"xaxis\": {\"backgroundcolor\": \"#E5ECF6\", \"gridcolor\": \"white\", \"gridwidth\": 2, \"linecolor\": \"white\", \"showbackground\": true, \"ticks\": \"\", \"zerolinecolor\": \"white\"}, \"yaxis\": {\"backgroundcolor\": \"#E5ECF6\", \"gridcolor\": \"white\", \"gridwidth\": 2, \"linecolor\": \"white\", \"showbackground\": true, \"ticks\": \"\", \"zerolinecolor\": \"white\"}, \"zaxis\": {\"backgroundcolor\": \"#E5ECF6\", \"gridcolor\": \"white\", \"gridwidth\": 2, \"linecolor\": \"white\", \"showbackground\": true, \"ticks\": \"\", \"zerolinecolor\": \"white\"}}, \"shapedefaults\": {\"line\": {\"color\": \"#2a3f5f\"}}, \"ternary\": {\"aaxis\": {\"gridcolor\": \"white\", \"linecolor\": \"white\", \"ticks\": \"\"}, \"baxis\": {\"gridcolor\": \"white\", \"linecolor\": \"white\", \"ticks\": \"\"}, \"bgcolor\": \"#E5ECF6\", \"caxis\": {\"gridcolor\": \"white\", \"linecolor\": \"white\", \"ticks\": \"\"}}, \"title\": {\"x\": 0.05}, \"xaxis\": {\"automargin\": true, \"gridcolor\": \"white\", \"linecolor\": \"white\", \"ticks\": \"\", \"title\": {\"standoff\": 15}, \"zerolinecolor\": \"white\", \"zerolinewidth\": 2}, \"yaxis\": {\"automargin\": true, \"gridcolor\": \"white\", \"linecolor\": \"white\", \"ticks\": \"\", \"title\": {\"standoff\": 15}, \"zerolinecolor\": \"white\", \"zerolinewidth\": 2}}}, \"title\": {\"text\": \"First Order Differenced MBTA Subway Average Ridership per Line (Jan 2016 - Sep 2019)\"}, \"updatemenus\": [{\"active\": 0, \"buttons\": [{\"args\": [{\"visible\": [true, true, true, true, true]}, {\"title\": \"First Order Differenced MBTA Subway Average Ridership per Line (Jan 2016 - Sep 2019)\"}], \"label\": \"All\", \"method\": \"update\"}, {\"args\": [{\"visible\": [true, false, false, false, false]}, {\"title\": \"Red Line\"}], \"label\": \"Red\", \"method\": \"update\"}, {\"args\": [{\"visible\": [false, true, false, false, false]}, {\"title\": \"Blue Line\"}], \"label\": \"Blue\", \"method\": \"update\"}, {\"args\": [{\"visible\": [false, false, true, false, false]}, {\"title\": \"Orange Line\"}], \"label\": \"Orange\", \"method\": \"update\"}, {\"args\": [{\"visible\": [false, false, false, true, false]}, {\"title\": \"Silver Line\"}], \"label\": \"Silver\", \"method\": \"update\"}, {\"args\": [{\"visible\": [false, false, false, false, true]}, {\"title\": \"Green Line\"}], \"label\": \"Green\", \"method\": \"update\"}], \"direction\": \"right\", \"type\": \"buttons\", \"x\": 0.7, \"y\": -0.2}], \"xaxis\": {\"range\": [\"2016-01-01\", \"2019-09-01\"]}},\n",
       "                        {\"responsive\": true}\n",
       "                    ).then(function(){\n",
       "                            \n",
       "var gd = document.getElementById('128ec65a-aebb-494f-b685-f126fc67747a');\n",
       "var x = new MutationObserver(function (mutations, observer) {{\n",
       "        var display = window.getComputedStyle(gd).display;\n",
       "        if (!display || display === 'none') {{\n",
       "            console.log([gd, 'removed!']);\n",
       "            Plotly.purge(gd);\n",
       "            observer.disconnect();\n",
       "        }}\n",
       "}});\n",
       "\n",
       "// Listen for the removal of the full notebook cells\n",
       "var notebookContainer = gd.closest('#notebook-container');\n",
       "if (notebookContainer) {{\n",
       "    x.observe(notebookContainer, {childList: true});\n",
       "}}\n",
       "\n",
       "// Listen for the clearing of the current output cell\n",
       "var outputEl = gd.closest('.output');\n",
       "if (outputEl) {{\n",
       "    x.observe(outputEl, {childList: true});\n",
       "}}\n",
       "\n",
       "                        })\n",
       "                };\n",
       "                });\n",
       "            </script>\n",
       "        </div>"
      ]
     },
     "metadata": {},
     "output_type": "display_data"
    }
   ],
   "source": [
    "time_plot('first_diff_avg_ridership', 'First Order Differenced MBTA Subway Average Ridership per Line (Jan 2016 - Sep 2019)')"
   ]
  },
  {
   "cell_type": "code",
   "execution_count": 111,
   "metadata": {},
   "outputs": [
    {
     "data": {
      "application/vnd.plotly.v1+json": {
       "config": {
        "plotlyServerURL": "https://plot.ly"
       },
       "data": [
        {
         "line": {
          "color": "red"
         },
         "name": "Red Line",
         "opacity": 0.8,
         "type": "scatter",
         "x": [
          "2016-01-01T05:00:00.000Z",
          "2016-02-01T05:00:00.000Z",
          "2016-03-01T05:00:00.000Z",
          "2016-04-01T04:00:00.000Z",
          "2016-05-01T04:00:00.000Z",
          "2016-06-01T04:00:00.000Z",
          "2016-07-01T04:00:00.000Z",
          "2016-08-01T04:00:00.000Z",
          "2016-09-01T04:00:00.000Z",
          "2016-10-01T04:00:00.000Z",
          "2016-11-01T04:00:00.000Z",
          "2016-12-01T05:00:00.000Z",
          "2017-01-01T05:00:00.000Z",
          "2017-02-01T05:00:00.000Z",
          "2017-03-01T05:00:00.000Z",
          "2017-04-01T04:00:00.000Z",
          "2017-05-01T04:00:00.000Z",
          "2017-06-01T04:00:00.000Z",
          "2017-07-01T04:00:00.000Z",
          "2017-08-01T04:00:00.000Z",
          "2017-09-01T04:00:00.000Z",
          "2017-10-01T04:00:00.000Z",
          "2017-11-01T04:00:00.000Z",
          "2017-12-01T05:00:00.000Z",
          "2018-01-01T05:00:00.000Z",
          "2018-02-01T05:00:00.000Z",
          "2018-03-01T05:00:00.000Z",
          "2018-04-01T04:00:00.000Z",
          "2018-05-01T04:00:00.000Z",
          "2018-06-01T04:00:00.000Z",
          "2018-07-01T04:00:00.000Z",
          "2018-08-01T04:00:00.000Z",
          "2018-09-01T04:00:00.000Z",
          "2018-10-01T04:00:00.000Z",
          "2018-11-01T04:00:00.000Z",
          "2018-12-01T05:00:00.000Z",
          "2019-01-01T05:00:00.000Z",
          "2019-02-01T05:00:00.000Z",
          "2019-03-01T05:00:00.000Z",
          "2019-04-01T04:00:00.000Z",
          "2019-05-01T04:00:00.000Z",
          "2019-06-01T04:00:00.000Z",
          "2019-07-01T04:00:00.000Z",
          "2019-08-01T04:00:00.000Z",
          "2019-09-01T04:00:00.000Z"
         ],
         "y": [
          null,
          -120331.4,
          144288.4,
          20738.20000000004,
          385525.10000000003,
          13823.400000000023,
          26274.399999999994,
          -64295.20000000004,
          17828.49999999997,
          -49793.699999999924,
          11873.49999999997,
          -65893.79999999999,
          -116.80000000001746,
          13566.700000000012,
          149420.5,
          22821.800000000047,
          -92679.09999999998,
          366979.69999999995,
          20568.20000000001,
          -42974.50000000003,
          281870.1,
          -239666.59999999998,
          265384.7,
          -122962.79999999999,
          128221.99999999997,
          -3541.9000000000233,
          -50525.5,
          -98189,
          156332.6,
          -48035.5,
          129744.59999999998,
          284806.5,
          257124.8,
          96836.50000000003,
          -64313.899999999994,
          110481.2,
          -92049.89999999998,
          11326.799999999988,
          81182.1,
          7135.6999999999825,
          -3506.000000000029,
          -47722.899999999965,
          -11217.900000000023,
          -36796.29999999996,
          4306.700000000026
         ]
        },
        {
         "line": {
          "color": "navy"
         },
         "name": "Blue Line",
         "opacity": 0.8,
         "type": "scatter",
         "x": [
          "2016-01-01T05:00:00.000Z",
          "2016-02-01T05:00:00.000Z",
          "2016-03-01T05:00:00.000Z",
          "2016-04-01T04:00:00.000Z",
          "2016-05-01T04:00:00.000Z",
          "2016-06-01T04:00:00.000Z",
          "2016-07-01T04:00:00.000Z",
          "2016-08-01T04:00:00.000Z",
          "2016-09-01T04:00:00.000Z",
          "2016-10-01T04:00:00.000Z",
          "2016-11-01T04:00:00.000Z",
          "2016-12-01T05:00:00.000Z",
          "2017-01-01T05:00:00.000Z",
          "2017-02-01T05:00:00.000Z",
          "2017-03-01T05:00:00.000Z",
          "2017-04-01T04:00:00.000Z",
          "2017-05-01T04:00:00.000Z",
          "2017-06-01T04:00:00.000Z",
          "2017-07-01T04:00:00.000Z",
          "2017-08-01T04:00:00.000Z",
          "2017-09-01T04:00:00.000Z",
          "2017-10-01T04:00:00.000Z",
          "2017-11-01T04:00:00.000Z",
          "2017-12-01T05:00:00.000Z",
          "2018-01-01T05:00:00.000Z",
          "2018-02-01T05:00:00.000Z",
          "2018-03-01T05:00:00.000Z",
          "2018-04-01T04:00:00.000Z",
          "2018-05-01T04:00:00.000Z",
          "2018-06-01T04:00:00.000Z",
          "2018-07-01T04:00:00.000Z",
          "2018-08-01T04:00:00.000Z",
          "2018-09-01T04:00:00.000Z",
          "2018-10-01T04:00:00.000Z",
          "2018-11-01T04:00:00.000Z",
          "2018-12-01T05:00:00.000Z",
          "2019-01-01T05:00:00.000Z",
          "2019-02-01T05:00:00.000Z",
          "2019-03-01T05:00:00.000Z",
          "2019-04-01T04:00:00.000Z",
          "2019-05-01T04:00:00.000Z",
          "2019-06-01T04:00:00.000Z",
          "2019-07-01T04:00:00.000Z",
          "2019-08-01T04:00:00.000Z",
          "2019-09-01T04:00:00.000Z"
         ],
         "y": [
          239051.9,
          204366.40000000002,
          -93200.09999999999,
          -235901.50000000006,
          218104,
          70922.7,
          268328,
          -71688.9,
          41892.09999999999,
          -88426.70000000001,
          38188.1,
          -92647.69999999998,
          166351.5,
          -219898.59999999998,
          205977.8,
          254719.19999999998,
          -239138.20000000004,
          -68909.50000000003,
          -236168.40000000002,
          -264039.19999999995,
          -78775.99999999997,
          -63334.40000000001,
          -406912.9,
          -16220.199999999983,
          68369.1,
          156104.4,
          -51867.499999999985,
          34064.1,
          -95211.5,
          258703.99999999997,
          213620,
          -153859.30000000002,
          -323080.3,
          -85663.09999999999,
          197813.2,
          -84934.30000000002,
          148967.2,
          157193.69999999998,
          159111.69999999998,
          66232.7,
          241923.3,
          208843.60000000003,
          77098.3,
          -90090.1,
          218091.40000000002
         ]
        },
        {
         "line": {
          "color": "orange"
         },
         "name": "Orange Line",
         "opacity": 0.8,
         "type": "scatter",
         "x": [
          "2016-01-01T05:00:00.000Z",
          "2016-02-01T05:00:00.000Z",
          "2016-03-01T05:00:00.000Z",
          "2016-04-01T04:00:00.000Z",
          "2016-05-01T04:00:00.000Z",
          "2016-06-01T04:00:00.000Z",
          "2016-07-01T04:00:00.000Z",
          "2016-08-01T04:00:00.000Z",
          "2016-09-01T04:00:00.000Z",
          "2016-10-01T04:00:00.000Z",
          "2016-11-01T04:00:00.000Z",
          "2016-12-01T05:00:00.000Z",
          "2017-01-01T05:00:00.000Z",
          "2017-02-01T05:00:00.000Z",
          "2017-03-01T05:00:00.000Z",
          "2017-04-01T04:00:00.000Z",
          "2017-05-01T04:00:00.000Z",
          "2017-06-01T04:00:00.000Z",
          "2017-07-01T04:00:00.000Z",
          "2017-08-01T04:00:00.000Z",
          "2017-09-01T04:00:00.000Z",
          "2017-10-01T04:00:00.000Z",
          "2017-11-01T04:00:00.000Z",
          "2017-12-01T05:00:00.000Z",
          "2018-01-01T05:00:00.000Z",
          "2018-02-01T05:00:00.000Z",
          "2018-03-01T05:00:00.000Z",
          "2018-04-01T04:00:00.000Z",
          "2018-05-01T04:00:00.000Z",
          "2018-06-01T04:00:00.000Z",
          "2018-07-01T04:00:00.000Z",
          "2018-08-01T04:00:00.000Z",
          "2018-09-01T04:00:00.000Z",
          "2018-10-01T04:00:00.000Z",
          "2018-11-01T04:00:00.000Z",
          "2018-12-01T05:00:00.000Z",
          "2019-01-01T05:00:00.000Z",
          "2019-02-01T05:00:00.000Z",
          "2019-03-01T05:00:00.000Z",
          "2019-04-01T04:00:00.000Z",
          "2019-05-01T04:00:00.000Z",
          "2019-06-01T04:00:00.000Z",
          "2019-07-01T04:00:00.000Z",
          "2019-08-01T04:00:00.000Z",
          "2019-09-01T04:00:00.000Z"
         ],
         "y": [
          -77805.40000000002,
          133431.8,
          -115529.19999999995,
          -138680.2,
          109908,
          -80297.6,
          -85011.59999999998,
          -34610.399999999965,
          -89259.40000000001,
          -45748.300000000076,
          -79968.99999999999,
          -15779.399999999994,
          -62552.59999999999,
          -114736.49999999997,
          104393.60000000003,
          -92172.80000000003,
          332008.8,
          -275258.8,
          -104584.9,
          204300.19999999998,
          324575.1,
          -44261.600000000035,
          -64940.30000000002,
          337861.9,
          353001.80000000005,
          -59492.69999999998,
          -21098.79999999999,
          100560.19999999998,
          -122479.90000000002,
          -47101.8,
          -211031.89999999997,
          -91465,
          -261623.4,
          -113853,
          -108193.79999999999,
          -174988.4,
          95091.5,
          -70428,
          -82989.4,
          -68772.69999999998,
          -48000.8,
          115649.1,
          -39604.59999999999,
          -22721.50000000003,
          -40897.899999999994
         ]
        },
        {
         "line": {
          "color": "gray"
         },
         "name": "Silver Line",
         "opacity": 0.8,
         "type": "scatter",
         "x": [
          "2016-01-01T05:00:00.000Z",
          "2016-02-01T05:00:00.000Z",
          "2016-03-01T05:00:00.000Z",
          "2016-04-01T04:00:00.000Z",
          "2016-05-01T04:00:00.000Z",
          "2016-06-01T04:00:00.000Z",
          "2016-07-01T04:00:00.000Z",
          "2016-08-01T04:00:00.000Z",
          "2016-09-01T04:00:00.000Z",
          "2016-10-01T04:00:00.000Z",
          "2016-11-01T04:00:00.000Z",
          "2016-12-01T05:00:00.000Z",
          "2017-01-01T05:00:00.000Z",
          "2017-02-01T05:00:00.000Z",
          "2017-03-01T05:00:00.000Z",
          "2017-04-01T04:00:00.000Z",
          "2017-05-01T04:00:00.000Z",
          "2017-06-01T04:00:00.000Z",
          "2017-07-01T04:00:00.000Z",
          "2017-08-01T04:00:00.000Z",
          "2017-09-01T04:00:00.000Z",
          "2017-10-01T04:00:00.000Z",
          "2017-11-01T04:00:00.000Z",
          "2017-12-01T05:00:00.000Z",
          "2018-01-01T05:00:00.000Z",
          "2018-02-01T05:00:00.000Z",
          "2018-03-01T05:00:00.000Z",
          "2018-04-01T04:00:00.000Z",
          "2018-05-01T04:00:00.000Z",
          "2018-06-01T04:00:00.000Z",
          "2018-07-01T04:00:00.000Z",
          "2018-08-01T04:00:00.000Z",
          "2018-09-01T04:00:00.000Z",
          "2018-10-01T04:00:00.000Z",
          "2018-11-01T04:00:00.000Z",
          "2018-12-01T05:00:00.000Z",
          "2019-01-01T05:00:00.000Z",
          "2019-02-01T05:00:00.000Z",
          "2019-03-01T05:00:00.000Z",
          "2019-04-01T04:00:00.000Z",
          "2019-05-01T04:00:00.000Z",
          "2019-06-01T04:00:00.000Z",
          "2019-07-01T04:00:00.000Z",
          "2019-08-01T04:00:00.000Z",
          "2019-09-01T04:00:00.000Z"
         ],
         "y": [
          null,
          -219050.5,
          98660.59999999999,
          27933.500000000007,
          -216211.69999999998,
          -68849.2,
          -276491.10000000003,
          64969.999999999985,
          35341.10000000001,
          79989.29999999999,
          36472.100000000006,
          95792.09999999998,
          -267950.80000000005,
          146570,
          -203971.30000000002,
          -398911.19999999995,
          -53261.5,
          61474.5,
          143306.90000000002,
          -331594.3,
          67121.8,
          61413,
          -216317.40000000002,
          52549.79999999998,
          -353990.1,
          -77775.89999999998,
          55036.29999999998,
          38284.700000000004,
          97616.80000000002,
          -302921.39999999997,
          -219531.6,
          -104815.29999999999,
          121369.2,
          75332.70000000001,
          -126766.10000000003,
          85327.40000000001,
          -236599.8,
          -54486.799999999974,
          -54932.49999999997,
          -61829.89999999999,
          -245719.49999999997,
          -213118.50000000003,
          -78346.4,
          83208.90000000002,
          -247219.50000000003
         ]
        },
        {
         "line": {
          "color": "green"
         },
         "name": "Green Line",
         "opacity": 0.8,
         "type": "scatter",
         "x": [
          "2016-01-01T05:00:00.000Z",
          "2016-02-01T05:00:00.000Z",
          "2016-03-01T05:00:00.000Z",
          "2016-04-01T04:00:00.000Z",
          "2016-05-01T04:00:00.000Z",
          "2016-06-01T04:00:00.000Z",
          "2016-07-01T04:00:00.000Z",
          "2016-08-01T04:00:00.000Z",
          "2016-09-01T04:00:00.000Z",
          "2016-10-01T04:00:00.000Z",
          "2016-11-01T04:00:00.000Z",
          "2016-12-01T05:00:00.000Z",
          "2017-01-01T05:00:00.000Z",
          "2017-02-01T05:00:00.000Z",
          "2017-03-01T05:00:00.000Z",
          "2017-04-01T04:00:00.000Z",
          "2017-05-01T04:00:00.000Z",
          "2017-06-01T04:00:00.000Z",
          "2017-07-01T04:00:00.000Z",
          "2017-08-01T04:00:00.000Z",
          "2017-09-01T04:00:00.000Z",
          "2017-10-01T04:00:00.000Z",
          "2017-11-01T04:00:00.000Z",
          "2017-12-01T05:00:00.000Z",
          "2018-01-01T05:00:00.000Z",
          "2018-02-01T05:00:00.000Z",
          "2018-03-01T05:00:00.000Z",
          "2018-04-01T04:00:00.000Z",
          "2018-05-01T04:00:00.000Z",
          "2018-06-01T04:00:00.000Z",
          "2018-07-01T04:00:00.000Z",
          "2018-08-01T04:00:00.000Z",
          "2018-09-01T04:00:00.000Z",
          "2018-10-01T04:00:00.000Z",
          "2018-11-01T04:00:00.000Z",
          "2018-12-01T05:00:00.000Z",
          "2019-01-01T05:00:00.000Z",
          "2019-02-01T05:00:00.000Z",
          "2019-03-01T05:00:00.000Z",
          "2019-04-01T04:00:00.000Z",
          "2019-05-01T04:00:00.000Z",
          "2019-06-01T04:00:00.000Z",
          "2019-07-01T04:00:00.000Z",
          "2019-08-01T04:00:00.000Z",
          "2019-09-01T04:00:00.000Z"
         ],
         "y": [
          92108.80000000002,
          -106606.30000000002,
          8312.899999999965,
          158966.1,
          -268936.2,
          75807.90000000001,
          72358.09999999999,
          17111.399999999994,
          78487.1,
          18289.70000000004,
          75084.7,
          169766.2,
          68546.9,
          178004.89999999997,
          -115456.60000000003,
          78651.70000000001,
          -134897.9,
          13787.400000000023,
          179220.5,
          296887.5,
          -180607.40000000002,
          5882.3000000000175,
          286373.80000000005,
          -108124.30000000002,
          -199919.50000000003,
          60573.09999999999,
          -1224.5,
          -116827.69999999998,
          173029.69999999998,
          50221.500000000015,
          14289.199999999983,
          257586.5,
          17564.599999999977,
          14946.099999999977,
          171728,
          150774.1,
          -103804.60000000003,
          67233.00000000001,
          -113089.40000000002,
          65635.59999999998,
          55116.80000000001,
          -63969.70000000001,
          43666.09999999999,
          145520.8,
          43050.59999999999
         ]
        }
       ],
       "layout": {
        "template": {
         "data": {
          "bar": [
           {
            "error_x": {
             "color": "#2a3f5f"
            },
            "error_y": {
             "color": "#2a3f5f"
            },
            "marker": {
             "line": {
              "color": "#E5ECF6",
              "width": 0.5
             }
            },
            "type": "bar"
           }
          ],
          "barpolar": [
           {
            "marker": {
             "line": {
              "color": "#E5ECF6",
              "width": 0.5
             }
            },
            "type": "barpolar"
           }
          ],
          "carpet": [
           {
            "aaxis": {
             "endlinecolor": "#2a3f5f",
             "gridcolor": "white",
             "linecolor": "white",
             "minorgridcolor": "white",
             "startlinecolor": "#2a3f5f"
            },
            "baxis": {
             "endlinecolor": "#2a3f5f",
             "gridcolor": "white",
             "linecolor": "white",
             "minorgridcolor": "white",
             "startlinecolor": "#2a3f5f"
            },
            "type": "carpet"
           }
          ],
          "choropleth": [
           {
            "colorbar": {
             "outlinewidth": 0,
             "ticks": ""
            },
            "type": "choropleth"
           }
          ],
          "contour": [
           {
            "colorbar": {
             "outlinewidth": 0,
             "ticks": ""
            },
            "colorscale": [
             [
              0,
              "#0d0887"
             ],
             [
              0.1111111111111111,
              "#46039f"
             ],
             [
              0.2222222222222222,
              "#7201a8"
             ],
             [
              0.3333333333333333,
              "#9c179e"
             ],
             [
              0.4444444444444444,
              "#bd3786"
             ],
             [
              0.5555555555555556,
              "#d8576b"
             ],
             [
              0.6666666666666666,
              "#ed7953"
             ],
             [
              0.7777777777777778,
              "#fb9f3a"
             ],
             [
              0.8888888888888888,
              "#fdca26"
             ],
             [
              1,
              "#f0f921"
             ]
            ],
            "type": "contour"
           }
          ],
          "contourcarpet": [
           {
            "colorbar": {
             "outlinewidth": 0,
             "ticks": ""
            },
            "type": "contourcarpet"
           }
          ],
          "heatmap": [
           {
            "colorbar": {
             "outlinewidth": 0,
             "ticks": ""
            },
            "colorscale": [
             [
              0,
              "#0d0887"
             ],
             [
              0.1111111111111111,
              "#46039f"
             ],
             [
              0.2222222222222222,
              "#7201a8"
             ],
             [
              0.3333333333333333,
              "#9c179e"
             ],
             [
              0.4444444444444444,
              "#bd3786"
             ],
             [
              0.5555555555555556,
              "#d8576b"
             ],
             [
              0.6666666666666666,
              "#ed7953"
             ],
             [
              0.7777777777777778,
              "#fb9f3a"
             ],
             [
              0.8888888888888888,
              "#fdca26"
             ],
             [
              1,
              "#f0f921"
             ]
            ],
            "type": "heatmap"
           }
          ],
          "heatmapgl": [
           {
            "colorbar": {
             "outlinewidth": 0,
             "ticks": ""
            },
            "colorscale": [
             [
              0,
              "#0d0887"
             ],
             [
              0.1111111111111111,
              "#46039f"
             ],
             [
              0.2222222222222222,
              "#7201a8"
             ],
             [
              0.3333333333333333,
              "#9c179e"
             ],
             [
              0.4444444444444444,
              "#bd3786"
             ],
             [
              0.5555555555555556,
              "#d8576b"
             ],
             [
              0.6666666666666666,
              "#ed7953"
             ],
             [
              0.7777777777777778,
              "#fb9f3a"
             ],
             [
              0.8888888888888888,
              "#fdca26"
             ],
             [
              1,
              "#f0f921"
             ]
            ],
            "type": "heatmapgl"
           }
          ],
          "histogram": [
           {
            "marker": {
             "colorbar": {
              "outlinewidth": 0,
              "ticks": ""
             }
            },
            "type": "histogram"
           }
          ],
          "histogram2d": [
           {
            "colorbar": {
             "outlinewidth": 0,
             "ticks": ""
            },
            "colorscale": [
             [
              0,
              "#0d0887"
             ],
             [
              0.1111111111111111,
              "#46039f"
             ],
             [
              0.2222222222222222,
              "#7201a8"
             ],
             [
              0.3333333333333333,
              "#9c179e"
             ],
             [
              0.4444444444444444,
              "#bd3786"
             ],
             [
              0.5555555555555556,
              "#d8576b"
             ],
             [
              0.6666666666666666,
              "#ed7953"
             ],
             [
              0.7777777777777778,
              "#fb9f3a"
             ],
             [
              0.8888888888888888,
              "#fdca26"
             ],
             [
              1,
              "#f0f921"
             ]
            ],
            "type": "histogram2d"
           }
          ],
          "histogram2dcontour": [
           {
            "colorbar": {
             "outlinewidth": 0,
             "ticks": ""
            },
            "colorscale": [
             [
              0,
              "#0d0887"
             ],
             [
              0.1111111111111111,
              "#46039f"
             ],
             [
              0.2222222222222222,
              "#7201a8"
             ],
             [
              0.3333333333333333,
              "#9c179e"
             ],
             [
              0.4444444444444444,
              "#bd3786"
             ],
             [
              0.5555555555555556,
              "#d8576b"
             ],
             [
              0.6666666666666666,
              "#ed7953"
             ],
             [
              0.7777777777777778,
              "#fb9f3a"
             ],
             [
              0.8888888888888888,
              "#fdca26"
             ],
             [
              1,
              "#f0f921"
             ]
            ],
            "type": "histogram2dcontour"
           }
          ],
          "mesh3d": [
           {
            "colorbar": {
             "outlinewidth": 0,
             "ticks": ""
            },
            "type": "mesh3d"
           }
          ],
          "parcoords": [
           {
            "line": {
             "colorbar": {
              "outlinewidth": 0,
              "ticks": ""
             }
            },
            "type": "parcoords"
           }
          ],
          "pie": [
           {
            "automargin": true,
            "type": "pie"
           }
          ],
          "scatter": [
           {
            "marker": {
             "colorbar": {
              "outlinewidth": 0,
              "ticks": ""
             }
            },
            "type": "scatter"
           }
          ],
          "scatter3d": [
           {
            "line": {
             "colorbar": {
              "outlinewidth": 0,
              "ticks": ""
             }
            },
            "marker": {
             "colorbar": {
              "outlinewidth": 0,
              "ticks": ""
             }
            },
            "type": "scatter3d"
           }
          ],
          "scattercarpet": [
           {
            "marker": {
             "colorbar": {
              "outlinewidth": 0,
              "ticks": ""
             }
            },
            "type": "scattercarpet"
           }
          ],
          "scattergeo": [
           {
            "marker": {
             "colorbar": {
              "outlinewidth": 0,
              "ticks": ""
             }
            },
            "type": "scattergeo"
           }
          ],
          "scattergl": [
           {
            "marker": {
             "colorbar": {
              "outlinewidth": 0,
              "ticks": ""
             }
            },
            "type": "scattergl"
           }
          ],
          "scattermapbox": [
           {
            "marker": {
             "colorbar": {
              "outlinewidth": 0,
              "ticks": ""
             }
            },
            "type": "scattermapbox"
           }
          ],
          "scatterpolar": [
           {
            "marker": {
             "colorbar": {
              "outlinewidth": 0,
              "ticks": ""
             }
            },
            "type": "scatterpolar"
           }
          ],
          "scatterpolargl": [
           {
            "marker": {
             "colorbar": {
              "outlinewidth": 0,
              "ticks": ""
             }
            },
            "type": "scatterpolargl"
           }
          ],
          "scatterternary": [
           {
            "marker": {
             "colorbar": {
              "outlinewidth": 0,
              "ticks": ""
             }
            },
            "type": "scatterternary"
           }
          ],
          "surface": [
           {
            "colorbar": {
             "outlinewidth": 0,
             "ticks": ""
            },
            "colorscale": [
             [
              0,
              "#0d0887"
             ],
             [
              0.1111111111111111,
              "#46039f"
             ],
             [
              0.2222222222222222,
              "#7201a8"
             ],
             [
              0.3333333333333333,
              "#9c179e"
             ],
             [
              0.4444444444444444,
              "#bd3786"
             ],
             [
              0.5555555555555556,
              "#d8576b"
             ],
             [
              0.6666666666666666,
              "#ed7953"
             ],
             [
              0.7777777777777778,
              "#fb9f3a"
             ],
             [
              0.8888888888888888,
              "#fdca26"
             ],
             [
              1,
              "#f0f921"
             ]
            ],
            "type": "surface"
           }
          ],
          "table": [
           {
            "cells": {
             "fill": {
              "color": "#EBF0F8"
             },
             "line": {
              "color": "white"
             }
            },
            "header": {
             "fill": {
              "color": "#C8D4E3"
             },
             "line": {
              "color": "white"
             }
            },
            "type": "table"
           }
          ]
         },
         "layout": {
          "annotationdefaults": {
           "arrowcolor": "#2a3f5f",
           "arrowhead": 0,
           "arrowwidth": 1
          },
          "coloraxis": {
           "colorbar": {
            "outlinewidth": 0,
            "ticks": ""
           }
          },
          "colorscale": {
           "diverging": [
            [
             0,
             "#8e0152"
            ],
            [
             0.1,
             "#c51b7d"
            ],
            [
             0.2,
             "#de77ae"
            ],
            [
             0.3,
             "#f1b6da"
            ],
            [
             0.4,
             "#fde0ef"
            ],
            [
             0.5,
             "#f7f7f7"
            ],
            [
             0.6,
             "#e6f5d0"
            ],
            [
             0.7,
             "#b8e186"
            ],
            [
             0.8,
             "#7fbc41"
            ],
            [
             0.9,
             "#4d9221"
            ],
            [
             1,
             "#276419"
            ]
           ],
           "sequential": [
            [
             0,
             "#0d0887"
            ],
            [
             0.1111111111111111,
             "#46039f"
            ],
            [
             0.2222222222222222,
             "#7201a8"
            ],
            [
             0.3333333333333333,
             "#9c179e"
            ],
            [
             0.4444444444444444,
             "#bd3786"
            ],
            [
             0.5555555555555556,
             "#d8576b"
            ],
            [
             0.6666666666666666,
             "#ed7953"
            ],
            [
             0.7777777777777778,
             "#fb9f3a"
            ],
            [
             0.8888888888888888,
             "#fdca26"
            ],
            [
             1,
             "#f0f921"
            ]
           ],
           "sequentialminus": [
            [
             0,
             "#0d0887"
            ],
            [
             0.1111111111111111,
             "#46039f"
            ],
            [
             0.2222222222222222,
             "#7201a8"
            ],
            [
             0.3333333333333333,
             "#9c179e"
            ],
            [
             0.4444444444444444,
             "#bd3786"
            ],
            [
             0.5555555555555556,
             "#d8576b"
            ],
            [
             0.6666666666666666,
             "#ed7953"
            ],
            [
             0.7777777777777778,
             "#fb9f3a"
            ],
            [
             0.8888888888888888,
             "#fdca26"
            ],
            [
             1,
             "#f0f921"
            ]
           ]
          },
          "colorway": [
           "#636efa",
           "#EF553B",
           "#00cc96",
           "#ab63fa",
           "#FFA15A",
           "#19d3f3",
           "#FF6692",
           "#B6E880",
           "#FF97FF",
           "#FECB52"
          ],
          "font": {
           "color": "#2a3f5f"
          },
          "geo": {
           "bgcolor": "white",
           "lakecolor": "white",
           "landcolor": "#E5ECF6",
           "showlakes": true,
           "showland": true,
           "subunitcolor": "white"
          },
          "hoverlabel": {
           "align": "left"
          },
          "hovermode": "closest",
          "mapbox": {
           "style": "light"
          },
          "paper_bgcolor": "white",
          "plot_bgcolor": "#E5ECF6",
          "polar": {
           "angularaxis": {
            "gridcolor": "white",
            "linecolor": "white",
            "ticks": ""
           },
           "bgcolor": "#E5ECF6",
           "radialaxis": {
            "gridcolor": "white",
            "linecolor": "white",
            "ticks": ""
           }
          },
          "scene": {
           "xaxis": {
            "backgroundcolor": "#E5ECF6",
            "gridcolor": "white",
            "gridwidth": 2,
            "linecolor": "white",
            "showbackground": true,
            "ticks": "",
            "zerolinecolor": "white"
           },
           "yaxis": {
            "backgroundcolor": "#E5ECF6",
            "gridcolor": "white",
            "gridwidth": 2,
            "linecolor": "white",
            "showbackground": true,
            "ticks": "",
            "zerolinecolor": "white"
           },
           "zaxis": {
            "backgroundcolor": "#E5ECF6",
            "gridcolor": "white",
            "gridwidth": 2,
            "linecolor": "white",
            "showbackground": true,
            "ticks": "",
            "zerolinecolor": "white"
           }
          },
          "shapedefaults": {
           "line": {
            "color": "#2a3f5f"
           }
          },
          "ternary": {
           "aaxis": {
            "gridcolor": "white",
            "linecolor": "white",
            "ticks": ""
           },
           "baxis": {
            "gridcolor": "white",
            "linecolor": "white",
            "ticks": ""
           },
           "bgcolor": "#E5ECF6",
           "caxis": {
            "gridcolor": "white",
            "linecolor": "white",
            "ticks": ""
           }
          },
          "title": {
           "x": 0.05
          },
          "xaxis": {
           "automargin": true,
           "gridcolor": "white",
           "linecolor": "white",
           "ticks": "",
           "title": {
            "standoff": 15
           },
           "zerolinecolor": "white",
           "zerolinewidth": 2
          },
          "yaxis": {
           "automargin": true,
           "gridcolor": "white",
           "linecolor": "white",
           "ticks": "",
           "title": {
            "standoff": 15
           },
           "zerolinecolor": "white",
           "zerolinewidth": 2
          }
         }
        },
        "title": {
         "text": "Second Order Differenced MBTA Subway Average Ridership per Line (Jan 2016 - Sep 2019)"
        },
        "updatemenus": [
         {
          "active": 0,
          "buttons": [
           {
            "args": [
             {
              "visible": [
               true,
               true,
               true,
               true,
               true
              ]
             },
             {
              "title": "Second Order Differenced MBTA Subway Average Ridership per Line (Jan 2016 - Sep 2019)"
             }
            ],
            "label": "All",
            "method": "update"
           },
           {
            "args": [
             {
              "visible": [
               true,
               false,
               false,
               false,
               false
              ]
             },
             {
              "title": "Red Line"
             }
            ],
            "label": "Red",
            "method": "update"
           },
           {
            "args": [
             {
              "visible": [
               false,
               true,
               false,
               false,
               false
              ]
             },
             {
              "title": "Blue Line"
             }
            ],
            "label": "Blue",
            "method": "update"
           },
           {
            "args": [
             {
              "visible": [
               false,
               false,
               true,
               false,
               false
              ]
             },
             {
              "title": "Orange Line"
             }
            ],
            "label": "Orange",
            "method": "update"
           },
           {
            "args": [
             {
              "visible": [
               false,
               false,
               false,
               true,
               false
              ]
             },
             {
              "title": "Silver Line"
             }
            ],
            "label": "Silver",
            "method": "update"
           },
           {
            "args": [
             {
              "visible": [
               false,
               false,
               false,
               false,
               true
              ]
             },
             {
              "title": "Green Line"
             }
            ],
            "label": "Green",
            "method": "update"
           }
          ],
          "direction": "right",
          "type": "buttons",
          "x": 0.7,
          "y": -0.2
         }
        ],
        "xaxis": {
         "range": [
          "2016-01-01",
          "2019-09-01"
         ]
        }
       }
      },
      "text/html": [
       "<div>\n",
       "        \n",
       "        \n",
       "            <div id=\"0b8c4248-0455-47d6-b75a-9fc9c222576b\" class=\"plotly-graph-div\" style=\"height:525px; width:100%;\"></div>\n",
       "            <script type=\"text/javascript\">\n",
       "                require([\"plotly\"], function(Plotly) {\n",
       "                    window.PLOTLYENV=window.PLOTLYENV || {};\n",
       "                    \n",
       "                if (document.getElementById(\"0b8c4248-0455-47d6-b75a-9fc9c222576b\")) {\n",
       "                    Plotly.newPlot(\n",
       "                        '0b8c4248-0455-47d6-b75a-9fc9c222576b',\n",
       "                        [{\"line\": {\"color\": \"red\"}, \"name\": \"Red Line\", \"opacity\": 0.8, \"type\": \"scatter\", \"x\": [\"2016-01-01T05:00:00.000Z\", \"2016-02-01T05:00:00.000Z\", \"2016-03-01T05:00:00.000Z\", \"2016-04-01T04:00:00.000Z\", \"2016-05-01T04:00:00.000Z\", \"2016-06-01T04:00:00.000Z\", \"2016-07-01T04:00:00.000Z\", \"2016-08-01T04:00:00.000Z\", \"2016-09-01T04:00:00.000Z\", \"2016-10-01T04:00:00.000Z\", \"2016-11-01T04:00:00.000Z\", \"2016-12-01T05:00:00.000Z\", \"2017-01-01T05:00:00.000Z\", \"2017-02-01T05:00:00.000Z\", \"2017-03-01T05:00:00.000Z\", \"2017-04-01T04:00:00.000Z\", \"2017-05-01T04:00:00.000Z\", \"2017-06-01T04:00:00.000Z\", \"2017-07-01T04:00:00.000Z\", \"2017-08-01T04:00:00.000Z\", \"2017-09-01T04:00:00.000Z\", \"2017-10-01T04:00:00.000Z\", \"2017-11-01T04:00:00.000Z\", \"2017-12-01T05:00:00.000Z\", \"2018-01-01T05:00:00.000Z\", \"2018-02-01T05:00:00.000Z\", \"2018-03-01T05:00:00.000Z\", \"2018-04-01T04:00:00.000Z\", \"2018-05-01T04:00:00.000Z\", \"2018-06-01T04:00:00.000Z\", \"2018-07-01T04:00:00.000Z\", \"2018-08-01T04:00:00.000Z\", \"2018-09-01T04:00:00.000Z\", \"2018-10-01T04:00:00.000Z\", \"2018-11-01T04:00:00.000Z\", \"2018-12-01T05:00:00.000Z\", \"2019-01-01T05:00:00.000Z\", \"2019-02-01T05:00:00.000Z\", \"2019-03-01T05:00:00.000Z\", \"2019-04-01T04:00:00.000Z\", \"2019-05-01T04:00:00.000Z\", \"2019-06-01T04:00:00.000Z\", \"2019-07-01T04:00:00.000Z\", \"2019-08-01T04:00:00.000Z\", \"2019-09-01T04:00:00.000Z\"], \"y\": [null, -120331.4, 144288.4, 20738.20000000004, 385525.10000000003, 13823.400000000023, 26274.399999999994, -64295.20000000004, 17828.49999999997, -49793.699999999924, 11873.49999999997, -65893.79999999999, -116.80000000001746, 13566.700000000012, 149420.5, 22821.800000000047, -92679.09999999998, 366979.69999999995, 20568.20000000001, -42974.50000000003, 281870.1, -239666.59999999998, 265384.7, -122962.79999999999, 128221.99999999997, -3541.9000000000233, -50525.5, -98189.0, 156332.6, -48035.5, 129744.59999999998, 284806.5, 257124.8, 96836.50000000003, -64313.899999999994, 110481.2, -92049.89999999998, 11326.799999999988, 81182.1, 7135.6999999999825, -3506.000000000029, -47722.899999999965, -11217.900000000023, -36796.29999999996, 4306.700000000026]}, {\"line\": {\"color\": \"navy\"}, \"name\": \"Blue Line\", \"opacity\": 0.8, \"type\": \"scatter\", \"x\": [\"2016-01-01T05:00:00.000Z\", \"2016-02-01T05:00:00.000Z\", \"2016-03-01T05:00:00.000Z\", \"2016-04-01T04:00:00.000Z\", \"2016-05-01T04:00:00.000Z\", \"2016-06-01T04:00:00.000Z\", \"2016-07-01T04:00:00.000Z\", \"2016-08-01T04:00:00.000Z\", \"2016-09-01T04:00:00.000Z\", \"2016-10-01T04:00:00.000Z\", \"2016-11-01T04:00:00.000Z\", \"2016-12-01T05:00:00.000Z\", \"2017-01-01T05:00:00.000Z\", \"2017-02-01T05:00:00.000Z\", \"2017-03-01T05:00:00.000Z\", \"2017-04-01T04:00:00.000Z\", \"2017-05-01T04:00:00.000Z\", \"2017-06-01T04:00:00.000Z\", \"2017-07-01T04:00:00.000Z\", \"2017-08-01T04:00:00.000Z\", \"2017-09-01T04:00:00.000Z\", \"2017-10-01T04:00:00.000Z\", \"2017-11-01T04:00:00.000Z\", \"2017-12-01T05:00:00.000Z\", \"2018-01-01T05:00:00.000Z\", \"2018-02-01T05:00:00.000Z\", \"2018-03-01T05:00:00.000Z\", \"2018-04-01T04:00:00.000Z\", \"2018-05-01T04:00:00.000Z\", \"2018-06-01T04:00:00.000Z\", \"2018-07-01T04:00:00.000Z\", \"2018-08-01T04:00:00.000Z\", \"2018-09-01T04:00:00.000Z\", \"2018-10-01T04:00:00.000Z\", \"2018-11-01T04:00:00.000Z\", \"2018-12-01T05:00:00.000Z\", \"2019-01-01T05:00:00.000Z\", \"2019-02-01T05:00:00.000Z\", \"2019-03-01T05:00:00.000Z\", \"2019-04-01T04:00:00.000Z\", \"2019-05-01T04:00:00.000Z\", \"2019-06-01T04:00:00.000Z\", \"2019-07-01T04:00:00.000Z\", \"2019-08-01T04:00:00.000Z\", \"2019-09-01T04:00:00.000Z\"], \"y\": [239051.9, 204366.40000000002, -93200.09999999999, -235901.50000000006, 218104.0, 70922.7, 268328.0, -71688.9, 41892.09999999999, -88426.70000000001, 38188.1, -92647.69999999998, 166351.5, -219898.59999999998, 205977.8, 254719.19999999998, -239138.20000000004, -68909.50000000003, -236168.40000000002, -264039.19999999995, -78775.99999999997, -63334.40000000001, -406912.9, -16220.199999999983, 68369.1, 156104.4, -51867.499999999985, 34064.1, -95211.5, 258703.99999999997, 213620.0, -153859.30000000002, -323080.3, -85663.09999999999, 197813.2, -84934.30000000002, 148967.2, 157193.69999999998, 159111.69999999998, 66232.7, 241923.3, 208843.60000000003, 77098.3, -90090.1, 218091.40000000002]}, {\"line\": {\"color\": \"orange\"}, \"name\": \"Orange Line\", \"opacity\": 0.8, \"type\": \"scatter\", \"x\": [\"2016-01-01T05:00:00.000Z\", \"2016-02-01T05:00:00.000Z\", \"2016-03-01T05:00:00.000Z\", \"2016-04-01T04:00:00.000Z\", \"2016-05-01T04:00:00.000Z\", \"2016-06-01T04:00:00.000Z\", \"2016-07-01T04:00:00.000Z\", \"2016-08-01T04:00:00.000Z\", \"2016-09-01T04:00:00.000Z\", \"2016-10-01T04:00:00.000Z\", \"2016-11-01T04:00:00.000Z\", \"2016-12-01T05:00:00.000Z\", \"2017-01-01T05:00:00.000Z\", \"2017-02-01T05:00:00.000Z\", \"2017-03-01T05:00:00.000Z\", \"2017-04-01T04:00:00.000Z\", \"2017-05-01T04:00:00.000Z\", \"2017-06-01T04:00:00.000Z\", \"2017-07-01T04:00:00.000Z\", \"2017-08-01T04:00:00.000Z\", \"2017-09-01T04:00:00.000Z\", \"2017-10-01T04:00:00.000Z\", \"2017-11-01T04:00:00.000Z\", \"2017-12-01T05:00:00.000Z\", \"2018-01-01T05:00:00.000Z\", \"2018-02-01T05:00:00.000Z\", \"2018-03-01T05:00:00.000Z\", \"2018-04-01T04:00:00.000Z\", \"2018-05-01T04:00:00.000Z\", \"2018-06-01T04:00:00.000Z\", \"2018-07-01T04:00:00.000Z\", \"2018-08-01T04:00:00.000Z\", \"2018-09-01T04:00:00.000Z\", \"2018-10-01T04:00:00.000Z\", \"2018-11-01T04:00:00.000Z\", \"2018-12-01T05:00:00.000Z\", \"2019-01-01T05:00:00.000Z\", \"2019-02-01T05:00:00.000Z\", \"2019-03-01T05:00:00.000Z\", \"2019-04-01T04:00:00.000Z\", \"2019-05-01T04:00:00.000Z\", \"2019-06-01T04:00:00.000Z\", \"2019-07-01T04:00:00.000Z\", \"2019-08-01T04:00:00.000Z\", \"2019-09-01T04:00:00.000Z\"], \"y\": [-77805.40000000002, 133431.8, -115529.19999999995, -138680.2, 109908.0, -80297.6, -85011.59999999998, -34610.399999999965, -89259.40000000001, -45748.300000000076, -79968.99999999999, -15779.399999999994, -62552.59999999999, -114736.49999999997, 104393.60000000003, -92172.80000000003, 332008.8, -275258.8, -104584.9, 204300.19999999998, 324575.1, -44261.600000000035, -64940.30000000002, 337861.9, 353001.80000000005, -59492.69999999998, -21098.79999999999, 100560.19999999998, -122479.90000000002, -47101.8, -211031.89999999997, -91465.0, -261623.4, -113853.0, -108193.79999999999, -174988.4, 95091.5, -70428.0, -82989.4, -68772.69999999998, -48000.8, 115649.1, -39604.59999999999, -22721.50000000003, -40897.899999999994]}, {\"line\": {\"color\": \"gray\"}, \"name\": \"Silver Line\", \"opacity\": 0.8, \"type\": \"scatter\", \"x\": [\"2016-01-01T05:00:00.000Z\", \"2016-02-01T05:00:00.000Z\", \"2016-03-01T05:00:00.000Z\", \"2016-04-01T04:00:00.000Z\", \"2016-05-01T04:00:00.000Z\", \"2016-06-01T04:00:00.000Z\", \"2016-07-01T04:00:00.000Z\", \"2016-08-01T04:00:00.000Z\", \"2016-09-01T04:00:00.000Z\", \"2016-10-01T04:00:00.000Z\", \"2016-11-01T04:00:00.000Z\", \"2016-12-01T05:00:00.000Z\", \"2017-01-01T05:00:00.000Z\", \"2017-02-01T05:00:00.000Z\", \"2017-03-01T05:00:00.000Z\", \"2017-04-01T04:00:00.000Z\", \"2017-05-01T04:00:00.000Z\", \"2017-06-01T04:00:00.000Z\", \"2017-07-01T04:00:00.000Z\", \"2017-08-01T04:00:00.000Z\", \"2017-09-01T04:00:00.000Z\", \"2017-10-01T04:00:00.000Z\", \"2017-11-01T04:00:00.000Z\", \"2017-12-01T05:00:00.000Z\", \"2018-01-01T05:00:00.000Z\", \"2018-02-01T05:00:00.000Z\", \"2018-03-01T05:00:00.000Z\", \"2018-04-01T04:00:00.000Z\", \"2018-05-01T04:00:00.000Z\", \"2018-06-01T04:00:00.000Z\", \"2018-07-01T04:00:00.000Z\", \"2018-08-01T04:00:00.000Z\", \"2018-09-01T04:00:00.000Z\", \"2018-10-01T04:00:00.000Z\", \"2018-11-01T04:00:00.000Z\", \"2018-12-01T05:00:00.000Z\", \"2019-01-01T05:00:00.000Z\", \"2019-02-01T05:00:00.000Z\", \"2019-03-01T05:00:00.000Z\", \"2019-04-01T04:00:00.000Z\", \"2019-05-01T04:00:00.000Z\", \"2019-06-01T04:00:00.000Z\", \"2019-07-01T04:00:00.000Z\", \"2019-08-01T04:00:00.000Z\", \"2019-09-01T04:00:00.000Z\"], \"y\": [null, -219050.5, 98660.59999999999, 27933.500000000007, -216211.69999999998, -68849.2, -276491.10000000003, 64969.999999999985, 35341.10000000001, 79989.29999999999, 36472.100000000006, 95792.09999999998, -267950.80000000005, 146570.0, -203971.30000000002, -398911.19999999995, -53261.5, 61474.5, 143306.90000000002, -331594.3, 67121.8, 61413.0, -216317.40000000002, 52549.79999999998, -353990.1, -77775.89999999998, 55036.29999999998, 38284.700000000004, 97616.80000000002, -302921.39999999997, -219531.6, -104815.29999999999, 121369.2, 75332.70000000001, -126766.10000000003, 85327.40000000001, -236599.8, -54486.799999999974, -54932.49999999997, -61829.89999999999, -245719.49999999997, -213118.50000000003, -78346.4, 83208.90000000002, -247219.50000000003]}, {\"line\": {\"color\": \"green\"}, \"name\": \"Green Line\", \"opacity\": 0.8, \"type\": \"scatter\", \"x\": [\"2016-01-01T05:00:00.000Z\", \"2016-02-01T05:00:00.000Z\", \"2016-03-01T05:00:00.000Z\", \"2016-04-01T04:00:00.000Z\", \"2016-05-01T04:00:00.000Z\", \"2016-06-01T04:00:00.000Z\", \"2016-07-01T04:00:00.000Z\", \"2016-08-01T04:00:00.000Z\", \"2016-09-01T04:00:00.000Z\", \"2016-10-01T04:00:00.000Z\", \"2016-11-01T04:00:00.000Z\", \"2016-12-01T05:00:00.000Z\", \"2017-01-01T05:00:00.000Z\", \"2017-02-01T05:00:00.000Z\", \"2017-03-01T05:00:00.000Z\", \"2017-04-01T04:00:00.000Z\", \"2017-05-01T04:00:00.000Z\", \"2017-06-01T04:00:00.000Z\", \"2017-07-01T04:00:00.000Z\", \"2017-08-01T04:00:00.000Z\", \"2017-09-01T04:00:00.000Z\", \"2017-10-01T04:00:00.000Z\", \"2017-11-01T04:00:00.000Z\", \"2017-12-01T05:00:00.000Z\", \"2018-01-01T05:00:00.000Z\", \"2018-02-01T05:00:00.000Z\", \"2018-03-01T05:00:00.000Z\", \"2018-04-01T04:00:00.000Z\", \"2018-05-01T04:00:00.000Z\", \"2018-06-01T04:00:00.000Z\", \"2018-07-01T04:00:00.000Z\", \"2018-08-01T04:00:00.000Z\", \"2018-09-01T04:00:00.000Z\", \"2018-10-01T04:00:00.000Z\", \"2018-11-01T04:00:00.000Z\", \"2018-12-01T05:00:00.000Z\", \"2019-01-01T05:00:00.000Z\", \"2019-02-01T05:00:00.000Z\", \"2019-03-01T05:00:00.000Z\", \"2019-04-01T04:00:00.000Z\", \"2019-05-01T04:00:00.000Z\", \"2019-06-01T04:00:00.000Z\", \"2019-07-01T04:00:00.000Z\", \"2019-08-01T04:00:00.000Z\", \"2019-09-01T04:00:00.000Z\"], \"y\": [92108.80000000002, -106606.30000000002, 8312.899999999965, 158966.1, -268936.2, 75807.90000000001, 72358.09999999999, 17111.399999999994, 78487.1, 18289.70000000004, 75084.7, 169766.2, 68546.9, 178004.89999999997, -115456.60000000003, 78651.70000000001, -134897.9, 13787.400000000023, 179220.5, 296887.5, -180607.40000000002, 5882.3000000000175, 286373.80000000005, -108124.30000000002, -199919.50000000003, 60573.09999999999, -1224.5, -116827.69999999998, 173029.69999999998, 50221.500000000015, 14289.199999999983, 257586.5, 17564.599999999977, 14946.099999999977, 171728.0, 150774.1, -103804.60000000003, 67233.00000000001, -113089.40000000002, 65635.59999999998, 55116.80000000001, -63969.70000000001, 43666.09999999999, 145520.8, 43050.59999999999]}],\n",
       "                        {\"template\": {\"data\": {\"bar\": [{\"error_x\": {\"color\": \"#2a3f5f\"}, \"error_y\": {\"color\": \"#2a3f5f\"}, \"marker\": {\"line\": {\"color\": \"#E5ECF6\", \"width\": 0.5}}, \"type\": \"bar\"}], \"barpolar\": [{\"marker\": {\"line\": {\"color\": \"#E5ECF6\", \"width\": 0.5}}, \"type\": \"barpolar\"}], \"carpet\": [{\"aaxis\": {\"endlinecolor\": \"#2a3f5f\", \"gridcolor\": \"white\", \"linecolor\": \"white\", \"minorgridcolor\": \"white\", \"startlinecolor\": \"#2a3f5f\"}, \"baxis\": {\"endlinecolor\": \"#2a3f5f\", \"gridcolor\": \"white\", \"linecolor\": \"white\", \"minorgridcolor\": \"white\", \"startlinecolor\": \"#2a3f5f\"}, \"type\": \"carpet\"}], \"choropleth\": [{\"colorbar\": {\"outlinewidth\": 0, \"ticks\": \"\"}, \"type\": \"choropleth\"}], \"contour\": [{\"colorbar\": {\"outlinewidth\": 0, \"ticks\": \"\"}, \"colorscale\": [[0.0, \"#0d0887\"], [0.1111111111111111, \"#46039f\"], [0.2222222222222222, \"#7201a8\"], [0.3333333333333333, \"#9c179e\"], [0.4444444444444444, \"#bd3786\"], [0.5555555555555556, \"#d8576b\"], [0.6666666666666666, \"#ed7953\"], [0.7777777777777778, \"#fb9f3a\"], [0.8888888888888888, \"#fdca26\"], [1.0, \"#f0f921\"]], \"type\": \"contour\"}], \"contourcarpet\": [{\"colorbar\": {\"outlinewidth\": 0, \"ticks\": \"\"}, \"type\": \"contourcarpet\"}], \"heatmap\": [{\"colorbar\": {\"outlinewidth\": 0, \"ticks\": \"\"}, \"colorscale\": [[0.0, \"#0d0887\"], [0.1111111111111111, \"#46039f\"], [0.2222222222222222, \"#7201a8\"], [0.3333333333333333, \"#9c179e\"], [0.4444444444444444, \"#bd3786\"], [0.5555555555555556, \"#d8576b\"], [0.6666666666666666, \"#ed7953\"], [0.7777777777777778, \"#fb9f3a\"], [0.8888888888888888, \"#fdca26\"], [1.0, \"#f0f921\"]], \"type\": \"heatmap\"}], \"heatmapgl\": [{\"colorbar\": {\"outlinewidth\": 0, \"ticks\": \"\"}, \"colorscale\": [[0.0, \"#0d0887\"], [0.1111111111111111, \"#46039f\"], [0.2222222222222222, \"#7201a8\"], [0.3333333333333333, \"#9c179e\"], [0.4444444444444444, \"#bd3786\"], [0.5555555555555556, \"#d8576b\"], [0.6666666666666666, \"#ed7953\"], [0.7777777777777778, \"#fb9f3a\"], [0.8888888888888888, \"#fdca26\"], [1.0, \"#f0f921\"]], \"type\": \"heatmapgl\"}], \"histogram\": [{\"marker\": {\"colorbar\": {\"outlinewidth\": 0, \"ticks\": \"\"}}, \"type\": \"histogram\"}], \"histogram2d\": [{\"colorbar\": {\"outlinewidth\": 0, \"ticks\": \"\"}, \"colorscale\": [[0.0, \"#0d0887\"], [0.1111111111111111, \"#46039f\"], [0.2222222222222222, \"#7201a8\"], [0.3333333333333333, \"#9c179e\"], [0.4444444444444444, \"#bd3786\"], [0.5555555555555556, \"#d8576b\"], [0.6666666666666666, \"#ed7953\"], [0.7777777777777778, \"#fb9f3a\"], [0.8888888888888888, \"#fdca26\"], [1.0, \"#f0f921\"]], \"type\": \"histogram2d\"}], \"histogram2dcontour\": [{\"colorbar\": {\"outlinewidth\": 0, \"ticks\": \"\"}, \"colorscale\": [[0.0, \"#0d0887\"], [0.1111111111111111, \"#46039f\"], [0.2222222222222222, \"#7201a8\"], [0.3333333333333333, \"#9c179e\"], [0.4444444444444444, \"#bd3786\"], [0.5555555555555556, \"#d8576b\"], [0.6666666666666666, \"#ed7953\"], [0.7777777777777778, \"#fb9f3a\"], [0.8888888888888888, \"#fdca26\"], [1.0, \"#f0f921\"]], \"type\": \"histogram2dcontour\"}], \"mesh3d\": [{\"colorbar\": {\"outlinewidth\": 0, \"ticks\": \"\"}, \"type\": \"mesh3d\"}], \"parcoords\": [{\"line\": {\"colorbar\": {\"outlinewidth\": 0, \"ticks\": \"\"}}, \"type\": \"parcoords\"}], \"pie\": [{\"automargin\": true, \"type\": \"pie\"}], \"scatter\": [{\"marker\": {\"colorbar\": {\"outlinewidth\": 0, \"ticks\": \"\"}}, \"type\": \"scatter\"}], \"scatter3d\": [{\"line\": {\"colorbar\": {\"outlinewidth\": 0, \"ticks\": \"\"}}, \"marker\": {\"colorbar\": {\"outlinewidth\": 0, \"ticks\": \"\"}}, \"type\": \"scatter3d\"}], \"scattercarpet\": [{\"marker\": {\"colorbar\": {\"outlinewidth\": 0, \"ticks\": \"\"}}, \"type\": \"scattercarpet\"}], \"scattergeo\": [{\"marker\": {\"colorbar\": {\"outlinewidth\": 0, \"ticks\": \"\"}}, \"type\": \"scattergeo\"}], \"scattergl\": [{\"marker\": {\"colorbar\": {\"outlinewidth\": 0, \"ticks\": \"\"}}, \"type\": \"scattergl\"}], \"scattermapbox\": [{\"marker\": {\"colorbar\": {\"outlinewidth\": 0, \"ticks\": \"\"}}, \"type\": \"scattermapbox\"}], \"scatterpolar\": [{\"marker\": {\"colorbar\": {\"outlinewidth\": 0, \"ticks\": \"\"}}, \"type\": \"scatterpolar\"}], \"scatterpolargl\": [{\"marker\": {\"colorbar\": {\"outlinewidth\": 0, \"ticks\": \"\"}}, \"type\": \"scatterpolargl\"}], \"scatterternary\": [{\"marker\": {\"colorbar\": {\"outlinewidth\": 0, \"ticks\": \"\"}}, \"type\": \"scatterternary\"}], \"surface\": [{\"colorbar\": {\"outlinewidth\": 0, \"ticks\": \"\"}, \"colorscale\": [[0.0, \"#0d0887\"], [0.1111111111111111, \"#46039f\"], [0.2222222222222222, \"#7201a8\"], [0.3333333333333333, \"#9c179e\"], [0.4444444444444444, \"#bd3786\"], [0.5555555555555556, \"#d8576b\"], [0.6666666666666666, \"#ed7953\"], [0.7777777777777778, \"#fb9f3a\"], [0.8888888888888888, \"#fdca26\"], [1.0, \"#f0f921\"]], \"type\": \"surface\"}], \"table\": [{\"cells\": {\"fill\": {\"color\": \"#EBF0F8\"}, \"line\": {\"color\": \"white\"}}, \"header\": {\"fill\": {\"color\": \"#C8D4E3\"}, \"line\": {\"color\": \"white\"}}, \"type\": \"table\"}]}, \"layout\": {\"annotationdefaults\": {\"arrowcolor\": \"#2a3f5f\", \"arrowhead\": 0, \"arrowwidth\": 1}, \"coloraxis\": {\"colorbar\": {\"outlinewidth\": 0, \"ticks\": \"\"}}, \"colorscale\": {\"diverging\": [[0, \"#8e0152\"], [0.1, \"#c51b7d\"], [0.2, \"#de77ae\"], [0.3, \"#f1b6da\"], [0.4, \"#fde0ef\"], [0.5, \"#f7f7f7\"], [0.6, \"#e6f5d0\"], [0.7, \"#b8e186\"], [0.8, \"#7fbc41\"], [0.9, \"#4d9221\"], [1, \"#276419\"]], \"sequential\": [[0.0, \"#0d0887\"], [0.1111111111111111, \"#46039f\"], [0.2222222222222222, \"#7201a8\"], [0.3333333333333333, \"#9c179e\"], [0.4444444444444444, \"#bd3786\"], [0.5555555555555556, \"#d8576b\"], [0.6666666666666666, \"#ed7953\"], [0.7777777777777778, \"#fb9f3a\"], [0.8888888888888888, \"#fdca26\"], [1.0, \"#f0f921\"]], \"sequentialminus\": [[0.0, \"#0d0887\"], [0.1111111111111111, \"#46039f\"], [0.2222222222222222, \"#7201a8\"], [0.3333333333333333, \"#9c179e\"], [0.4444444444444444, \"#bd3786\"], [0.5555555555555556, \"#d8576b\"], [0.6666666666666666, \"#ed7953\"], [0.7777777777777778, \"#fb9f3a\"], [0.8888888888888888, \"#fdca26\"], [1.0, \"#f0f921\"]]}, \"colorway\": [\"#636efa\", \"#EF553B\", \"#00cc96\", \"#ab63fa\", \"#FFA15A\", \"#19d3f3\", \"#FF6692\", \"#B6E880\", \"#FF97FF\", \"#FECB52\"], \"font\": {\"color\": \"#2a3f5f\"}, \"geo\": {\"bgcolor\": \"white\", \"lakecolor\": \"white\", \"landcolor\": \"#E5ECF6\", \"showlakes\": true, \"showland\": true, \"subunitcolor\": \"white\"}, \"hoverlabel\": {\"align\": \"left\"}, \"hovermode\": \"closest\", \"mapbox\": {\"style\": \"light\"}, \"paper_bgcolor\": \"white\", \"plot_bgcolor\": \"#E5ECF6\", \"polar\": {\"angularaxis\": {\"gridcolor\": \"white\", \"linecolor\": \"white\", \"ticks\": \"\"}, \"bgcolor\": \"#E5ECF6\", \"radialaxis\": {\"gridcolor\": \"white\", \"linecolor\": \"white\", \"ticks\": \"\"}}, \"scene\": {\"xaxis\": {\"backgroundcolor\": \"#E5ECF6\", \"gridcolor\": \"white\", \"gridwidth\": 2, \"linecolor\": \"white\", \"showbackground\": true, \"ticks\": \"\", \"zerolinecolor\": \"white\"}, \"yaxis\": {\"backgroundcolor\": \"#E5ECF6\", \"gridcolor\": \"white\", \"gridwidth\": 2, \"linecolor\": \"white\", \"showbackground\": true, \"ticks\": \"\", \"zerolinecolor\": \"white\"}, \"zaxis\": {\"backgroundcolor\": \"#E5ECF6\", \"gridcolor\": \"white\", \"gridwidth\": 2, \"linecolor\": \"white\", \"showbackground\": true, \"ticks\": \"\", \"zerolinecolor\": \"white\"}}, \"shapedefaults\": {\"line\": {\"color\": \"#2a3f5f\"}}, \"ternary\": {\"aaxis\": {\"gridcolor\": \"white\", \"linecolor\": \"white\", \"ticks\": \"\"}, \"baxis\": {\"gridcolor\": \"white\", \"linecolor\": \"white\", \"ticks\": \"\"}, \"bgcolor\": \"#E5ECF6\", \"caxis\": {\"gridcolor\": \"white\", \"linecolor\": \"white\", \"ticks\": \"\"}}, \"title\": {\"x\": 0.05}, \"xaxis\": {\"automargin\": true, \"gridcolor\": \"white\", \"linecolor\": \"white\", \"ticks\": \"\", \"title\": {\"standoff\": 15}, \"zerolinecolor\": \"white\", \"zerolinewidth\": 2}, \"yaxis\": {\"automargin\": true, \"gridcolor\": \"white\", \"linecolor\": \"white\", \"ticks\": \"\", \"title\": {\"standoff\": 15}, \"zerolinecolor\": \"white\", \"zerolinewidth\": 2}}}, \"title\": {\"text\": \"Second Order Differenced MBTA Subway Average Ridership per Line (Jan 2016 - Sep 2019)\"}, \"updatemenus\": [{\"active\": 0, \"buttons\": [{\"args\": [{\"visible\": [true, true, true, true, true]}, {\"title\": \"Second Order Differenced MBTA Subway Average Ridership per Line (Jan 2016 - Sep 2019)\"}], \"label\": \"All\", \"method\": \"update\"}, {\"args\": [{\"visible\": [true, false, false, false, false]}, {\"title\": \"Red Line\"}], \"label\": \"Red\", \"method\": \"update\"}, {\"args\": [{\"visible\": [false, true, false, false, false]}, {\"title\": \"Blue Line\"}], \"label\": \"Blue\", \"method\": \"update\"}, {\"args\": [{\"visible\": [false, false, true, false, false]}, {\"title\": \"Orange Line\"}], \"label\": \"Orange\", \"method\": \"update\"}, {\"args\": [{\"visible\": [false, false, false, true, false]}, {\"title\": \"Silver Line\"}], \"label\": \"Silver\", \"method\": \"update\"}, {\"args\": [{\"visible\": [false, false, false, false, true]}, {\"title\": \"Green Line\"}], \"label\": \"Green\", \"method\": \"update\"}], \"direction\": \"right\", \"type\": \"buttons\", \"x\": 0.7, \"y\": -0.2}], \"xaxis\": {\"range\": [\"2016-01-01\", \"2019-09-01\"]}},\n",
       "                        {\"responsive\": true}\n",
       "                    ).then(function(){\n",
       "                            \n",
       "var gd = document.getElementById('0b8c4248-0455-47d6-b75a-9fc9c222576b');\n",
       "var x = new MutationObserver(function (mutations, observer) {{\n",
       "        var display = window.getComputedStyle(gd).display;\n",
       "        if (!display || display === 'none') {{\n",
       "            console.log([gd, 'removed!']);\n",
       "            Plotly.purge(gd);\n",
       "            observer.disconnect();\n",
       "        }}\n",
       "}});\n",
       "\n",
       "// Listen for the removal of the full notebook cells\n",
       "var notebookContainer = gd.closest('#notebook-container');\n",
       "if (notebookContainer) {{\n",
       "    x.observe(notebookContainer, {childList: true});\n",
       "}}\n",
       "\n",
       "// Listen for the clearing of the current output cell\n",
       "var outputEl = gd.closest('.output');\n",
       "if (outputEl) {{\n",
       "    x.observe(outputEl, {childList: true});\n",
       "}}\n",
       "\n",
       "                        })\n",
       "                };\n",
       "                });\n",
       "            </script>\n",
       "        </div>"
      ]
     },
     "metadata": {},
     "output_type": "display_data"
    }
   ],
   "source": [
    "time_plot('second_diff_avg_ridership', 'Second Order Differenced MBTA Subway Average Ridership per Line (Jan 2016 - Sep 2019)')"
   ]
  },
  {
   "cell_type": "code",
   "execution_count": null,
   "metadata": {},
   "outputs": [],
   "source": []
  },
  {
   "cell_type": "code",
   "execution_count": null,
   "metadata": {},
   "outputs": [],
   "source": []
  },
  {
   "cell_type": "code",
   "execution_count": null,
   "metadata": {},
   "outputs": [],
   "source": []
  },
  {
   "cell_type": "code",
   "execution_count": null,
   "metadata": {},
   "outputs": [],
   "source": []
  },
  {
   "cell_type": "code",
   "execution_count": null,
   "metadata": {},
   "outputs": [],
   "source": []
  },
  {
   "cell_type": "code",
   "execution_count": 27,
   "metadata": {},
   "outputs": [],
   "source": [
    "def plot(df, cols=None, title='Title', xlab=None, ylab=None, steps=1):\n",
    "\n",
    "    plt.figure(figsize=(18,9))\n",
    "\n",
    "    # Iterate through each column name.\n",
    "    for col in cols:\n",
    "\n",
    "        # Generate a line plot of the column name.\n",
    "        # You only have to specify Y, since our\n",
    "        # index will be a datetime index.\n",
    "        plt.plot(df[col])\n",
    "\n",
    "    # Generate title and labels.\n",
    "    plt.title(title, fontsize=26)\n",
    "    plt.xlabel(xlab, fontsize=20)\n",
    "    plt.ylabel(ylab, fontsize=20)\n",
    "\n",
    "    # Enlarge tick marks.\n",
    "    plt.yticks(fontsize=18)\n",
    "    plt.xticks(df.index[0::steps], fontsize=18);"
   ]
  },
  {
   "cell_type": "code",
   "execution_count": 39,
   "metadata": {},
   "outputs": [
    {
     "data": {
      "image/png": "[encoded data removed]",
      "text/plain": [
       "<Figure size 1296x648 with 1 Axes>"
      ]
     },
     "metadata": {
      "needs_background": "light"
     },
     "output_type": "display_data"
    }
   ],
   "source": [
    "plot(sub_df, ['average_monthly_ridership'], title = \"First Order Differenced MBTA Monthly Ridership \", steps=18)"
   ]
  },
  {
   "cell_type": "code",
   "execution_count": 29,
   "metadata": {},
   "outputs": [
    {
     "data": {
      "image/png": "[encoded data removed]",
      "text/plain": [
       "<Figure size 1296x648 with 1 Axes>"
      ]
     },
     "metadata": {
      "needs_background": "light"
     },
     "output_type": "display_data"
    }
   ],
   "source": [
    "plot(sub_df, ['first_diff_avg_ridership'], title = \"First Order Differenced MBTA Monthly Ridership \", steps=18)"
   ]
  },
  {
   "cell_type": "code",
   "execution_count": 35,
   "metadata": {},
   "outputs": [
    {
     "data": {
      "image/png": "[encoded data removed]",
      "text/plain": [
       "<Figure size 1296x648 with 1 Axes>"
      ]
     },
     "metadata": {
      "needs_background": "light"
     },
     "output_type": "display_data"
    }
   ],
   "source": [
    "plot(sub_df, ['second_diff_avg_ridership'], title = \"Second Order Differenced MBTA Monthly Ridership \", steps=18)"
   ]
  },
  {
   "cell_type": "code",
   "execution_count": null,
   "metadata": {},
   "outputs": [],
   "source": []
  },
  {
   "cell_type": "code",
   "execution_count": null,
   "metadata": {},
   "outputs": [],
   "source": []
  },
  {
   "cell_type": "code",
   "execution_count": null,
   "metadata": {},
   "outputs": [],
   "source": []
  },
  {
   "cell_type": "code",
   "execution_count": null,
   "metadata": {},
   "outputs": [],
   "source": []
  },
  {
   "cell_type": "code",
   "execution_count": null,
   "metadata": {},
   "outputs": [],
   "source": []
  },
  {
   "cell_type": "code",
   "execution_count": null,
   "metadata": {},
   "outputs": [],
   "source": []
  },
  {
   "cell_type": "code",
   "execution_count": 16,
   "metadata": {},
   "outputs": [
    {
     "name": "stderr",
     "output_type": "stream",
     "text": [
      "C:\\ProgramData\\Anaconda3\\lib\\site-packages\\IPython\\core\\interactiveshell.py:3049: DtypeWarning:\n",
      "\n",
      "Columns (2,3,10) have mixed types. Specify dtype option on import or set low_memory=False.\n",
      "\n"
     ]
    }
   ],
   "source": [
    "season_df = pd.read_csv('./datasets/MBTA_Ridership_by_Season_RouteLine_Stop_and_Time_Period.csv')"
   ]
  },
  {
   "cell_type": "code",
   "execution_count": 17,
   "metadata": {},
   "outputs": [
    {
     "data": {
      "text/html": [
       "<div>\n",
       "<style scoped>\n",
       "    .dataframe tbody tr th:only-of-type {\n",
       "        vertical-align: middle;\n",
       "    }\n",
       "\n",
       "    .dataframe tbody tr th {\n",
       "        vertical-align: top;\n",
       "    }\n",
       "\n",
       "    .dataframe thead th {\n",
       "        text-align: right;\n",
       "    }\n",
       "</style>\n",
       "<table border=\"1\" class=\"dataframe\">\n",
       "  <thead>\n",
       "    <tr style=\"text-align: right;\">\n",
       "      <th></th>\n",
       "      <th>mode</th>\n",
       "      <th>season</th>\n",
       "      <th>route_id</th>\n",
       "      <th>route_name</th>\n",
       "      <th>direction_id</th>\n",
       "      <th>day_type_id</th>\n",
       "      <th>day_type_name</th>\n",
       "      <th>time_period_id</th>\n",
       "      <th>time_period_name</th>\n",
       "      <th>stop_name</th>\n",
       "      <th>stop_id</th>\n",
       "      <th>total_ridership</th>\n",
       "      <th>number_service_days</th>\n",
       "      <th>average_ridership</th>\n",
       "      <th>bus_route_variant</th>\n",
       "      <th>ObjectId</th>\n",
       "    </tr>\n",
       "  </thead>\n",
       "  <tbody>\n",
       "    <tr>\n",
       "      <th>0</th>\n",
       "      <td>3</td>\n",
       "      <td>Fall 2016</td>\n",
       "      <td>1</td>\n",
       "      <td>1</td>\n",
       "      <td>0</td>\n",
       "      <td>day_type_01</td>\n",
       "      <td>weekday</td>\n",
       "      <td>time_period_01</td>\n",
       "      <td>VERY_EARLY_MORNING</td>\n",
       "      <td>WASHINGTON ST OPP RUGGLES ST</td>\n",
       "      <td>1</td>\n",
       "      <td>NaN</td>\n",
       "      <td>NaN</td>\n",
       "      <td>0.4</td>\n",
       "      <td>1-_-0</td>\n",
       "      <td>1</td>\n",
       "    </tr>\n",
       "    <tr>\n",
       "      <th>1</th>\n",
       "      <td>3</td>\n",
       "      <td>Fall 2016</td>\n",
       "      <td>1</td>\n",
       "      <td>1</td>\n",
       "      <td>0</td>\n",
       "      <td>day_type_01</td>\n",
       "      <td>weekday</td>\n",
       "      <td>time_period_01</td>\n",
       "      <td>VERY_EARLY_MORNING</td>\n",
       "      <td>WASHINGTON ST @ MELNEA CASS B</td>\n",
       "      <td>2</td>\n",
       "      <td>NaN</td>\n",
       "      <td>NaN</td>\n",
       "      <td>0.7</td>\n",
       "      <td>1-_-0</td>\n",
       "      <td>2</td>\n",
       "    </tr>\n",
       "    <tr>\n",
       "      <th>2</th>\n",
       "      <td>3</td>\n",
       "      <td>Fall 2016</td>\n",
       "      <td>1</td>\n",
       "      <td>1</td>\n",
       "      <td>0</td>\n",
       "      <td>day_type_01</td>\n",
       "      <td>weekday</td>\n",
       "      <td>time_period_01</td>\n",
       "      <td>VERY_EARLY_MORNING</td>\n",
       "      <td>MELNEA CASS BLVD @ HARRISON A</td>\n",
       "      <td>6</td>\n",
       "      <td>NaN</td>\n",
       "      <td>NaN</td>\n",
       "      <td>0.2</td>\n",
       "      <td>1-_-0</td>\n",
       "      <td>3</td>\n",
       "    </tr>\n",
       "    <tr>\n",
       "      <th>3</th>\n",
       "      <td>3</td>\n",
       "      <td>Fall 2016</td>\n",
       "      <td>1</td>\n",
       "      <td>1</td>\n",
       "      <td>0</td>\n",
       "      <td>day_type_01</td>\n",
       "      <td>weekday</td>\n",
       "      <td>time_period_01</td>\n",
       "      <td>VERY_EARLY_MORNING</td>\n",
       "      <td>MASSACHUSETTS AVE @ ALBANY ST</td>\n",
       "      <td>57</td>\n",
       "      <td>NaN</td>\n",
       "      <td>NaN</td>\n",
       "      <td>10.3</td>\n",
       "      <td>1-_-0</td>\n",
       "      <td>4</td>\n",
       "    </tr>\n",
       "    <tr>\n",
       "      <th>4</th>\n",
       "      <td>3</td>\n",
       "      <td>Fall 2016</td>\n",
       "      <td>1</td>\n",
       "      <td>1</td>\n",
       "      <td>0</td>\n",
       "      <td>day_type_01</td>\n",
       "      <td>weekday</td>\n",
       "      <td>time_period_01</td>\n",
       "      <td>VERY_EARLY_MORNING</td>\n",
       "      <td>MASSACHUSETTS AVE @ HARRISON</td>\n",
       "      <td>58</td>\n",
       "      <td>NaN</td>\n",
       "      <td>NaN</td>\n",
       "      <td>8.9</td>\n",
       "      <td>1-_-0</td>\n",
       "      <td>5</td>\n",
       "    </tr>\n",
       "    <tr>\n",
       "      <th>5</th>\n",
       "      <td>3</td>\n",
       "      <td>Fall 2016</td>\n",
       "      <td>1</td>\n",
       "      <td>1</td>\n",
       "      <td>0</td>\n",
       "      <td>day_type_01</td>\n",
       "      <td>weekday</td>\n",
       "      <td>time_period_01</td>\n",
       "      <td>VERY_EARLY_MORNING</td>\n",
       "      <td>DUDLEY STATION</td>\n",
       "      <td>64</td>\n",
       "      <td>NaN</td>\n",
       "      <td>NaN</td>\n",
       "      <td>75.7</td>\n",
       "      <td>1-_-0</td>\n",
       "      <td>6</td>\n",
       "    </tr>\n",
       "    <tr>\n",
       "      <th>6</th>\n",
       "      <td>3</td>\n",
       "      <td>Fall 2016</td>\n",
       "      <td>1</td>\n",
       "      <td>1</td>\n",
       "      <td>0</td>\n",
       "      <td>day_type_01</td>\n",
       "      <td>weekday</td>\n",
       "      <td>time_period_01</td>\n",
       "      <td>VERY_EARLY_MORNING</td>\n",
       "      <td>MASSACHUSETTS AVE @ TREMONT S</td>\n",
       "      <td>87</td>\n",
       "      <td>NaN</td>\n",
       "      <td>NaN</td>\n",
       "      <td>4.1</td>\n",
       "      <td>1-_-0</td>\n",
       "      <td>7</td>\n",
       "    </tr>\n",
       "    <tr>\n",
       "      <th>7</th>\n",
       "      <td>3</td>\n",
       "      <td>Fall 2016</td>\n",
       "      <td>1</td>\n",
       "      <td>1</td>\n",
       "      <td>0</td>\n",
       "      <td>day_type_01</td>\n",
       "      <td>weekday</td>\n",
       "      <td>time_period_01</td>\n",
       "      <td>VERY_EARLY_MORNING</td>\n",
       "      <td>MASSACHUSETTS AVE @ COLUMBUS</td>\n",
       "      <td>88</td>\n",
       "      <td>NaN</td>\n",
       "      <td>NaN</td>\n",
       "      <td>0.5</td>\n",
       "      <td>1-_-0</td>\n",
       "      <td>8</td>\n",
       "    </tr>\n",
       "    <tr>\n",
       "      <th>8</th>\n",
       "      <td>3</td>\n",
       "      <td>Fall 2016</td>\n",
       "      <td>1</td>\n",
       "      <td>1</td>\n",
       "      <td>0</td>\n",
       "      <td>day_type_01</td>\n",
       "      <td>weekday</td>\n",
       "      <td>time_period_01</td>\n",
       "      <td>VERY_EARLY_MORNING</td>\n",
       "      <td>MASSACHUSETTS AVE @ ST BOTOLP</td>\n",
       "      <td>89</td>\n",
       "      <td>NaN</td>\n",
       "      <td>NaN</td>\n",
       "      <td>4.2</td>\n",
       "      <td>1-_-0</td>\n",
       "      <td>9</td>\n",
       "    </tr>\n",
       "    <tr>\n",
       "      <th>9</th>\n",
       "      <td>3</td>\n",
       "      <td>Fall 2016</td>\n",
       "      <td>1</td>\n",
       "      <td>1</td>\n",
       "      <td>0</td>\n",
       "      <td>day_type_01</td>\n",
       "      <td>weekday</td>\n",
       "      <td>time_period_01</td>\n",
       "      <td>VERY_EARLY_MORNING</td>\n",
       "      <td>MASSACHUSETTS AVE @ CLEARWAY</td>\n",
       "      <td>91</td>\n",
       "      <td>NaN</td>\n",
       "      <td>NaN</td>\n",
       "      <td>2.0</td>\n",
       "      <td>1-_-0</td>\n",
       "      <td>10</td>\n",
       "    </tr>\n",
       "    <tr>\n",
       "      <th>10</th>\n",
       "      <td>3</td>\n",
       "      <td>Fall 2016</td>\n",
       "      <td>1</td>\n",
       "      <td>1</td>\n",
       "      <td>0</td>\n",
       "      <td>day_type_01</td>\n",
       "      <td>weekday</td>\n",
       "      <td>time_period_01</td>\n",
       "      <td>VERY_EARLY_MORNING</td>\n",
       "      <td>MASSACHUSETTS AVE @ NEWBURY S</td>\n",
       "      <td>93</td>\n",
       "      <td>NaN</td>\n",
       "      <td>NaN</td>\n",
       "      <td>6.8</td>\n",
       "      <td>1-_-0</td>\n",
       "      <td>11</td>\n",
       "    </tr>\n",
       "    <tr>\n",
       "      <th>11</th>\n",
       "      <td>3</td>\n",
       "      <td>Fall 2016</td>\n",
       "      <td>1</td>\n",
       "      <td>1</td>\n",
       "      <td>0</td>\n",
       "      <td>day_type_01</td>\n",
       "      <td>weekday</td>\n",
       "      <td>time_period_01</td>\n",
       "      <td>VERY_EARLY_MORNING</td>\n",
       "      <td>MASSACHUSETTS AVE @ BEACON ST</td>\n",
       "      <td>95</td>\n",
       "      <td>NaN</td>\n",
       "      <td>NaN</td>\n",
       "      <td>1.5</td>\n",
       "      <td>1-_-0</td>\n",
       "      <td>12</td>\n",
       "    </tr>\n",
       "    <tr>\n",
       "      <th>12</th>\n",
       "      <td>3</td>\n",
       "      <td>Fall 2016</td>\n",
       "      <td>1</td>\n",
       "      <td>1</td>\n",
       "      <td>0</td>\n",
       "      <td>day_type_01</td>\n",
       "      <td>weekday</td>\n",
       "      <td>time_period_01</td>\n",
       "      <td>VERY_EARLY_MORNING</td>\n",
       "      <td>MASSACHUSETTS AVE @ MEMORIAL</td>\n",
       "      <td>96</td>\n",
       "      <td>NaN</td>\n",
       "      <td>NaN</td>\n",
       "      <td>0.1</td>\n",
       "      <td>1-_-0</td>\n",
       "      <td>13</td>\n",
       "    </tr>\n",
       "    <tr>\n",
       "      <th>13</th>\n",
       "      <td>3</td>\n",
       "      <td>Fall 2016</td>\n",
       "      <td>1</td>\n",
       "      <td>1</td>\n",
       "      <td>0</td>\n",
       "      <td>day_type_01</td>\n",
       "      <td>weekday</td>\n",
       "      <td>time_period_01</td>\n",
       "      <td>VERY_EARLY_MORNING</td>\n",
       "      <td>77 MASSACHUSETTS AVE</td>\n",
       "      <td>97</td>\n",
       "      <td>NaN</td>\n",
       "      <td>NaN</td>\n",
       "      <td>1.7</td>\n",
       "      <td>1-_-0</td>\n",
       "      <td>14</td>\n",
       "    </tr>\n",
       "    <tr>\n",
       "      <th>14</th>\n",
       "      <td>3</td>\n",
       "      <td>Fall 2016</td>\n",
       "      <td>1</td>\n",
       "      <td>1</td>\n",
       "      <td>0</td>\n",
       "      <td>day_type_01</td>\n",
       "      <td>weekday</td>\n",
       "      <td>time_period_01</td>\n",
       "      <td>VERY_EARLY_MORNING</td>\n",
       "      <td>MASSACHUSETTS AVE @ ALBANY ST</td>\n",
       "      <td>99</td>\n",
       "      <td>NaN</td>\n",
       "      <td>NaN</td>\n",
       "      <td>0.6</td>\n",
       "      <td>1-_-0</td>\n",
       "      <td>15</td>\n",
       "    </tr>\n",
       "    <tr>\n",
       "      <th>15</th>\n",
       "      <td>3</td>\n",
       "      <td>Fall 2016</td>\n",
       "      <td>1</td>\n",
       "      <td>1</td>\n",
       "      <td>0</td>\n",
       "      <td>day_type_01</td>\n",
       "      <td>weekday</td>\n",
       "      <td>time_period_01</td>\n",
       "      <td>VERY_EARLY_MORNING</td>\n",
       "      <td>MASSACHUSETTS AVE @ SIDNEY ST</td>\n",
       "      <td>101</td>\n",
       "      <td>NaN</td>\n",
       "      <td>NaN</td>\n",
       "      <td>0.8</td>\n",
       "      <td>1-_-0</td>\n",
       "      <td>16</td>\n",
       "    </tr>\n",
       "    <tr>\n",
       "      <th>16</th>\n",
       "      <td>3</td>\n",
       "      <td>Fall 2016</td>\n",
       "      <td>1</td>\n",
       "      <td>1</td>\n",
       "      <td>0</td>\n",
       "      <td>day_type_01</td>\n",
       "      <td>weekday</td>\n",
       "      <td>time_period_01</td>\n",
       "      <td>VERY_EARLY_MORNING</td>\n",
       "      <td>MASSACHUSETTS AVE @ PROSPECT</td>\n",
       "      <td>102</td>\n",
       "      <td>NaN</td>\n",
       "      <td>NaN</td>\n",
       "      <td>3.3</td>\n",
       "      <td>1-_-0</td>\n",
       "      <td>17</td>\n",
       "    </tr>\n",
       "    <tr>\n",
       "      <th>17</th>\n",
       "      <td>3</td>\n",
       "      <td>Fall 2016</td>\n",
       "      <td>1</td>\n",
       "      <td>1</td>\n",
       "      <td>0</td>\n",
       "      <td>day_type_01</td>\n",
       "      <td>weekday</td>\n",
       "      <td>time_period_01</td>\n",
       "      <td>VERY_EARLY_MORNING</td>\n",
       "      <td>MASSACHUSETTS AVE @ BIGELOW S</td>\n",
       "      <td>104</td>\n",
       "      <td>NaN</td>\n",
       "      <td>NaN</td>\n",
       "      <td>0.4</td>\n",
       "      <td>1-_-0</td>\n",
       "      <td>18</td>\n",
       "    </tr>\n",
       "    <tr>\n",
       "      <th>18</th>\n",
       "      <td>3</td>\n",
       "      <td>Fall 2016</td>\n",
       "      <td>1</td>\n",
       "      <td>1</td>\n",
       "      <td>0</td>\n",
       "      <td>day_type_01</td>\n",
       "      <td>weekday</td>\n",
       "      <td>time_period_01</td>\n",
       "      <td>VERY_EARLY_MORNING</td>\n",
       "      <td>MASSACHUSETTS AVE @ HANCOCK S</td>\n",
       "      <td>106</td>\n",
       "      <td>NaN</td>\n",
       "      <td>NaN</td>\n",
       "      <td>0.1</td>\n",
       "      <td>1-_-0</td>\n",
       "      <td>19</td>\n",
       "    </tr>\n",
       "    <tr>\n",
       "      <th>19</th>\n",
       "      <td>3</td>\n",
       "      <td>Fall 2016</td>\n",
       "      <td>1</td>\n",
       "      <td>1</td>\n",
       "      <td>0</td>\n",
       "      <td>day_type_01</td>\n",
       "      <td>weekday</td>\n",
       "      <td>time_period_01</td>\n",
       "      <td>VERY_EARLY_MORNING</td>\n",
       "      <td>MASSACHUSETTS AVE @ DANA ST</td>\n",
       "      <td>107</td>\n",
       "      <td>NaN</td>\n",
       "      <td>NaN</td>\n",
       "      <td>0.2</td>\n",
       "      <td>1-_-0</td>\n",
       "      <td>20</td>\n",
       "    </tr>\n",
       "    <tr>\n",
       "      <th>20</th>\n",
       "      <td>3</td>\n",
       "      <td>Fall 2016</td>\n",
       "      <td>1</td>\n",
       "      <td>1</td>\n",
       "      <td>0</td>\n",
       "      <td>day_type_01</td>\n",
       "      <td>weekday</td>\n",
       "      <td>time_period_01</td>\n",
       "      <td>VERY_EARLY_MORNING</td>\n",
       "      <td>MASSACHUSETTS AVE @ TROWBRIDG</td>\n",
       "      <td>108</td>\n",
       "      <td>NaN</td>\n",
       "      <td>NaN</td>\n",
       "      <td>0.0</td>\n",
       "      <td>1-_-0</td>\n",
       "      <td>21</td>\n",
       "    </tr>\n",
       "    <tr>\n",
       "      <th>21</th>\n",
       "      <td>3</td>\n",
       "      <td>Fall 2016</td>\n",
       "      <td>1</td>\n",
       "      <td>1</td>\n",
       "      <td>0</td>\n",
       "      <td>day_type_01</td>\n",
       "      <td>weekday</td>\n",
       "      <td>time_period_01</td>\n",
       "      <td>VERY_EARLY_MORNING</td>\n",
       "      <td>MASSACHUSETTS AVE @ BOW ST</td>\n",
       "      <td>109</td>\n",
       "      <td>NaN</td>\n",
       "      <td>NaN</td>\n",
       "      <td>0.0</td>\n",
       "      <td>1-_-0</td>\n",
       "      <td>22</td>\n",
       "    </tr>\n",
       "    <tr>\n",
       "      <th>22</th>\n",
       "      <td>3</td>\n",
       "      <td>Fall 2016</td>\n",
       "      <td>1</td>\n",
       "      <td>1</td>\n",
       "      <td>0</td>\n",
       "      <td>day_type_01</td>\n",
       "      <td>weekday</td>\n",
       "      <td>time_period_01</td>\n",
       "      <td>VERY_EARLY_MORNING</td>\n",
       "      <td>MASSACHUSETTS AVE @ HOLYOKE S</td>\n",
       "      <td>110</td>\n",
       "      <td>NaN</td>\n",
       "      <td>NaN</td>\n",
       "      <td>0.0</td>\n",
       "      <td>1-_-0</td>\n",
       "      <td>23</td>\n",
       "    </tr>\n",
       "    <tr>\n",
       "      <th>23</th>\n",
       "      <td>3</td>\n",
       "      <td>Fall 2016</td>\n",
       "      <td>1</td>\n",
       "      <td>1</td>\n",
       "      <td>0</td>\n",
       "      <td>day_type_01</td>\n",
       "      <td>weekday</td>\n",
       "      <td>time_period_01</td>\n",
       "      <td>VERY_EARLY_MORNING</td>\n",
       "      <td>MASSACHUSETTS AVE @ MASSACHUS</td>\n",
       "      <td>188</td>\n",
       "      <td>NaN</td>\n",
       "      <td>NaN</td>\n",
       "      <td>9.5</td>\n",
       "      <td>1-_-0</td>\n",
       "      <td>24</td>\n",
       "    </tr>\n",
       "    <tr>\n",
       "      <th>24</th>\n",
       "      <td>3</td>\n",
       "      <td>Fall 2016</td>\n",
       "      <td>1</td>\n",
       "      <td>1</td>\n",
       "      <td>0</td>\n",
       "      <td>day_type_01</td>\n",
       "      <td>weekday</td>\n",
       "      <td>time_period_01</td>\n",
       "      <td>VERY_EARLY_MORNING</td>\n",
       "      <td>ALBANY ST OPP RANDALL ST</td>\n",
       "      <td>10003</td>\n",
       "      <td>NaN</td>\n",
       "      <td>NaN</td>\n",
       "      <td>1.2</td>\n",
       "      <td>1-_-0</td>\n",
       "      <td>25</td>\n",
       "    </tr>\n",
       "    <tr>\n",
       "      <th>25</th>\n",
       "      <td>3</td>\n",
       "      <td>Fall 2016</td>\n",
       "      <td>1</td>\n",
       "      <td>1</td>\n",
       "      <td>0</td>\n",
       "      <td>day_type_01</td>\n",
       "      <td>weekday</td>\n",
       "      <td>time_period_01</td>\n",
       "      <td>VERY_EARLY_MORNING</td>\n",
       "      <td>MASSACHUSETTS AVE @ WASHINGTO</td>\n",
       "      <td>10590</td>\n",
       "      <td>NaN</td>\n",
       "      <td>NaN</td>\n",
       "      <td>12.1</td>\n",
       "      <td>1-_-0</td>\n",
       "      <td>26</td>\n",
       "    </tr>\n",
       "    <tr>\n",
       "      <th>26</th>\n",
       "      <td>3</td>\n",
       "      <td>Fall 2016</td>\n",
       "      <td>1</td>\n",
       "      <td>1</td>\n",
       "      <td>0</td>\n",
       "      <td>day_type_01</td>\n",
       "      <td>weekday</td>\n",
       "      <td>time_period_02</td>\n",
       "      <td>EARLY_AM</td>\n",
       "      <td>WASHINGTON ST OPP RUGGLES ST</td>\n",
       "      <td>1</td>\n",
       "      <td>NaN</td>\n",
       "      <td>NaN</td>\n",
       "      <td>1.8</td>\n",
       "      <td>1-_-0</td>\n",
       "      <td>27</td>\n",
       "    </tr>\n",
       "    <tr>\n",
       "      <th>27</th>\n",
       "      <td>3</td>\n",
       "      <td>Fall 2016</td>\n",
       "      <td>1</td>\n",
       "      <td>1</td>\n",
       "      <td>0</td>\n",
       "      <td>day_type_01</td>\n",
       "      <td>weekday</td>\n",
       "      <td>time_period_02</td>\n",
       "      <td>EARLY_AM</td>\n",
       "      <td>WASHINGTON ST @ MELNEA CASS B</td>\n",
       "      <td>2</td>\n",
       "      <td>NaN</td>\n",
       "      <td>NaN</td>\n",
       "      <td>1.1</td>\n",
       "      <td>1-_-0</td>\n",
       "      <td>28</td>\n",
       "    </tr>\n",
       "    <tr>\n",
       "      <th>28</th>\n",
       "      <td>3</td>\n",
       "      <td>Fall 2016</td>\n",
       "      <td>1</td>\n",
       "      <td>1</td>\n",
       "      <td>0</td>\n",
       "      <td>day_type_01</td>\n",
       "      <td>weekday</td>\n",
       "      <td>time_period_02</td>\n",
       "      <td>EARLY_AM</td>\n",
       "      <td>MELNEA CASS BLVD @ HARRISON A</td>\n",
       "      <td>6</td>\n",
       "      <td>NaN</td>\n",
       "      <td>NaN</td>\n",
       "      <td>0.6</td>\n",
       "      <td>1-_-0</td>\n",
       "      <td>29</td>\n",
       "    </tr>\n",
       "    <tr>\n",
       "      <th>29</th>\n",
       "      <td>3</td>\n",
       "      <td>Fall 2016</td>\n",
       "      <td>1</td>\n",
       "      <td>1</td>\n",
       "      <td>0</td>\n",
       "      <td>day_type_01</td>\n",
       "      <td>weekday</td>\n",
       "      <td>time_period_02</td>\n",
       "      <td>EARLY_AM</td>\n",
       "      <td>MASSACHUSETTS AVE @ ALBANY ST</td>\n",
       "      <td>57</td>\n",
       "      <td>NaN</td>\n",
       "      <td>NaN</td>\n",
       "      <td>21.9</td>\n",
       "      <td>1-_-0</td>\n",
       "      <td>30</td>\n",
       "    </tr>\n",
       "    <tr>\n",
       "      <th>...</th>\n",
       "      <td>...</td>\n",
       "      <td>...</td>\n",
       "      <td>...</td>\n",
       "      <td>...</td>\n",
       "      <td>...</td>\n",
       "      <td>...</td>\n",
       "      <td>...</td>\n",
       "      <td>...</td>\n",
       "      <td>...</td>\n",
       "      <td>...</td>\n",
       "      <td>...</td>\n",
       "      <td>...</td>\n",
       "      <td>...</td>\n",
       "      <td>...</td>\n",
       "      <td>...</td>\n",
       "      <td>...</td>\n",
       "    </tr>\n",
       "    <tr>\n",
       "      <th>411754</th>\n",
       "      <td>2</td>\n",
       "      <td>Spring 2018</td>\n",
       "      <td>CR-Worcester</td>\n",
       "      <td>Framingham/Worcester Line</td>\n",
       "      <td>1</td>\n",
       "      <td>day_type_01</td>\n",
       "      <td>weekday</td>\n",
       "      <td>time_period_08</td>\n",
       "      <td>LATE_EVENING</td>\n",
       "      <td>Lansdowne</td>\n",
       "      <td>place-WML-0025</td>\n",
       "      <td>NaN</td>\n",
       "      <td>NaN</td>\n",
       "      <td>1.0</td>\n",
       "      <td>NaN</td>\n",
       "      <td>411755</td>\n",
       "    </tr>\n",
       "    <tr>\n",
       "      <th>411755</th>\n",
       "      <td>2</td>\n",
       "      <td>Spring 2018</td>\n",
       "      <td>CR-Worcester</td>\n",
       "      <td>Framingham/Worcester Line</td>\n",
       "      <td>1</td>\n",
       "      <td>day_type_01</td>\n",
       "      <td>weekday</td>\n",
       "      <td>time_period_08</td>\n",
       "      <td>LATE_EVENING</td>\n",
       "      <td>Boston Landing</td>\n",
       "      <td>place-WML-0035</td>\n",
       "      <td>NaN</td>\n",
       "      <td>NaN</td>\n",
       "      <td>2.0</td>\n",
       "      <td>NaN</td>\n",
       "      <td>411756</td>\n",
       "    </tr>\n",
       "    <tr>\n",
       "      <th>411756</th>\n",
       "      <td>2</td>\n",
       "      <td>Spring 2018</td>\n",
       "      <td>CR-Worcester</td>\n",
       "      <td>Framingham/Worcester Line</td>\n",
       "      <td>1</td>\n",
       "      <td>day_type_01</td>\n",
       "      <td>weekday</td>\n",
       "      <td>time_period_08</td>\n",
       "      <td>LATE_EVENING</td>\n",
       "      <td>Wellesley Farms</td>\n",
       "      <td>place-WML-0125</td>\n",
       "      <td>NaN</td>\n",
       "      <td>NaN</td>\n",
       "      <td>0.0</td>\n",
       "      <td>NaN</td>\n",
       "      <td>411757</td>\n",
       "    </tr>\n",
       "    <tr>\n",
       "      <th>411757</th>\n",
       "      <td>2</td>\n",
       "      <td>Spring 2018</td>\n",
       "      <td>CR-Worcester</td>\n",
       "      <td>Framingham/Worcester Line</td>\n",
       "      <td>1</td>\n",
       "      <td>day_type_01</td>\n",
       "      <td>weekday</td>\n",
       "      <td>time_period_08</td>\n",
       "      <td>LATE_EVENING</td>\n",
       "      <td>Wellesley Hills</td>\n",
       "      <td>place-WML-0135</td>\n",
       "      <td>NaN</td>\n",
       "      <td>NaN</td>\n",
       "      <td>0.0</td>\n",
       "      <td>NaN</td>\n",
       "      <td>411758</td>\n",
       "    </tr>\n",
       "    <tr>\n",
       "      <th>411758</th>\n",
       "      <td>2</td>\n",
       "      <td>Spring 2018</td>\n",
       "      <td>CR-Worcester</td>\n",
       "      <td>Framingham/Worcester Line</td>\n",
       "      <td>1</td>\n",
       "      <td>day_type_01</td>\n",
       "      <td>weekday</td>\n",
       "      <td>time_period_08</td>\n",
       "      <td>LATE_EVENING</td>\n",
       "      <td>Wellesley Square</td>\n",
       "      <td>place-WML-0147</td>\n",
       "      <td>NaN</td>\n",
       "      <td>NaN</td>\n",
       "      <td>0.0</td>\n",
       "      <td>NaN</td>\n",
       "      <td>411759</td>\n",
       "    </tr>\n",
       "    <tr>\n",
       "      <th>411759</th>\n",
       "      <td>2</td>\n",
       "      <td>Spring 2018</td>\n",
       "      <td>CR-Worcester</td>\n",
       "      <td>Framingham/Worcester Line</td>\n",
       "      <td>1</td>\n",
       "      <td>day_type_01</td>\n",
       "      <td>weekday</td>\n",
       "      <td>time_period_08</td>\n",
       "      <td>LATE_EVENING</td>\n",
       "      <td>Natick Center</td>\n",
       "      <td>place-WML-0177</td>\n",
       "      <td>NaN</td>\n",
       "      <td>NaN</td>\n",
       "      <td>1.0</td>\n",
       "      <td>NaN</td>\n",
       "      <td>411760</td>\n",
       "    </tr>\n",
       "    <tr>\n",
       "      <th>411760</th>\n",
       "      <td>2</td>\n",
       "      <td>Spring 2018</td>\n",
       "      <td>CR-Worcester</td>\n",
       "      <td>Framingham/Worcester Line</td>\n",
       "      <td>1</td>\n",
       "      <td>day_type_01</td>\n",
       "      <td>weekday</td>\n",
       "      <td>time_period_08</td>\n",
       "      <td>LATE_EVENING</td>\n",
       "      <td>West Natick</td>\n",
       "      <td>place-WML-0199</td>\n",
       "      <td>NaN</td>\n",
       "      <td>NaN</td>\n",
       "      <td>0.0</td>\n",
       "      <td>NaN</td>\n",
       "      <td>411761</td>\n",
       "    </tr>\n",
       "    <tr>\n",
       "      <th>411761</th>\n",
       "      <td>2</td>\n",
       "      <td>Spring 2018</td>\n",
       "      <td>CR-Worcester</td>\n",
       "      <td>Framingham/Worcester Line</td>\n",
       "      <td>1</td>\n",
       "      <td>day_type_01</td>\n",
       "      <td>weekday</td>\n",
       "      <td>time_period_08</td>\n",
       "      <td>LATE_EVENING</td>\n",
       "      <td>Framingham</td>\n",
       "      <td>place-WML-0214</td>\n",
       "      <td>NaN</td>\n",
       "      <td>NaN</td>\n",
       "      <td>2.0</td>\n",
       "      <td>NaN</td>\n",
       "      <td>411762</td>\n",
       "    </tr>\n",
       "    <tr>\n",
       "      <th>411762</th>\n",
       "      <td>2</td>\n",
       "      <td>Spring 2018</td>\n",
       "      <td>CR-Worcester</td>\n",
       "      <td>Framingham/Worcester Line</td>\n",
       "      <td>1</td>\n",
       "      <td>day_type_01</td>\n",
       "      <td>weekday</td>\n",
       "      <td>time_period_08</td>\n",
       "      <td>LATE_EVENING</td>\n",
       "      <td>Ashland</td>\n",
       "      <td>place-WML-0252</td>\n",
       "      <td>NaN</td>\n",
       "      <td>NaN</td>\n",
       "      <td>2.0</td>\n",
       "      <td>NaN</td>\n",
       "      <td>411763</td>\n",
       "    </tr>\n",
       "    <tr>\n",
       "      <th>411763</th>\n",
       "      <td>2</td>\n",
       "      <td>Spring 2018</td>\n",
       "      <td>CR-Worcester</td>\n",
       "      <td>Framingham/Worcester Line</td>\n",
       "      <td>1</td>\n",
       "      <td>day_type_01</td>\n",
       "      <td>weekday</td>\n",
       "      <td>time_period_08</td>\n",
       "      <td>LATE_EVENING</td>\n",
       "      <td>Southborough</td>\n",
       "      <td>place-WML-0274</td>\n",
       "      <td>NaN</td>\n",
       "      <td>NaN</td>\n",
       "      <td>2.0</td>\n",
       "      <td>NaN</td>\n",
       "      <td>411764</td>\n",
       "    </tr>\n",
       "    <tr>\n",
       "      <th>411764</th>\n",
       "      <td>2</td>\n",
       "      <td>Spring 2018</td>\n",
       "      <td>CR-Worcester</td>\n",
       "      <td>Framingham/Worcester Line</td>\n",
       "      <td>1</td>\n",
       "      <td>day_type_01</td>\n",
       "      <td>weekday</td>\n",
       "      <td>time_period_08</td>\n",
       "      <td>LATE_EVENING</td>\n",
       "      <td>Westborough</td>\n",
       "      <td>place-WML-0340</td>\n",
       "      <td>NaN</td>\n",
       "      <td>NaN</td>\n",
       "      <td>0.0</td>\n",
       "      <td>NaN</td>\n",
       "      <td>411765</td>\n",
       "    </tr>\n",
       "    <tr>\n",
       "      <th>411765</th>\n",
       "      <td>2</td>\n",
       "      <td>Spring 2018</td>\n",
       "      <td>CR-Worcester</td>\n",
       "      <td>Framingham/Worcester Line</td>\n",
       "      <td>1</td>\n",
       "      <td>day_type_01</td>\n",
       "      <td>weekday</td>\n",
       "      <td>time_period_08</td>\n",
       "      <td>LATE_EVENING</td>\n",
       "      <td>Grafton</td>\n",
       "      <td>place-WML-0364</td>\n",
       "      <td>NaN</td>\n",
       "      <td>NaN</td>\n",
       "      <td>0.0</td>\n",
       "      <td>NaN</td>\n",
       "      <td>411766</td>\n",
       "    </tr>\n",
       "    <tr>\n",
       "      <th>411766</th>\n",
       "      <td>2</td>\n",
       "      <td>Spring 2018</td>\n",
       "      <td>CR-Worcester</td>\n",
       "      <td>Framingham/Worcester Line</td>\n",
       "      <td>1</td>\n",
       "      <td>day_type_01</td>\n",
       "      <td>weekday</td>\n",
       "      <td>time_period_08</td>\n",
       "      <td>LATE_EVENING</td>\n",
       "      <td>Worcester</td>\n",
       "      <td>place-WML-0442</td>\n",
       "      <td>NaN</td>\n",
       "      <td>NaN</td>\n",
       "      <td>6.0</td>\n",
       "      <td>NaN</td>\n",
       "      <td>411767</td>\n",
       "    </tr>\n",
       "    <tr>\n",
       "      <th>411767</th>\n",
       "      <td>2</td>\n",
       "      <td>Spring 2018</td>\n",
       "      <td>CR-Worcester</td>\n",
       "      <td>Framingham/Worcester Line</td>\n",
       "      <td>1</td>\n",
       "      <td>day_type_01</td>\n",
       "      <td>weekday</td>\n",
       "      <td>time_period_09</td>\n",
       "      <td>NIGHT</td>\n",
       "      <td>Back Bay</td>\n",
       "      <td>place-bbsta</td>\n",
       "      <td>NaN</td>\n",
       "      <td>NaN</td>\n",
       "      <td>0.0</td>\n",
       "      <td>NaN</td>\n",
       "      <td>411768</td>\n",
       "    </tr>\n",
       "    <tr>\n",
       "      <th>411768</th>\n",
       "      <td>2</td>\n",
       "      <td>Spring 2018</td>\n",
       "      <td>CR-Worcester</td>\n",
       "      <td>Framingham/Worcester Line</td>\n",
       "      <td>1</td>\n",
       "      <td>day_type_01</td>\n",
       "      <td>weekday</td>\n",
       "      <td>time_period_09</td>\n",
       "      <td>NIGHT</td>\n",
       "      <td>Lansdowne</td>\n",
       "      <td>place-WML-0025</td>\n",
       "      <td>NaN</td>\n",
       "      <td>NaN</td>\n",
       "      <td>0.0</td>\n",
       "      <td>NaN</td>\n",
       "      <td>411769</td>\n",
       "    </tr>\n",
       "    <tr>\n",
       "      <th>411769</th>\n",
       "      <td>2</td>\n",
       "      <td>Spring 2018</td>\n",
       "      <td>CR-Worcester</td>\n",
       "      <td>Framingham/Worcester Line</td>\n",
       "      <td>1</td>\n",
       "      <td>day_type_01</td>\n",
       "      <td>weekday</td>\n",
       "      <td>time_period_09</td>\n",
       "      <td>NIGHT</td>\n",
       "      <td>Boston Landing</td>\n",
       "      <td>place-WML-0035</td>\n",
       "      <td>NaN</td>\n",
       "      <td>NaN</td>\n",
       "      <td>0.0</td>\n",
       "      <td>NaN</td>\n",
       "      <td>411770</td>\n",
       "    </tr>\n",
       "    <tr>\n",
       "      <th>411770</th>\n",
       "      <td>2</td>\n",
       "      <td>Spring 2018</td>\n",
       "      <td>CR-Worcester</td>\n",
       "      <td>Framingham/Worcester Line</td>\n",
       "      <td>1</td>\n",
       "      <td>day_type_01</td>\n",
       "      <td>weekday</td>\n",
       "      <td>time_period_09</td>\n",
       "      <td>NIGHT</td>\n",
       "      <td>Newtonville</td>\n",
       "      <td>place-WML-0081</td>\n",
       "      <td>NaN</td>\n",
       "      <td>NaN</td>\n",
       "      <td>0.0</td>\n",
       "      <td>NaN</td>\n",
       "      <td>411771</td>\n",
       "    </tr>\n",
       "    <tr>\n",
       "      <th>411771</th>\n",
       "      <td>2</td>\n",
       "      <td>Spring 2018</td>\n",
       "      <td>CR-Worcester</td>\n",
       "      <td>Framingham/Worcester Line</td>\n",
       "      <td>1</td>\n",
       "      <td>day_type_01</td>\n",
       "      <td>weekday</td>\n",
       "      <td>time_period_09</td>\n",
       "      <td>NIGHT</td>\n",
       "      <td>West Newton</td>\n",
       "      <td>place-WML-0091</td>\n",
       "      <td>NaN</td>\n",
       "      <td>NaN</td>\n",
       "      <td>0.0</td>\n",
       "      <td>NaN</td>\n",
       "      <td>411772</td>\n",
       "    </tr>\n",
       "    <tr>\n",
       "      <th>411772</th>\n",
       "      <td>2</td>\n",
       "      <td>Spring 2018</td>\n",
       "      <td>CR-Worcester</td>\n",
       "      <td>Framingham/Worcester Line</td>\n",
       "      <td>1</td>\n",
       "      <td>day_type_01</td>\n",
       "      <td>weekday</td>\n",
       "      <td>time_period_09</td>\n",
       "      <td>NIGHT</td>\n",
       "      <td>Auburndale</td>\n",
       "      <td>place-WML-0102</td>\n",
       "      <td>NaN</td>\n",
       "      <td>NaN</td>\n",
       "      <td>0.0</td>\n",
       "      <td>NaN</td>\n",
       "      <td>411773</td>\n",
       "    </tr>\n",
       "    <tr>\n",
       "      <th>411773</th>\n",
       "      <td>2</td>\n",
       "      <td>Spring 2018</td>\n",
       "      <td>CR-Worcester</td>\n",
       "      <td>Framingham/Worcester Line</td>\n",
       "      <td>1</td>\n",
       "      <td>day_type_01</td>\n",
       "      <td>weekday</td>\n",
       "      <td>time_period_09</td>\n",
       "      <td>NIGHT</td>\n",
       "      <td>Wellesley Farms</td>\n",
       "      <td>place-WML-0125</td>\n",
       "      <td>NaN</td>\n",
       "      <td>NaN</td>\n",
       "      <td>0.0</td>\n",
       "      <td>NaN</td>\n",
       "      <td>411774</td>\n",
       "    </tr>\n",
       "    <tr>\n",
       "      <th>411774</th>\n",
       "      <td>2</td>\n",
       "      <td>Spring 2018</td>\n",
       "      <td>CR-Worcester</td>\n",
       "      <td>Framingham/Worcester Line</td>\n",
       "      <td>1</td>\n",
       "      <td>day_type_01</td>\n",
       "      <td>weekday</td>\n",
       "      <td>time_period_09</td>\n",
       "      <td>NIGHT</td>\n",
       "      <td>Wellesley Hills</td>\n",
       "      <td>place-WML-0135</td>\n",
       "      <td>NaN</td>\n",
       "      <td>NaN</td>\n",
       "      <td>0.0</td>\n",
       "      <td>NaN</td>\n",
       "      <td>411775</td>\n",
       "    </tr>\n",
       "    <tr>\n",
       "      <th>411775</th>\n",
       "      <td>2</td>\n",
       "      <td>Spring 2018</td>\n",
       "      <td>CR-Worcester</td>\n",
       "      <td>Framingham/Worcester Line</td>\n",
       "      <td>1</td>\n",
       "      <td>day_type_01</td>\n",
       "      <td>weekday</td>\n",
       "      <td>time_period_09</td>\n",
       "      <td>NIGHT</td>\n",
       "      <td>Wellesley Square</td>\n",
       "      <td>place-WML-0147</td>\n",
       "      <td>NaN</td>\n",
       "      <td>NaN</td>\n",
       "      <td>0.0</td>\n",
       "      <td>NaN</td>\n",
       "      <td>411776</td>\n",
       "    </tr>\n",
       "    <tr>\n",
       "      <th>411776</th>\n",
       "      <td>2</td>\n",
       "      <td>Spring 2018</td>\n",
       "      <td>CR-Worcester</td>\n",
       "      <td>Framingham/Worcester Line</td>\n",
       "      <td>1</td>\n",
       "      <td>day_type_01</td>\n",
       "      <td>weekday</td>\n",
       "      <td>time_period_09</td>\n",
       "      <td>NIGHT</td>\n",
       "      <td>Natick Center</td>\n",
       "      <td>place-WML-0177</td>\n",
       "      <td>NaN</td>\n",
       "      <td>NaN</td>\n",
       "      <td>0.0</td>\n",
       "      <td>NaN</td>\n",
       "      <td>411777</td>\n",
       "    </tr>\n",
       "    <tr>\n",
       "      <th>411777</th>\n",
       "      <td>2</td>\n",
       "      <td>Spring 2018</td>\n",
       "      <td>CR-Worcester</td>\n",
       "      <td>Framingham/Worcester Line</td>\n",
       "      <td>1</td>\n",
       "      <td>day_type_01</td>\n",
       "      <td>weekday</td>\n",
       "      <td>time_period_09</td>\n",
       "      <td>NIGHT</td>\n",
       "      <td>West Natick</td>\n",
       "      <td>place-WML-0199</td>\n",
       "      <td>NaN</td>\n",
       "      <td>NaN</td>\n",
       "      <td>0.0</td>\n",
       "      <td>NaN</td>\n",
       "      <td>411778</td>\n",
       "    </tr>\n",
       "    <tr>\n",
       "      <th>411778</th>\n",
       "      <td>2</td>\n",
       "      <td>Spring 2018</td>\n",
       "      <td>CR-Worcester</td>\n",
       "      <td>Framingham/Worcester Line</td>\n",
       "      <td>1</td>\n",
       "      <td>day_type_01</td>\n",
       "      <td>weekday</td>\n",
       "      <td>time_period_09</td>\n",
       "      <td>NIGHT</td>\n",
       "      <td>Framingham</td>\n",
       "      <td>place-WML-0214</td>\n",
       "      <td>NaN</td>\n",
       "      <td>NaN</td>\n",
       "      <td>0.0</td>\n",
       "      <td>NaN</td>\n",
       "      <td>411779</td>\n",
       "    </tr>\n",
       "    <tr>\n",
       "      <th>411779</th>\n",
       "      <td>2</td>\n",
       "      <td>Spring 2018</td>\n",
       "      <td>CR-Worcester</td>\n",
       "      <td>Framingham/Worcester Line</td>\n",
       "      <td>1</td>\n",
       "      <td>day_type_01</td>\n",
       "      <td>weekday</td>\n",
       "      <td>time_period_09</td>\n",
       "      <td>NIGHT</td>\n",
       "      <td>Ashland</td>\n",
       "      <td>place-WML-0252</td>\n",
       "      <td>NaN</td>\n",
       "      <td>NaN</td>\n",
       "      <td>0.0</td>\n",
       "      <td>NaN</td>\n",
       "      <td>411780</td>\n",
       "    </tr>\n",
       "    <tr>\n",
       "      <th>411780</th>\n",
       "      <td>2</td>\n",
       "      <td>Spring 2018</td>\n",
       "      <td>CR-Worcester</td>\n",
       "      <td>Framingham/Worcester Line</td>\n",
       "      <td>1</td>\n",
       "      <td>day_type_01</td>\n",
       "      <td>weekday</td>\n",
       "      <td>time_period_09</td>\n",
       "      <td>NIGHT</td>\n",
       "      <td>Southborough</td>\n",
       "      <td>place-WML-0274</td>\n",
       "      <td>NaN</td>\n",
       "      <td>NaN</td>\n",
       "      <td>0.0</td>\n",
       "      <td>NaN</td>\n",
       "      <td>411781</td>\n",
       "    </tr>\n",
       "    <tr>\n",
       "      <th>411781</th>\n",
       "      <td>2</td>\n",
       "      <td>Spring 2018</td>\n",
       "      <td>CR-Worcester</td>\n",
       "      <td>Framingham/Worcester Line</td>\n",
       "      <td>1</td>\n",
       "      <td>day_type_01</td>\n",
       "      <td>weekday</td>\n",
       "      <td>time_period_09</td>\n",
       "      <td>NIGHT</td>\n",
       "      <td>Westborough</td>\n",
       "      <td>place-WML-0340</td>\n",
       "      <td>NaN</td>\n",
       "      <td>NaN</td>\n",
       "      <td>0.0</td>\n",
       "      <td>NaN</td>\n",
       "      <td>411782</td>\n",
       "    </tr>\n",
       "    <tr>\n",
       "      <th>411782</th>\n",
       "      <td>2</td>\n",
       "      <td>Spring 2018</td>\n",
       "      <td>CR-Worcester</td>\n",
       "      <td>Framingham/Worcester Line</td>\n",
       "      <td>1</td>\n",
       "      <td>day_type_01</td>\n",
       "      <td>weekday</td>\n",
       "      <td>time_period_09</td>\n",
       "      <td>NIGHT</td>\n",
       "      <td>Grafton</td>\n",
       "      <td>place-WML-0364</td>\n",
       "      <td>NaN</td>\n",
       "      <td>NaN</td>\n",
       "      <td>1.0</td>\n",
       "      <td>NaN</td>\n",
       "      <td>411783</td>\n",
       "    </tr>\n",
       "    <tr>\n",
       "      <th>411783</th>\n",
       "      <td>2</td>\n",
       "      <td>Spring 2018</td>\n",
       "      <td>CR-Worcester</td>\n",
       "      <td>Framingham/Worcester Line</td>\n",
       "      <td>1</td>\n",
       "      <td>day_type_01</td>\n",
       "      <td>weekday</td>\n",
       "      <td>time_period_09</td>\n",
       "      <td>NIGHT</td>\n",
       "      <td>Worcester</td>\n",
       "      <td>place-WML-0442</td>\n",
       "      <td>NaN</td>\n",
       "      <td>NaN</td>\n",
       "      <td>3.0</td>\n",
       "      <td>NaN</td>\n",
       "      <td>411784</td>\n",
       "    </tr>\n",
       "  </tbody>\n",
       "</table>\n",
       "<p>411784 rows × 16 columns</p>\n",
       "</div>"
      ],
      "text/plain": [
       "        mode       season      route_id                 route_name  \\\n",
       "0          3    Fall 2016             1                          1   \n",
       "1          3    Fall 2016             1                          1   \n",
       "2          3    Fall 2016             1                          1   \n",
       "3          3    Fall 2016             1                          1   \n",
       "4          3    Fall 2016             1                          1   \n",
       "5          3    Fall 2016             1                          1   \n",
       "6          3    Fall 2016             1                          1   \n",
       "7          3    Fall 2016             1                          1   \n",
       "8          3    Fall 2016             1                          1   \n",
       "9          3    Fall 2016             1                          1   \n",
       "10         3    Fall 2016             1                          1   \n",
       "11         3    Fall 2016             1                          1   \n",
       "12         3    Fall 2016             1                          1   \n",
       "13         3    Fall 2016             1                          1   \n",
       "14         3    Fall 2016             1                          1   \n",
       "15         3    Fall 2016             1                          1   \n",
       "16         3    Fall 2016             1                          1   \n",
       "17         3    Fall 2016             1                          1   \n",
       "18         3    Fall 2016             1                          1   \n",
       "19         3    Fall 2016             1                          1   \n",
       "20         3    Fall 2016             1                          1   \n",
       "21         3    Fall 2016             1                          1   \n",
       "22         3    Fall 2016             1                          1   \n",
       "23         3    Fall 2016             1                          1   \n",
       "24         3    Fall 2016             1                          1   \n",
       "25         3    Fall 2016             1                          1   \n",
       "26         3    Fall 2016             1                          1   \n",
       "27         3    Fall 2016             1                          1   \n",
       "28         3    Fall 2016             1                          1   \n",
       "29         3    Fall 2016             1                          1   \n",
       "...      ...          ...           ...                        ...   \n",
       "411754     2  Spring 2018  CR-Worcester  Framingham/Worcester Line   \n",
       "411755     2  Spring 2018  CR-Worcester  Framingham/Worcester Line   \n",
       "411756     2  Spring 2018  CR-Worcester  Framingham/Worcester Line   \n",
       "411757     2  Spring 2018  CR-Worcester  Framingham/Worcester Line   \n",
       "411758     2  Spring 2018  CR-Worcester  Framingham/Worcester Line   \n",
       "411759     2  Spring 2018  CR-Worcester  Framingham/Worcester Line   \n",
       "411760     2  Spring 2018  CR-Worcester  Framingham/Worcester Line   \n",
       "411761     2  Spring 2018  CR-Worcester  Framingham/Worcester Line   \n",
       "411762     2  Spring 2018  CR-Worcester  Framingham/Worcester Line   \n",
       "411763     2  Spring 2018  CR-Worcester  Framingham/Worcester Line   \n",
       "411764     2  Spring 2018  CR-Worcester  Framingham/Worcester Line   \n",
       "411765     2  Spring 2018  CR-Worcester  Framingham/Worcester Line   \n",
       "411766     2  Spring 2018  CR-Worcester  Framingham/Worcester Line   \n",
       "411767     2  Spring 2018  CR-Worcester  Framingham/Worcester Line   \n",
       "411768     2  Spring 2018  CR-Worcester  Framingham/Worcester Line   \n",
       "411769     2  Spring 2018  CR-Worcester  Framingham/Worcester Line   \n",
       "411770     2  Spring 2018  CR-Worcester  Framingham/Worcester Line   \n",
       "411771     2  Spring 2018  CR-Worcester  Framingham/Worcester Line   \n",
       "411772     2  Spring 2018  CR-Worcester  Framingham/Worcester Line   \n",
       "411773     2  Spring 2018  CR-Worcester  Framingham/Worcester Line   \n",
       "411774     2  Spring 2018  CR-Worcester  Framingham/Worcester Line   \n",
       "411775     2  Spring 2018  CR-Worcester  Framingham/Worcester Line   \n",
       "411776     2  Spring 2018  CR-Worcester  Framingham/Worcester Line   \n",
       "411777     2  Spring 2018  CR-Worcester  Framingham/Worcester Line   \n",
       "411778     2  Spring 2018  CR-Worcester  Framingham/Worcester Line   \n",
       "411779     2  Spring 2018  CR-Worcester  Framingham/Worcester Line   \n",
       "411780     2  Spring 2018  CR-Worcester  Framingham/Worcester Line   \n",
       "411781     2  Spring 2018  CR-Worcester  Framingham/Worcester Line   \n",
       "411782     2  Spring 2018  CR-Worcester  Framingham/Worcester Line   \n",
       "411783     2  Spring 2018  CR-Worcester  Framingham/Worcester Line   \n",
       "\n",
       "        direction_id  day_type_id day_type_name  time_period_id  \\\n",
       "0                  0  day_type_01       weekday  time_period_01   \n",
       "1                  0  day_type_01       weekday  time_period_01   \n",
       "2                  0  day_type_01       weekday  time_period_01   \n",
       "3                  0  day_type_01       weekday  time_period_01   \n",
       "4                  0  day_type_01       weekday  time_period_01   \n",
       "5                  0  day_type_01       weekday  time_period_01   \n",
       "6                  0  day_type_01       weekday  time_period_01   \n",
       "7                  0  day_type_01       weekday  time_period_01   \n",
       "8                  0  day_type_01       weekday  time_period_01   \n",
       "9                  0  day_type_01       weekday  time_period_01   \n",
       "10                 0  day_type_01       weekday  time_period_01   \n",
       "11                 0  day_type_01       weekday  time_period_01   \n",
       "12                 0  day_type_01       weekday  time_period_01   \n",
       "13                 0  day_type_01       weekday  time_period_01   \n",
       "14                 0  day_type_01       weekday  time_period_01   \n",
       "15                 0  day_type_01       weekday  time_period_01   \n",
       "16                 0  day_type_01       weekday  time_period_01   \n",
       "17                 0  day_type_01       weekday  time_period_01   \n",
       "18                 0  day_type_01       weekday  time_period_01   \n",
       "19                 0  day_type_01       weekday  time_period_01   \n",
       "20                 0  day_type_01       weekday  time_period_01   \n",
       "21                 0  day_type_01       weekday  time_period_01   \n",
       "22                 0  day_type_01       weekday  time_period_01   \n",
       "23                 0  day_type_01       weekday  time_period_01   \n",
       "24                 0  day_type_01       weekday  time_period_01   \n",
       "25                 0  day_type_01       weekday  time_period_01   \n",
       "26                 0  day_type_01       weekday  time_period_02   \n",
       "27                 0  day_type_01       weekday  time_period_02   \n",
       "28                 0  day_type_01       weekday  time_period_02   \n",
       "29                 0  day_type_01       weekday  time_period_02   \n",
       "...              ...          ...           ...             ...   \n",
       "411754             1  day_type_01       weekday  time_period_08   \n",
       "411755             1  day_type_01       weekday  time_period_08   \n",
       "411756             1  day_type_01       weekday  time_period_08   \n",
       "411757             1  day_type_01       weekday  time_period_08   \n",
       "411758             1  day_type_01       weekday  time_period_08   \n",
       "411759             1  day_type_01       weekday  time_period_08   \n",
       "411760             1  day_type_01       weekday  time_period_08   \n",
       "411761             1  day_type_01       weekday  time_period_08   \n",
       "411762             1  day_type_01       weekday  time_period_08   \n",
       "411763             1  day_type_01       weekday  time_period_08   \n",
       "411764             1  day_type_01       weekday  time_period_08   \n",
       "411765             1  day_type_01       weekday  time_period_08   \n",
       "411766             1  day_type_01       weekday  time_period_08   \n",
       "411767             1  day_type_01       weekday  time_period_09   \n",
       "411768             1  day_type_01       weekday  time_period_09   \n",
       "411769             1  day_type_01       weekday  time_period_09   \n",
       "411770             1  day_type_01       weekday  time_period_09   \n",
       "411771             1  day_type_01       weekday  time_period_09   \n",
       "411772             1  day_type_01       weekday  time_period_09   \n",
       "411773             1  day_type_01       weekday  time_period_09   \n",
       "411774             1  day_type_01       weekday  time_period_09   \n",
       "411775             1  day_type_01       weekday  time_period_09   \n",
       "411776             1  day_type_01       weekday  time_period_09   \n",
       "411777             1  day_type_01       weekday  time_period_09   \n",
       "411778             1  day_type_01       weekday  time_period_09   \n",
       "411779             1  day_type_01       weekday  time_period_09   \n",
       "411780             1  day_type_01       weekday  time_period_09   \n",
       "411781             1  day_type_01       weekday  time_period_09   \n",
       "411782             1  day_type_01       weekday  time_period_09   \n",
       "411783             1  day_type_01       weekday  time_period_09   \n",
       "\n",
       "          time_period_name                      stop_name         stop_id  \\\n",
       "0       VERY_EARLY_MORNING   WASHINGTON ST OPP RUGGLES ST               1   \n",
       "1       VERY_EARLY_MORNING  WASHINGTON ST @ MELNEA CASS B               2   \n",
       "2       VERY_EARLY_MORNING  MELNEA CASS BLVD @ HARRISON A               6   \n",
       "3       VERY_EARLY_MORNING  MASSACHUSETTS AVE @ ALBANY ST              57   \n",
       "4       VERY_EARLY_MORNING   MASSACHUSETTS AVE @ HARRISON              58   \n",
       "5       VERY_EARLY_MORNING                 DUDLEY STATION              64   \n",
       "6       VERY_EARLY_MORNING  MASSACHUSETTS AVE @ TREMONT S              87   \n",
       "7       VERY_EARLY_MORNING   MASSACHUSETTS AVE @ COLUMBUS              88   \n",
       "8       VERY_EARLY_MORNING  MASSACHUSETTS AVE @ ST BOTOLP              89   \n",
       "9       VERY_EARLY_MORNING   MASSACHUSETTS AVE @ CLEARWAY              91   \n",
       "10      VERY_EARLY_MORNING  MASSACHUSETTS AVE @ NEWBURY S              93   \n",
       "11      VERY_EARLY_MORNING  MASSACHUSETTS AVE @ BEACON ST              95   \n",
       "12      VERY_EARLY_MORNING   MASSACHUSETTS AVE @ MEMORIAL              96   \n",
       "13      VERY_EARLY_MORNING           77 MASSACHUSETTS AVE              97   \n",
       "14      VERY_EARLY_MORNING  MASSACHUSETTS AVE @ ALBANY ST              99   \n",
       "15      VERY_EARLY_MORNING  MASSACHUSETTS AVE @ SIDNEY ST             101   \n",
       "16      VERY_EARLY_MORNING   MASSACHUSETTS AVE @ PROSPECT             102   \n",
       "17      VERY_EARLY_MORNING  MASSACHUSETTS AVE @ BIGELOW S             104   \n",
       "18      VERY_EARLY_MORNING  MASSACHUSETTS AVE @ HANCOCK S             106   \n",
       "19      VERY_EARLY_MORNING    MASSACHUSETTS AVE @ DANA ST             107   \n",
       "20      VERY_EARLY_MORNING  MASSACHUSETTS AVE @ TROWBRIDG             108   \n",
       "21      VERY_EARLY_MORNING     MASSACHUSETTS AVE @ BOW ST             109   \n",
       "22      VERY_EARLY_MORNING  MASSACHUSETTS AVE @ HOLYOKE S             110   \n",
       "23      VERY_EARLY_MORNING  MASSACHUSETTS AVE @ MASSACHUS             188   \n",
       "24      VERY_EARLY_MORNING       ALBANY ST OPP RANDALL ST           10003   \n",
       "25      VERY_EARLY_MORNING  MASSACHUSETTS AVE @ WASHINGTO           10590   \n",
       "26                EARLY_AM   WASHINGTON ST OPP RUGGLES ST               1   \n",
       "27                EARLY_AM  WASHINGTON ST @ MELNEA CASS B               2   \n",
       "28                EARLY_AM  MELNEA CASS BLVD @ HARRISON A               6   \n",
       "29                EARLY_AM  MASSACHUSETTS AVE @ ALBANY ST              57   \n",
       "...                    ...                            ...             ...   \n",
       "411754        LATE_EVENING                      Lansdowne  place-WML-0025   \n",
       "411755        LATE_EVENING                 Boston Landing  place-WML-0035   \n",
       "411756        LATE_EVENING                Wellesley Farms  place-WML-0125   \n",
       "411757        LATE_EVENING                Wellesley Hills  place-WML-0135   \n",
       "411758        LATE_EVENING               Wellesley Square  place-WML-0147   \n",
       "411759        LATE_EVENING                  Natick Center  place-WML-0177   \n",
       "411760        LATE_EVENING                    West Natick  place-WML-0199   \n",
       "411761        LATE_EVENING                     Framingham  place-WML-0214   \n",
       "411762        LATE_EVENING                        Ashland  place-WML-0252   \n",
       "411763        LATE_EVENING                   Southborough  place-WML-0274   \n",
       "411764        LATE_EVENING                    Westborough  place-WML-0340   \n",
       "411765        LATE_EVENING                        Grafton  place-WML-0364   \n",
       "411766        LATE_EVENING                      Worcester  place-WML-0442   \n",
       "411767               NIGHT                       Back Bay     place-bbsta   \n",
       "411768               NIGHT                      Lansdowne  place-WML-0025   \n",
       "411769               NIGHT                 Boston Landing  place-WML-0035   \n",
       "411770               NIGHT                    Newtonville  place-WML-0081   \n",
       "411771               NIGHT                    West Newton  place-WML-0091   \n",
       "411772               NIGHT                     Auburndale  place-WML-0102   \n",
       "411773               NIGHT                Wellesley Farms  place-WML-0125   \n",
       "411774               NIGHT                Wellesley Hills  place-WML-0135   \n",
       "411775               NIGHT               Wellesley Square  place-WML-0147   \n",
       "411776               NIGHT                  Natick Center  place-WML-0177   \n",
       "411777               NIGHT                    West Natick  place-WML-0199   \n",
       "411778               NIGHT                     Framingham  place-WML-0214   \n",
       "411779               NIGHT                        Ashland  place-WML-0252   \n",
       "411780               NIGHT                   Southborough  place-WML-0274   \n",
       "411781               NIGHT                    Westborough  place-WML-0340   \n",
       "411782               NIGHT                        Grafton  place-WML-0364   \n",
       "411783               NIGHT                      Worcester  place-WML-0442   \n",
       "\n",
       "        total_ridership  number_service_days  average_ridership  \\\n",
       "0                   NaN                  NaN                0.4   \n",
       "1                   NaN                  NaN                0.7   \n",
       "2                   NaN                  NaN                0.2   \n",
       "3                   NaN                  NaN               10.3   \n",
       "4                   NaN                  NaN                8.9   \n",
       "5                   NaN                  NaN               75.7   \n",
       "6                   NaN                  NaN                4.1   \n",
       "7                   NaN                  NaN                0.5   \n",
       "8                   NaN                  NaN                4.2   \n",
       "9                   NaN                  NaN                2.0   \n",
       "10                  NaN                  NaN                6.8   \n",
       "11                  NaN                  NaN                1.5   \n",
       "12                  NaN                  NaN                0.1   \n",
       "13                  NaN                  NaN                1.7   \n",
       "14                  NaN                  NaN                0.6   \n",
       "15                  NaN                  NaN                0.8   \n",
       "16                  NaN                  NaN                3.3   \n",
       "17                  NaN                  NaN                0.4   \n",
       "18                  NaN                  NaN                0.1   \n",
       "19                  NaN                  NaN                0.2   \n",
       "20                  NaN                  NaN                0.0   \n",
       "21                  NaN                  NaN                0.0   \n",
       "22                  NaN                  NaN                0.0   \n",
       "23                  NaN                  NaN                9.5   \n",
       "24                  NaN                  NaN                1.2   \n",
       "25                  NaN                  NaN               12.1   \n",
       "26                  NaN                  NaN                1.8   \n",
       "27                  NaN                  NaN                1.1   \n",
       "28                  NaN                  NaN                0.6   \n",
       "29                  NaN                  NaN               21.9   \n",
       "...                 ...                  ...                ...   \n",
       "411754              NaN                  NaN                1.0   \n",
       "411755              NaN                  NaN                2.0   \n",
       "411756              NaN                  NaN                0.0   \n",
       "411757              NaN                  NaN                0.0   \n",
       "411758              NaN                  NaN                0.0   \n",
       "411759              NaN                  NaN                1.0   \n",
       "411760              NaN                  NaN                0.0   \n",
       "411761              NaN                  NaN                2.0   \n",
       "411762              NaN                  NaN                2.0   \n",
       "411763              NaN                  NaN                2.0   \n",
       "411764              NaN                  NaN                0.0   \n",
       "411765              NaN                  NaN                0.0   \n",
       "411766              NaN                  NaN                6.0   \n",
       "411767              NaN                  NaN                0.0   \n",
       "411768              NaN                  NaN                0.0   \n",
       "411769              NaN                  NaN                0.0   \n",
       "411770              NaN                  NaN                0.0   \n",
       "411771              NaN                  NaN                0.0   \n",
       "411772              NaN                  NaN                0.0   \n",
       "411773              NaN                  NaN                0.0   \n",
       "411774              NaN                  NaN                0.0   \n",
       "411775              NaN                  NaN                0.0   \n",
       "411776              NaN                  NaN                0.0   \n",
       "411777              NaN                  NaN                0.0   \n",
       "411778              NaN                  NaN                0.0   \n",
       "411779              NaN                  NaN                0.0   \n",
       "411780              NaN                  NaN                0.0   \n",
       "411781              NaN                  NaN                0.0   \n",
       "411782              NaN                  NaN                1.0   \n",
       "411783              NaN                  NaN                3.0   \n",
       "\n",
       "       bus_route_variant  ObjectId  \n",
       "0                  1-_-0         1  \n",
       "1                  1-_-0         2  \n",
       "2                  1-_-0         3  \n",
       "3                  1-_-0         4  \n",
       "4                  1-_-0         5  \n",
       "5                  1-_-0         6  \n",
       "6                  1-_-0         7  \n",
       "7                  1-_-0         8  \n",
       "8                  1-_-0         9  \n",
       "9                  1-_-0        10  \n",
       "10                 1-_-0        11  \n",
       "11                 1-_-0        12  \n",
       "12                 1-_-0        13  \n",
       "13                 1-_-0        14  \n",
       "14                 1-_-0        15  \n",
       "15                 1-_-0        16  \n",
       "16                 1-_-0        17  \n",
       "17                 1-_-0        18  \n",
       "18                 1-_-0        19  \n",
       "19                 1-_-0        20  \n",
       "20                 1-_-0        21  \n",
       "21                 1-_-0        22  \n",
       "22                 1-_-0        23  \n",
       "23                 1-_-0        24  \n",
       "24                 1-_-0        25  \n",
       "25                 1-_-0        26  \n",
       "26                 1-_-0        27  \n",
       "27                 1-_-0        28  \n",
       "28                 1-_-0        29  \n",
       "29                 1-_-0        30  \n",
       "...                  ...       ...  \n",
       "411754               NaN    411755  \n",
       "411755               NaN    411756  \n",
       "411756               NaN    411757  \n",
       "411757               NaN    411758  \n",
       "411758               NaN    411759  \n",
       "411759               NaN    411760  \n",
       "411760               NaN    411761  \n",
       "411761               NaN    411762  \n",
       "411762               NaN    411763  \n",
       "411763               NaN    411764  \n",
       "411764               NaN    411765  \n",
       "411765               NaN    411766  \n",
       "411766               NaN    411767  \n",
       "411767               NaN    411768  \n",
       "411768               NaN    411769  \n",
       "411769               NaN    411770  \n",
       "411770               NaN    411771  \n",
       "411771               NaN    411772  \n",
       "411772               NaN    411773  \n",
       "411773               NaN    411774  \n",
       "411774               NaN    411775  \n",
       "411775               NaN    411776  \n",
       "411776               NaN    411777  \n",
       "411777               NaN    411778  \n",
       "411778               NaN    411779  \n",
       "411779               NaN    411780  \n",
       "411780               NaN    411781  \n",
       "411781               NaN    411782  \n",
       "411782               NaN    411783  \n",
       "411783               NaN    411784  \n",
       "\n",
       "[411784 rows x 16 columns]"
      ]
     },
     "execution_count": 17,
     "metadata": {},
     "output_type": "execute_result"
    }
   ],
   "source": [
    "season_df"
   ]
  },
  {
   "cell_type": "code",
   "execution_count": 18,
   "metadata": {},
   "outputs": [
    {
     "data": {
      "text/plain": [
       "(411784, 16)"
      ]
     },
     "execution_count": 18,
     "metadata": {},
     "output_type": "execute_result"
    }
   ],
   "source": [
    "season_df.shape"
   ]
  },
  {
   "cell_type": "code",
   "execution_count": 19,
   "metadata": {},
   "outputs": [
    {
     "data": {
      "text/plain": [
       "406504"
      ]
     },
     "execution_count": 19,
     "metadata": {},
     "output_type": "execute_result"
    }
   ],
   "source": [
    "season_df['total_ridership'].isna().sum()"
   ]
  },
  {
   "cell_type": "code",
   "execution_count": 20,
   "metadata": {},
   "outputs": [
    {
     "data": {
      "text/plain": [
       "406504"
      ]
     },
     "execution_count": 20,
     "metadata": {},
     "output_type": "execute_result"
    }
   ],
   "source": [
    "season_df['number_service_days'].isna().sum()"
   ]
  },
  {
   "cell_type": "code",
   "execution_count": null,
   "metadata": {},
   "outputs": [],
   "source": []
  }
 ],
 "metadata": {
  "kernelspec": {
   "display_name": "Python 3",
   "language": "python",
   "name": "python3"
  },
  "language_info": {
   "codemirror_mode": {
    "name": "ipython",
    "version": 3
   },
   "file_extension": ".py",
   "mimetype": "text/x-python",
   "name": "python",
   "nbconvert_exporter": "python",
   "pygments_lexer": "ipython3",
   "version": "3.7.3"
  }
 },
 "nbformat": 4,
 "nbformat_minor": 2
}
